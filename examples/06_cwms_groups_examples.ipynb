{
 "cells": [
  {
   "cell_type": "code",
   "execution_count": null,
   "metadata": {},
   "outputs": [],
   "source": [
    "#libraries\n",
    "import os\n",
    "import pandas as pd\n",
    "# import sys\n",
    "# sys.path.insert(0,r'C:\\\\code\\\\cwms-python')\n",
    "import cwms\n",
    "from dotenv import load_dotenv\n"
   ]
  },
  {
   "cell_type": "code",
   "execution_count": 2,
   "metadata": {},
   "outputs": [],
   "source": [
    "\n",
    "# grab API variables from .env file\n",
    "load_dotenv()\n",
    "APIROOT = os.getenv(\"API_ROOT\")\n",
    "OFFICE = os.getenv(\"OFFICE\")\n",
    "APIKEY = os.getenv('API_KEY')\n",
    "# connect to T7\n",
    "apiKey = \"apikey \" + APIKEY\n",
    "api = cwms.api.init_session(api_root=APIROOT, api_key=apiKey)\n"
   ]
  },
  {
   "cell_type": "markdown",
   "metadata": {},
   "source": [
    "# Create timeseries group\n",
    "You can skip this step if your group is already created. \n",
    "You will likely only have write access to your office so your group must use your office ID. \n"
   ]
  },
  {
   "cell_type": "code",
   "execution_count": 3,
   "metadata": {},
   "outputs": [],
   "source": [
    "category_id = \"Test Category Name\"\n",
    "cat_desc = \"test cat description\"\n",
    "group_id = \"Test Group Name\"\n",
    "group_desc = \"test group description\"\n",
    "# get example json from swagger and edit\n",
    "\n",
    "\n",
    "tsGroup_data = {\n",
    "  \"office-id\": OFFICE,\n",
    "  \"id\": group_id,\n",
    "  \"time-series-category\": {\n",
    "    \"office-id\": OFFICE,\n",
    "    \"id\": category_id,\n",
    "    \"description\": cat_desc\n",
    "  },\n",
    "  \"description\": group_desc,\n",
    "#   \"shared-alias-id\": \"string\",\n",
    "#   \"shared-ref-ts-id\": \"string\",\n",
    "#   \"assigned-time-series\": [\n",
    "#     {\n",
    "#       \"officeId\": \"string\",\n",
    "#       \"timeseriesId\": \"string\",\n",
    "#       \"aliasId\": \"string\",\n",
    "#       \"refTsId\": \"string\",\n",
    "#       \"attribute\": 0\n",
    "#     }\n",
    "#   ]\n",
    "}"
   ]
  },
  {
   "cell_type": "code",
   "execution_count": 4,
   "metadata": {},
   "outputs": [],
   "source": [
    "cwms.store_timeseries_groups(data = tsGroup_data, fail_if_exists = False)"
   ]
  },
  {
   "cell_type": "code",
   "execution_count": 5,
   "metadata": {},
   "outputs": [
    {
     "data": {
      "text/plain": [
       "{'office-id': 'MVP',\n",
       " 'id': 'Test Group Name',\n",
       " 'time-series-category': {'office-id': 'MVP', 'id': 'Test Category Name'},\n",
       " 'description': 'test group description',\n",
       " 'assigned-time-series': []}"
      ]
     },
     "execution_count": 5,
     "metadata": {},
     "output_type": "execute_result"
    }
   ],
   "source": [
    "cwms.get_timeseries_group(group_id=group_id, \n",
    "                          category_id=category_id, \n",
    "                          office_id=OFFICE, \n",
    "                          category_office_id=OFFICE, \n",
    "                          group_office_id=OFFICE).json"
   ]
  },
  {
   "cell_type": "markdown",
   "metadata": {},
   "source": [
    "# Add timeseries to Group"
   ]
  },
  {
   "cell_type": "code",
   "execution_count": 6,
   "metadata": {},
   "outputs": [
    {
     "data": {
      "text/html": [
       "<div>\n",
       "<style scoped>\n",
       "    .dataframe tbody tr th:only-of-type {\n",
       "        vertical-align: middle;\n",
       "    }\n",
       "\n",
       "    .dataframe tbody tr th {\n",
       "        vertical-align: top;\n",
       "    }\n",
       "\n",
       "    .dataframe thead th {\n",
       "        text-align: right;\n",
       "    }\n",
       "</style>\n",
       "<table border=\"1\" class=\"dataframe\">\n",
       "  <thead>\n",
       "    <tr style=\"text-align: right;\">\n",
       "      <th></th>\n",
       "      <th>timeseries-id</th>\n",
       "      <th>office-id</th>\n",
       "      <th>alias</th>\n",
       "    </tr>\n",
       "  </thead>\n",
       "  <tbody>\n",
       "    <tr>\n",
       "      <th>0</th>\n",
       "      <td>Baldhill_Dam.Flow-In.Inst.~15Minutes.0.best</td>\n",
       "      <td>MVP</td>\n",
       "      <td></td>\n",
       "    </tr>\n",
       "    <tr>\n",
       "      <th>1</th>\n",
       "      <td>Baldhill_Dam.Flow-Out.Inst.~15Minutes.0.best</td>\n",
       "      <td>MVP</td>\n",
       "      <td></td>\n",
       "    </tr>\n",
       "    <tr>\n",
       "      <th>2</th>\n",
       "      <td>Baldhill_Dam.Stage.Inst.~15Minutes.0.best</td>\n",
       "      <td>MVP</td>\n",
       "      <td></td>\n",
       "    </tr>\n",
       "    <tr>\n",
       "      <th>3</th>\n",
       "      <td>Baldhill_Dam-Tailwater.Stage.Inst.~15Minutes.0...</td>\n",
       "      <td>MVP</td>\n",
       "      <td></td>\n",
       "    </tr>\n",
       "    <tr>\n",
       "      <th>4</th>\n",
       "      <td>ChippewaDiv_Dam.Flow-Out.Inst.~15Minutes.0.best</td>\n",
       "      <td>MVP</td>\n",
       "      <td></td>\n",
       "    </tr>\n",
       "    <tr>\n",
       "      <th>5</th>\n",
       "      <td>ChippewaDiv_Dam.Stage.Inst.~15Minutes.0.best</td>\n",
       "      <td>MVP</td>\n",
       "      <td></td>\n",
       "    </tr>\n",
       "    <tr>\n",
       "      <th>6</th>\n",
       "      <td>ChippewaDiv_Dam-Tailwater.Stage.Inst.~15Minute...</td>\n",
       "      <td>MVP</td>\n",
       "      <td></td>\n",
       "    </tr>\n",
       "    <tr>\n",
       "      <th>7</th>\n",
       "      <td>EauGalle_Dam.Flow-In.Inst.~15Minutes.0.best</td>\n",
       "      <td>MVP</td>\n",
       "      <td></td>\n",
       "    </tr>\n",
       "    <tr>\n",
       "      <th>8</th>\n",
       "      <td>EauGalle_Dam.Flow-Out.Inst.~15Minutes.0.best</td>\n",
       "      <td>MVP</td>\n",
       "      <td></td>\n",
       "    </tr>\n",
       "    <tr>\n",
       "      <th>9</th>\n",
       "      <td>EauGalle_Dam.Stage.Inst.~15Minutes.0.best</td>\n",
       "      <td>MVP</td>\n",
       "      <td></td>\n",
       "    </tr>\n",
       "    <tr>\n",
       "      <th>10</th>\n",
       "      <td>EauGalle_Dam-Tailwater.Stage.Inst.~15Minutes.0...</td>\n",
       "      <td>MVP</td>\n",
       "      <td></td>\n",
       "    </tr>\n",
       "  </tbody>\n",
       "</table>\n",
       "</div>"
      ],
      "text/plain": [
       "                                        timeseries-id office-id alias\n",
       "0         Baldhill_Dam.Flow-In.Inst.~15Minutes.0.best       MVP      \n",
       "1        Baldhill_Dam.Flow-Out.Inst.~15Minutes.0.best       MVP      \n",
       "2           Baldhill_Dam.Stage.Inst.~15Minutes.0.best       MVP      \n",
       "3   Baldhill_Dam-Tailwater.Stage.Inst.~15Minutes.0...       MVP      \n",
       "4     ChippewaDiv_Dam.Flow-Out.Inst.~15Minutes.0.best       MVP      \n",
       "5        ChippewaDiv_Dam.Stage.Inst.~15Minutes.0.best       MVP      \n",
       "6   ChippewaDiv_Dam-Tailwater.Stage.Inst.~15Minute...       MVP      \n",
       "7         EauGalle_Dam.Flow-In.Inst.~15Minutes.0.best       MVP      \n",
       "8        EauGalle_Dam.Flow-Out.Inst.~15Minutes.0.best       MVP      \n",
       "9           EauGalle_Dam.Stage.Inst.~15Minutes.0.best       MVP      \n",
       "10  EauGalle_Dam-Tailwater.Stage.Inst.~15Minutes.0...       MVP      "
      ]
     },
     "execution_count": 6,
     "metadata": {},
     "output_type": "execute_result"
    }
   ],
   "source": [
    "ts_to_add = '''Baldhill_Dam.Flow-In.Inst.~15Minutes.0.best\n",
    "Baldhill_Dam.Flow-Out.Inst.~15Minutes.0.best\n",
    "Baldhill_Dam.Stage.Inst.~15Minutes.0.best\n",
    "Baldhill_Dam-Tailwater.Stage.Inst.~15Minutes.0.best\n",
    "ChippewaDiv_Dam.Flow-Out.Inst.~15Minutes.0.best\n",
    "ChippewaDiv_Dam.Stage.Inst.~15Minutes.0.best\n",
    "ChippewaDiv_Dam-Tailwater.Stage.Inst.~15Minutes.0.best\n",
    "EauGalle_Dam.Flow-In.Inst.~15Minutes.0.best\n",
    "EauGalle_Dam.Flow-Out.Inst.~15Minutes.0.best\n",
    "EauGalle_Dam.Stage.Inst.~15Minutes.0.best\n",
    "EauGalle_Dam-Tailwater.Stage.Inst.~15Minutes.0.best\n",
    "                    '''\n",
    "\n",
    "data = []\n",
    "# loop through the ts ids\n",
    "for line in ts_to_add.strip().split('\\n'):\n",
    "    cleaned_line = line.strip() # Remove whitespace from the current line\n",
    "\n",
    "    if not cleaned_line: # Skip empty lines that might result from extra newlines\n",
    "        continue\n",
    "\n",
    "    ts_id = cleaned_line\n",
    "    # append data dict\n",
    "    data.append({\n",
    "        'timeseries-id': ts_id,\n",
    "        'office-id': OFFICE,\n",
    "        'alias': ''\n",
    "    })\n",
    "\n",
    "# Create the pandas DataFrame\n",
    "df = pd.DataFrame(data)\n",
    "\n",
    "df\n",
    "\n"
   ]
  },
  {
   "cell_type": "code",
   "execution_count": 7,
   "metadata": {},
   "outputs": [
    {
     "data": {
      "text/plain": [
       "{'office-id': 'MVP',\n",
       " 'id': 'Test Group Name',\n",
       " 'time-series-category': {'office-id': 'MVP', 'id': 'Test Category Name'},\n",
       " 'assigned-time-series': [{'office-id': 'MVP',\n",
       "   'timeseries-id': 'Baldhill_Dam.Flow-In.Inst.~15Minutes.0.best',\n",
       "   'alias-id': None,\n",
       "   'attribute': 0},\n",
       "  {'office-id': 'MVP',\n",
       "   'timeseries-id': 'Baldhill_Dam.Flow-Out.Inst.~15Minutes.0.best',\n",
       "   'alias-id': None,\n",
       "   'attribute': 0},\n",
       "  {'office-id': 'MVP',\n",
       "   'timeseries-id': 'Baldhill_Dam.Stage.Inst.~15Minutes.0.best',\n",
       "   'alias-id': None,\n",
       "   'attribute': 0},\n",
       "  {'office-id': 'MVP',\n",
       "   'timeseries-id': 'Baldhill_Dam-Tailwater.Stage.Inst.~15Minutes.0.best',\n",
       "   'alias-id': None,\n",
       "   'attribute': 0},\n",
       "  {'office-id': 'MVP',\n",
       "   'timeseries-id': 'ChippewaDiv_Dam.Flow-Out.Inst.~15Minutes.0.best',\n",
       "   'alias-id': None,\n",
       "   'attribute': 0},\n",
       "  {'office-id': 'MVP',\n",
       "   'timeseries-id': 'ChippewaDiv_Dam.Stage.Inst.~15Minutes.0.best',\n",
       "   'alias-id': None,\n",
       "   'attribute': 0},\n",
       "  {'office-id': 'MVP',\n",
       "   'timeseries-id': 'ChippewaDiv_Dam-Tailwater.Stage.Inst.~15Minutes.0.best',\n",
       "   'alias-id': None,\n",
       "   'attribute': 0},\n",
       "  {'office-id': 'MVP',\n",
       "   'timeseries-id': 'EauGalle_Dam.Flow-In.Inst.~15Minutes.0.best',\n",
       "   'alias-id': None,\n",
       "   'attribute': 0},\n",
       "  {'office-id': 'MVP',\n",
       "   'timeseries-id': 'EauGalle_Dam.Flow-Out.Inst.~15Minutes.0.best',\n",
       "   'alias-id': None,\n",
       "   'attribute': 0},\n",
       "  {'office-id': 'MVP',\n",
       "   'timeseries-id': 'EauGalle_Dam.Stage.Inst.~15Minutes.0.best',\n",
       "   'alias-id': None,\n",
       "   'attribute': 0},\n",
       "  {'office-id': 'MVP',\n",
       "   'timeseries-id': 'EauGalle_Dam-Tailwater.Stage.Inst.~15Minutes.0.best',\n",
       "   'alias-id': None,\n",
       "   'attribute': 0}]}"
      ]
     },
     "execution_count": 7,
     "metadata": {},
     "output_type": "execute_result"
    }
   ],
   "source": [
    "# create the json_dictionary\n",
    "json_dict = cwms.timeseries_group_df_to_json(\n",
    "                data=df,\n",
    "                group_id=group_id,\n",
    "                group_office_id=OFFICE,\n",
    "                category_office_id=OFFICE,\n",
    "                category_id=category_id,\n",
    "            )\n",
    "\n",
    "json_dict"
   ]
  },
  {
   "cell_type": "code",
   "execution_count": 8,
   "metadata": {},
   "outputs": [],
   "source": [
    "# update the group\n",
    "cwms.update_timeseries_groups(\n",
    "    group_id=group_id,\n",
    "    office_id=OFFICE,\n",
    "    replace_assigned_ts=False,\n",
    "    data=json_dict,\n",
    ")"
   ]
  },
  {
   "cell_type": "code",
   "execution_count": 9,
   "metadata": {},
   "outputs": [
    {
     "data": {
      "text/plain": [
       "{'office-id': 'MVP',\n",
       " 'id': 'Test Group Name',\n",
       " 'time-series-category': {'office-id': 'MVP', 'id': 'Test Category Name'},\n",
       " 'description': 'test group description',\n",
       " 'assigned-time-series': [{'office-id': 'MVP',\n",
       "   'timeseries-id': 'Baldhill_Dam-Tailwater.Stage.Inst.~15Minutes.0.best',\n",
       "   'attribute': 0},\n",
       "  {'office-id': 'MVP',\n",
       "   'timeseries-id': 'Baldhill_Dam.Flow-In.Inst.~15Minutes.0.best',\n",
       "   'attribute': 0},\n",
       "  {'office-id': 'MVP',\n",
       "   'timeseries-id': 'Baldhill_Dam.Flow-Out.Inst.~15Minutes.0.best',\n",
       "   'attribute': 0},\n",
       "  {'office-id': 'MVP',\n",
       "   'timeseries-id': 'Baldhill_Dam.Stage.Inst.~15Minutes.0.best',\n",
       "   'attribute': 0},\n",
       "  {'office-id': 'MVP',\n",
       "   'timeseries-id': 'EauGalle_Dam-Tailwater.Stage.Inst.~15Minutes.0.best',\n",
       "   'attribute': 0},\n",
       "  {'office-id': 'MVP',\n",
       "   'timeseries-id': 'ChippewaDiv_Dam.Stage.Inst.~15Minutes.0.best',\n",
       "   'attribute': 0},\n",
       "  {'office-id': 'MVP',\n",
       "   'timeseries-id': 'EauGalle_Dam.Flow-Out.Inst.~15Minutes.0.best',\n",
       "   'attribute': 0},\n",
       "  {'office-id': 'MVP',\n",
       "   'timeseries-id': 'EauGalle_Dam.Stage.Inst.~15Minutes.0.best',\n",
       "   'attribute': 0},\n",
       "  {'office-id': 'MVP',\n",
       "   'timeseries-id': 'ChippewaDiv_Dam-Tailwater.Stage.Inst.~15Minutes.0.best',\n",
       "   'attribute': 0},\n",
       "  {'office-id': 'MVP',\n",
       "   'timeseries-id': 'ChippewaDiv_Dam.Flow-Out.Inst.~15Minutes.0.best',\n",
       "   'attribute': 0},\n",
       "  {'office-id': 'MVP',\n",
       "   'timeseries-id': 'EauGalle_Dam.Flow-In.Inst.~15Minutes.0.best',\n",
       "   'attribute': 0}]}"
      ]
     },
     "execution_count": 9,
     "metadata": {},
     "output_type": "execute_result"
    }
   ],
   "source": [
    "cwms.get_timeseries_group(group_id=group_id, \n",
    "                          category_id=category_id, \n",
    "                          office_id=OFFICE, \n",
    "                          category_office_id=OFFICE, \n",
    "                          group_office_id=OFFICE).json"
   ]
  },
  {
   "cell_type": "markdown",
   "metadata": {},
   "source": [
    "# Delete timeseries group\n"
   ]
  },
  {
   "cell_type": "code",
   "execution_count": 10,
   "metadata": {},
   "outputs": [],
   "source": [
    "# define function of steps needed to delete group\n",
    "def delete_timeseries_group_members(group_id=str, \n",
    "                                        group_office_id=str, \n",
    "                                        category_office_id=str,\n",
    "                                        category_id=str ):\n",
    "\n",
    "    # remove all ts ids from the group\n",
    "\n",
    "\n",
    "    # create empty df\n",
    "    df = pd.DataFrame(columns= ['timeseries-id',\n",
    "                    'office-id',\n",
    "                    'alias'])  \n",
    "\n",
    "    # create empty json dictionary\n",
    "\n",
    "                            \n",
    "    json_dict = cwms.timeseries_group_df_to_json(\n",
    "                    data=df,\n",
    "                    group_id=group_id,\n",
    "                    group_office_id=group_office_id,\n",
    "                    category_office_id=category_office_id,\n",
    "                    category_id=category_id,\n",
    "                )\n",
    "\n",
    "    # update the group with no data and set replace_assigned_ts flag as True\n",
    "    cwms.update_timeseries_groups(\n",
    "        group_id=group_id,\n",
    "        office_id=OFFICE,\n",
    "        replace_assigned_ts=True,\n",
    "        data=json_dict,\n",
    "    )\n",
    "    \n",
    "\n",
    "\n"
   ]
  },
  {
   "cell_type": "code",
   "execution_count": 11,
   "metadata": {},
   "outputs": [],
   "source": [
    "# call function to delete all ts ids from group\n",
    "delete_timeseries_group_members(group_id=group_id, \n",
    "                                        group_office_id=OFFICE, \n",
    "                                        category_office_id=OFFICE,\n",
    "                                        category_id=category_id )"
   ]
  },
  {
   "cell_type": "code",
   "execution_count": 12,
   "metadata": {},
   "outputs": [],
   "source": [
    "# delete empty timeseries group\n",
    "\n",
    "cwms.delete_timeseries_group(group_id=group_id,\n",
    "                            category_id=category_id,\n",
    "                            office_id=OFFICE)"
   ]
  },
  {
   "cell_type": "markdown",
   "metadata": {},
   "source": [
    "# Create location group\n",
    "You can skip this step if your group is already created. \n",
    "You will likely only have write access to your office so your group must use your office ID. \n"
   ]
  },
  {
   "cell_type": "code",
   "execution_count": 13,
   "metadata": {},
   "outputs": [],
   "source": [
    "category_id = \"Test Category Name\"\n",
    "cat_desc = \"test cat description\"\n",
    "group_id = \"Test Group Name\"\n",
    "group_desc = \"test group description\"\n",
    "# get example json from swagger and edit\n",
    "\n",
    "\n",
    "locGroup_data = {\n",
    "  \"office-id\": OFFICE,\n",
    "  \"id\": group_id,\n",
    "  \"location-category\": {\n",
    "    \"office-id\": OFFICE,\n",
    "    \"id\": category_id,\n",
    "    \"description\": cat_desc\n",
    "  },\n",
    "  \"description\": group_desc,\n",
    "#   \"shared-loc-alias-id\": \"string\",\n",
    "#   \"shared-ref-location-id\": \"string\",\n",
    "  # \"loc-group-attribute\": 0,\n",
    "  # \"assigned-locations\": [\n",
    "  #   {\n",
    "  #   #   \"location-id\": \"string\",\n",
    "  #   #   \"office-id\": \"string\",\n",
    "  #   #   \"alias-id\": \"string\",\n",
    "  #   #   \"attribute\": 0,\n",
    "  #   #   \"ref-location-id\": \"string\"\n",
    "  #   }\n",
    "  # ]\n",
    "}\n"
   ]
  },
  {
   "cell_type": "code",
   "execution_count": 14,
   "metadata": {},
   "outputs": [],
   "source": [
    "cwms.store_location_groups(data = locGroup_data)"
   ]
  },
  {
   "cell_type": "code",
   "execution_count": 15,
   "metadata": {},
   "outputs": [
    {
     "data": {
      "text/plain": [
       "{'office-id': 'MVP',\n",
       " 'id': 'Test Group Name',\n",
       " 'location-category': {'office-id': 'MVP', 'id': 'Test Category Name'},\n",
       " 'description': 'test group description',\n",
       " 'assigned-locations': []}"
      ]
     },
     "execution_count": 15,
     "metadata": {},
     "output_type": "execute_result"
    }
   ],
   "source": [
    "cwms.get_location_group(loc_group_id=group_id, \n",
    "                          category_id=category_id, \n",
    "                          office_id=OFFICE, \n",
    "                          category_office_id=OFFICE, \n",
    "                          group_office_id=OFFICE).json"
   ]
  },
  {
   "cell_type": "markdown",
   "metadata": {},
   "source": [
    "# Add Locations to Group"
   ]
  },
  {
   "cell_type": "code",
   "execution_count": 16,
   "metadata": {},
   "outputs": [
    {
     "data": {
      "text/html": [
       "<div>\n",
       "<style scoped>\n",
       "    .dataframe tbody tr th:only-of-type {\n",
       "        vertical-align: middle;\n",
       "    }\n",
       "\n",
       "    .dataframe tbody tr th {\n",
       "        vertical-align: top;\n",
       "    }\n",
       "\n",
       "    .dataframe thead th {\n",
       "        text-align: right;\n",
       "    }\n",
       "</style>\n",
       "<table border=\"1\" class=\"dataframe\">\n",
       "  <thead>\n",
       "    <tr style=\"text-align: right;\">\n",
       "      <th></th>\n",
       "      <th>location-id</th>\n",
       "      <th>office-id</th>\n",
       "      <th>alias-id</th>\n",
       "      <th>attribute</th>\n",
       "      <th>ref-location-id</th>\n",
       "    </tr>\n",
       "  </thead>\n",
       "  <tbody>\n",
       "    <tr>\n",
       "      <th>0</th>\n",
       "      <td>Baldhill_Dam</td>\n",
       "      <td>MVP</td>\n",
       "      <td></td>\n",
       "      <td></td>\n",
       "      <td></td>\n",
       "    </tr>\n",
       "    <tr>\n",
       "      <th>1</th>\n",
       "      <td>ChippewaDiv_Dam</td>\n",
       "      <td>MVP</td>\n",
       "      <td></td>\n",
       "      <td></td>\n",
       "      <td></td>\n",
       "    </tr>\n",
       "    <tr>\n",
       "      <th>2</th>\n",
       "      <td>EauGalle_Dam</td>\n",
       "      <td>MVP</td>\n",
       "      <td></td>\n",
       "      <td></td>\n",
       "      <td></td>\n",
       "    </tr>\n",
       "  </tbody>\n",
       "</table>\n",
       "</div>"
      ],
      "text/plain": [
       "       location-id office-id alias-id attribute ref-location-id\n",
       "0     Baldhill_Dam       MVP                                   \n",
       "1  ChippewaDiv_Dam       MVP                                   \n",
       "2     EauGalle_Dam       MVP                                   "
      ]
     },
     "execution_count": 16,
     "metadata": {},
     "output_type": "execute_result"
    }
   ],
   "source": [
    "locs_to_add = '''Baldhill_Dam\n",
    "ChippewaDiv_Dam\n",
    "EauGalle_Dam'''\n",
    "\n",
    "data = []\n",
    "# loop through the loc ids\n",
    "for line in locs_to_add.strip().split('\\n'):\n",
    "    cleaned_line = line.strip() # Remove whitespace from the current line\n",
    "\n",
    "    if not cleaned_line: # Skip empty lines that might result from extra newlines\n",
    "        continue\n",
    "\n",
    "    loc = cleaned_line\n",
    "    # append data dict\n",
    "    data.append({\n",
    "        \"location-id\": loc,\n",
    "        'office-id': OFFICE,\n",
    "        \"alias-id\": '',\n",
    "        \"attribute\":'',\n",
    "        \"ref-location-id\":''\n",
    "    })\n",
    "\n",
    "# Create the pandas DataFrame\n",
    "df = pd.DataFrame(data)\n",
    "\n",
    "df"
   ]
  },
  {
   "cell_type": "code",
   "execution_count": 17,
   "metadata": {},
   "outputs": [
    {
     "data": {
      "text/plain": [
       "{'office-id': 'MVP',\n",
       " 'id': 'Test Group Name',\n",
       " 'location-category': {'office-id': 'MVP', 'id': 'Test Category Name'},\n",
       " 'assigned-locations': [{'office-id': 'MVP',\n",
       "   'location-id': 'Baldhill_Dam',\n",
       "   'alias-id': '',\n",
       "   'attribute': '',\n",
       "   'ref-location-id': ''},\n",
       "  {'office-id': 'MVP',\n",
       "   'location-id': 'ChippewaDiv_Dam',\n",
       "   'alias-id': '',\n",
       "   'attribute': '',\n",
       "   'ref-location-id': ''},\n",
       "  {'office-id': 'MVP',\n",
       "   'location-id': 'EauGalle_Dam',\n",
       "   'alias-id': '',\n",
       "   'attribute': '',\n",
       "   'ref-location-id': ''}]}"
      ]
     },
     "execution_count": 17,
     "metadata": {},
     "output_type": "execute_result"
    }
   ],
   "source": [
    "# create the json_dictionary\n",
    "json_dict = cwms.location_group_df_to_json(\n",
    "                data=df,\n",
    "                group_id=group_id,\n",
    "                group_office_id=OFFICE,\n",
    "                category_office_id=OFFICE,\n",
    "                category_id=category_id,\n",
    "            )\n",
    "\n",
    "json_dict"
   ]
  },
  {
   "cell_type": "code",
   "execution_count": 18,
   "metadata": {},
   "outputs": [],
   "source": [
    "# update the group\n",
    "cwms.update_location_group(\n",
    "    group_id=group_id,\n",
    "    office_id=OFFICE,\n",
    "    replace_assigned_locs=True,\n",
    "    data=json_dict,\n",
    ")"
   ]
  },
  {
   "cell_type": "code",
   "execution_count": 19,
   "metadata": {},
   "outputs": [
    {
     "data": {
      "text/plain": [
       "{'office-id': 'MVP',\n",
       " 'id': 'Test Group Name',\n",
       " 'location-category': {'office-id': 'MVP', 'id': 'Test Category Name'},\n",
       " 'description': 'test group description',\n",
       " 'assigned-locations': [{'location-id': 'Baldhill_Dam', 'office-id': 'MVP'},\n",
       "  {'location-id': 'EauGalle_Dam', 'office-id': 'MVP'},\n",
       "  {'location-id': 'ChippewaDiv_Dam', 'office-id': 'MVP'}]}"
      ]
     },
     "execution_count": 19,
     "metadata": {},
     "output_type": "execute_result"
    }
   ],
   "source": [
    "cwms.get_location_group(loc_group_id=group_id, \n",
    "                          category_id=category_id, \n",
    "                          office_id=OFFICE, \n",
    "                          category_office_id=OFFICE, \n",
    "                          group_office_id=OFFICE).json"
   ]
  },
  {
   "cell_type": "markdown",
   "metadata": {},
   "source": [
    "# Delete location group\n"
   ]
  },
  {
   "cell_type": "code",
   "execution_count": 20,
   "metadata": {},
   "outputs": [],
   "source": [
    "# cascade delete location group\n",
    "\n",
    "cwms.delete_location_group(group_id=group_id,\n",
    "                            category_id=category_id,\n",
    "                            office_id=OFFICE, \n",
    "                            cascade_delete=True # this will delete all locations and group\n",
    "                            )"
   ]
  }
 ],
 "metadata": {
  "kernelspec": {
   "display_name": "Python 3",
   "language": "python",
   "name": "python3"
  },
  "language_info": {
   "codemirror_mode": {
    "name": "ipython",
    "version": 3
   },
   "file_extension": ".py",
   "mimetype": "text/x-python",
   "name": "python",
   "nbconvert_exporter": "python",
   "pygments_lexer": "ipython3",
   "version": "3.12.10"
  }
 },
 "nbformat": 4,
 "nbformat_minor": 2
}
