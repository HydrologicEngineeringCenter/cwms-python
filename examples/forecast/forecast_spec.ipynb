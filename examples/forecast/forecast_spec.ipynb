{
 "cells": [
  {
   "cell_type": "markdown",
   "id": "5a0412fa",
   "metadata": {},
   "source": [
    "# Forecast Examples\n"
   ]
  },
  {
   "cell_type": "markdown",
   "id": "e807fd07",
   "metadata": {},
   "source": [
    "**Example generated from:** [/tests/forecast/forecast_spec_test.py](https://github.com/HydrologicEngineeringCenter/cwms-python/tree/main/tests/forecast/forecast_spec_test.py)"
   ]
  },
  {
   "cell_type": "code",
   "execution_count": null,
   "id": "5f27357f",
   "metadata": {},
   "outputs": [],
   "source": [
    "from cwms.api import init_session\n",
    "import pytz\n",
    "import cwms.api\n",
    "import cwms.forecast.forecast_spec as forecast_spec\n",
    "from cwms.cwms_types import DeleteMethod"
   ]
  },
  {
   "cell_type": "markdown",
   "id": "b901d06f",
   "metadata": {},
   "source": [
    "### Initializing the database and write access\n",
    "cwms-python will connect by default to the USACE public database available through [CWMS Data](https://cwms-data.usace.army.mil/cwms-data/). \n",
    "\n",
    "https://cwms-data.usace.army.mil/cwms-data/\n",
    "\n",
    "The apiRoot can be updated to access data directly from a USACE district database.\n",
    "* Endpoints on the [Swagger Docs page](https://cwms-data.usace.army.mil/cwms-data/swagger-ui.html) with a 🔒 icon require the apiKey be set."
   ]
  },
  {
   "cell_type": "code",
   "execution_count": null,
   "id": "45d5fbce",
   "metadata": {},
   "outputs": [],
   "source": [
    "api_root = \"https://cwms-data-test.cwbi.us/cwms-data/\"\n",
    "api = init_session(api_root=api_root)"
   ]
  },
  {
   "cell_type": "markdown",
   "id": "6c35dcd9",
   "metadata": {},
   "source": [
    "# GET Requests"
   ]
  },
  {
   "cell_type": "markdown",
   "id": "38156106",
   "metadata": {},
   "source": [
    "## get forecast specs"
   ]
  },
  {
   "cell_type": "code",
   "execution_count": null,
   "id": "036cbba3",
   "metadata": {},
   "outputs": [],
   "source": [
    "forecast = forecast_spec.get_forecast_specs(\n",
    "    \"id_mask\", \"office_mask\", \"designator_mask\", \"source_entity\"\n",
    ")\n"
   ]
  },
  {
   "cell_type": "markdown",
   "id": "56ed6dd6",
   "metadata": {},
   "source": [
    "## get forecast spec"
   ]
  },
  {
   "cell_type": "code",
   "execution_count": null,
   "id": "e701b235",
   "metadata": {},
   "outputs": [],
   "source": [
    "forecast = forecast_spec.get_forecast_spec(\"test-spec\", \"SWT\", \"designator\")\n"
   ]
  },
  {
   "cell_type": "markdown",
   "id": "c4beea74",
   "metadata": {},
   "source": [
    "# STORE Requests"
   ]
  },
  {
   "cell_type": "markdown",
   "id": "be5bb3d5",
   "metadata": {},
   "source": [
    "## store forecast spec json"
   ]
  },
  {
   "cell_type": "code",
   "execution_count": null,
   "id": "f6b04f28",
   "metadata": {},
   "outputs": [],
   "source": [
    "forecast_spec.store_forecast_spec(_FORECAST_SPEC_JSON)\n"
   ]
  },
  {
   "cell_type": "markdown",
   "id": "4ccfb97b",
   "metadata": {},
   "source": [
    "# DELETE Requests"
   ]
  },
  {
   "cell_type": "markdown",
   "id": "6ad09e7a",
   "metadata": {},
   "source": [
    "## delete forecast spec"
   ]
  },
  {
   "cell_type": "code",
   "execution_count": null,
   "id": "c8f256e6",
   "metadata": {},
   "outputs": [],
   "source": [
    "forecast_spec.delete_forecast_spec(\n",
    "    \"test-spec\", \"SWT\", \"designator\", DeleteMethod.DELETE_KEY\n",
    ")\n"
   ]
  }
 ],
 "metadata": {},
 "nbformat": 4,
 "nbformat_minor": 5
}
