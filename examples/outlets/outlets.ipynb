{
 "cells": [
  {
   "cell_type": "markdown",
   "id": "57c3d14f",
   "metadata": {},
   "source": [
    "# Outlets Examples\n"
   ]
  },
  {
   "cell_type": "markdown",
   "id": "5e335a24",
   "metadata": {},
   "source": [
    "**Example generated from:** [/tests/outlets/outlets_test.py](https://github.com/HydrologicEngineeringCenter/cwms-python/tree/main/tests/outlets/outlets_test.py)"
   ]
  },
  {
   "cell_type": "code",
   "execution_count": null,
   "id": "0e93e9fa",
   "metadata": {},
   "outputs": [],
   "source": [
    "from cwms.api import init_session\n",
    "import cwms.outlets.outlets as outlets\n",
    "from cwms.cwms_types import DeleteMethod"
   ]
  },
  {
   "cell_type": "markdown",
   "id": "15b6c6b7",
   "metadata": {},
   "source": [
    "### Initializing the database and write access\n",
    "cwms-python will connect by default to the USACE public database available through [CWMS Data](https://cwms-data.usace.army.mil/cwms-data/). \n",
    "\n",
    "https://cwms-data.usace.army.mil/cwms-data/\n",
    "\n",
    "The apiRoot can be updated to access data directly from a USACE district database.\n",
    "* Endpoints on the [Swagger Docs page](https://cwms-data.usace.army.mil/cwms-data/swagger-ui.html) with a 🔒 icon require the apiKey be set."
   ]
  },
  {
   "cell_type": "code",
   "execution_count": null,
   "id": "cb6ff0c4",
   "metadata": {},
   "outputs": [],
   "source": [
    "api_root = \"https://cwms-data-test.cwbi.us/cwms-data/\"\n",
    "api = init_session(api_root=api_root)"
   ]
  },
  {
   "cell_type": "markdown",
   "id": "3139b601",
   "metadata": {},
   "source": [
    "# GET Requests"
   ]
  },
  {
   "cell_type": "markdown",
   "id": "5bece550",
   "metadata": {},
   "source": [
    "## get outlet"
   ]
  },
  {
   "cell_type": "code",
   "execution_count": null,
   "id": "e03fa375",
   "metadata": {},
   "outputs": [],
   "source": [
    "data = outlets.get_outlet(\"SPK\", \"BIGH-TG1\")\n"
   ]
  },
  {
   "cell_type": "code",
   "execution_count": null,
   "id": "aec9854f",
   "metadata": {},
   "outputs": [],
   "source": [
    "data.json"
   ]
  },
  {
   "cell_type": "markdown",
   "id": "947910ae",
   "metadata": {},
   "source": [
    "## get outlets"
   ]
  },
  {
   "cell_type": "code",
   "execution_count": null,
   "id": "bcd73237",
   "metadata": {},
   "outputs": [],
   "source": [
    "data = outlets.get_outlets(\"SPK\", \"BIGH\")\n"
   ]
  },
  {
   "cell_type": "code",
   "execution_count": null,
   "id": "fe828730",
   "metadata": {},
   "outputs": [],
   "source": [
    "data.json"
   ]
  },
  {
   "cell_type": "markdown",
   "id": "5cea143e",
   "metadata": {},
   "source": [
    "# STORE Requests"
   ]
  },
  {
   "cell_type": "markdown",
   "id": "f901924a",
   "metadata": {},
   "source": [
    "## store outlet"
   ]
  },
  {
   "cell_type": "code",
   "execution_count": null,
   "id": "73a27d6a",
   "metadata": {},
   "outputs": [],
   "source": [
    "outlets.store_outlet(_OUTLET_JSON, True)\n"
   ]
  },
  {
   "cell_type": "markdown",
   "id": "4ac79b31",
   "metadata": {},
   "source": [
    "# DELETE Requests"
   ]
  },
  {
   "cell_type": "markdown",
   "id": "ac509add",
   "metadata": {},
   "source": [
    "## delete outlet"
   ]
  },
  {
   "cell_type": "code",
   "execution_count": null,
   "id": "f3909939",
   "metadata": {},
   "outputs": [],
   "source": [
    "outlets.delete_outlet(\"SPK\", \"Test\", DeleteMethod.DELETE_ALL)\n"
   ]
  },
  {
   "cell_type": "markdown",
   "id": "f9520c96",
   "metadata": {},
   "source": [
    "# Other API Calls"
   ]
  },
  {
   "cell_type": "markdown",
   "id": "21c027ed",
   "metadata": {},
   "source": [
    "## rename outlet"
   ]
  },
  {
   "cell_type": "code",
   "execution_count": null,
   "id": "f31d8612",
   "metadata": {},
   "outputs": [],
   "source": [
    "outlets.rename_outlet(\"SPK\", \"Test\", \"Test2\")\n"
   ]
  }
 ],
 "metadata": {},
 "nbformat": 4,
 "nbformat_minor": 5
}
