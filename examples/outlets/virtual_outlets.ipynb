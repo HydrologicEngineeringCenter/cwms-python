{
 "cells": [
  {
   "cell_type": "markdown",
   "id": "4fe12d03",
   "metadata": {},
   "source": [
    "# Outlets Examples\n"
   ]
  },
  {
   "cell_type": "markdown",
   "id": "7821a50f",
   "metadata": {},
   "source": [
    "**Example generated from:** [/tests/outlets/virtual_outlets_test.py](https://github.com/HydrologicEngineeringCenter/cwms-python/tree/main/tests/outlets/virtual_outlets_test.py)"
   ]
  },
  {
   "cell_type": "code",
   "execution_count": null,
   "id": "c96eb272",
   "metadata": {},
   "outputs": [],
   "source": [
    "from cwms.api import init_session\n",
    "import cwms.outlets.virtual_outlets as virtual_outlets\n",
    "from cwms.cwms_types import DeleteMethod"
   ]
  },
  {
   "cell_type": "markdown",
   "id": "1df056e0",
   "metadata": {},
   "source": [
    "### Initializing the database and write access\n",
    "cwms-python will connect by default to the USACE public database available through [CWMS Data](https://cwms-data.usace.army.mil/cwms-data/). \n",
    "\n",
    "https://cwms-data.usace.army.mil/cwms-data/\n",
    "\n",
    "The apiRoot can be updated to access data directly from a USACE district database.\n",
    "* Endpoints on the [Swagger Docs page](https://cwms-data.usace.army.mil/cwms-data/swagger-ui.html) with a 🔒 icon require the apiKey be set."
   ]
  },
  {
   "cell_type": "code",
   "execution_count": null,
   "id": "3cb193b2",
   "metadata": {},
   "outputs": [],
   "source": [
    "api_root = \"https://cwms-data-test.cwbi.us/cwms-data/\"\n",
    "api = init_session(api_root=api_root)"
   ]
  },
  {
   "cell_type": "markdown",
   "id": "e9e95e28",
   "metadata": {},
   "source": [
    "# GET Requests"
   ]
  },
  {
   "cell_type": "markdown",
   "id": "98c38144",
   "metadata": {},
   "source": [
    "## get virtual outlet"
   ]
  },
  {
   "cell_type": "code",
   "execution_count": null,
   "id": "59dd066e",
   "metadata": {},
   "outputs": [],
   "source": [
    "data = virtual_outlets.get_virtual_outlet(\"SPK\", \"BIGH\", \"Compound Tainter Gates\")\n"
   ]
  },
  {
   "cell_type": "code",
   "execution_count": null,
   "id": "e4bbb6df",
   "metadata": {},
   "outputs": [],
   "source": [
    "data.json"
   ]
  },
  {
   "cell_type": "markdown",
   "id": "10a9e1fb",
   "metadata": {},
   "source": [
    "## get virtual outlets"
   ]
  },
  {
   "cell_type": "code",
   "execution_count": null,
   "id": "02950da9",
   "metadata": {},
   "outputs": [],
   "source": [
    "data = virtual_outlets.get_virtual_outlets(\"SPK\", \"BIGH\")\n"
   ]
  },
  {
   "cell_type": "code",
   "execution_count": null,
   "id": "98b81376",
   "metadata": {},
   "outputs": [],
   "source": [
    "data.json"
   ]
  },
  {
   "cell_type": "markdown",
   "id": "38878fe5",
   "metadata": {},
   "source": [
    "# STORE Requests"
   ]
  },
  {
   "cell_type": "markdown",
   "id": "684d9215",
   "metadata": {},
   "source": [
    "## store virtual outlet"
   ]
  },
  {
   "cell_type": "code",
   "execution_count": null,
   "id": "b5dc69e5",
   "metadata": {},
   "outputs": [],
   "source": [
    "virtual_outlets.store_virtual_outlet(_VIRTUAL_OUTLET_JSON, True)\n"
   ]
  },
  {
   "cell_type": "markdown",
   "id": "fba1d071",
   "metadata": {},
   "source": [
    "# DELETE Requests"
   ]
  },
  {
   "cell_type": "markdown",
   "id": "29cf200c",
   "metadata": {},
   "source": [
    "## delete virtual outlet"
   ]
  },
  {
   "cell_type": "code",
   "execution_count": null,
   "id": "bba65fb7",
   "metadata": {},
   "outputs": [],
   "source": [
    "virtual_outlets.delete_virtual_outlet(\"SWT\", \"PROJ\", \"Test\", DeleteMethod.DELETE_ALL)\n"
   ]
  }
 ],
 "metadata": {},
 "nbformat": 4,
 "nbformat_minor": 5
}
