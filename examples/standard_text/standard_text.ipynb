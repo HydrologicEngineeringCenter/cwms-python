{
 "cells": [
  {
   "cell_type": "markdown",
   "id": "04af78b8",
   "metadata": {},
   "source": [
    "# Standard Text Examples\n"
   ]
  },
  {
   "cell_type": "markdown",
   "id": "f3d36445",
   "metadata": {},
   "source": [
    "**Example generated from:** [/tests/standard_text/standard_text_test.py](https://github.com/HydrologicEngineeringCenter/cwms-python/tree/main/tests/standard_text/standard_text_test.py)"
   ]
  },
  {
   "cell_type": "code",
   "execution_count": null,
   "id": "f9970126",
   "metadata": {},
   "outputs": [],
   "source": [
    "from cwms.api import init_session\n",
    "from datetime import datetime\n",
    "import pytz\n",
    "import cwms.api\n",
    "import cwms.standard_text.standard_text as standard_text\n",
    "from cwms.cwms_types import DeleteMethod"
   ]
  },
  {
   "cell_type": "markdown",
   "id": "93e0002e",
   "metadata": {},
   "source": [
    "### Initializing the database and write access\n",
    "cwms-python will connect by default to the USACE public database available through [CWMS Data](https://cwms-data.usace.army.mil/cwms-data/). \n",
    "\n",
    "https://cwms-data.usace.army.mil/cwms-data/\n",
    "\n",
    "The apiRoot can be updated to access data directly from a USACE district database.\n",
    "* Endpoints on the [Swagger Docs page](https://cwms-data.usace.army.mil/cwms-data/swagger-ui.html) with a 🔒 icon require the apiKey be set."
   ]
  },
  {
   "cell_type": "code",
   "execution_count": null,
   "id": "ff293a55",
   "metadata": {},
   "outputs": [],
   "source": [
    "api_root = \"https://cwms-data-test.cwbi.us/cwms-data/\"\n",
    "api = init_session(api_root=api_root)"
   ]
  },
  {
   "cell_type": "markdown",
   "id": "9324249c",
   "metadata": {},
   "source": [
    "# GET Requests"
   ]
  },
  {
   "cell_type": "markdown",
   "id": "6219702b",
   "metadata": {},
   "source": [
    "## get standard text"
   ]
  },
  {
   "cell_type": "code",
   "execution_count": null,
   "id": "7c0ec3bf",
   "metadata": {},
   "outputs": [],
   "source": [
    "text_id = \"HW\"\n",
    "office_id = \"SPK\"\n",
    "data = standard_text.get_standard_text(text_id, office_id)\n"
   ]
  },
  {
   "cell_type": "code",
   "execution_count": null,
   "id": "bbf14958",
   "metadata": {},
   "outputs": [],
   "source": [
    "data.json"
   ]
  },
  {
   "cell_type": "markdown",
   "id": "d2395040",
   "metadata": {},
   "source": [
    "## get standard text catalog default"
   ]
  },
  {
   "cell_type": "code",
   "execution_count": null,
   "id": "e9a2a366",
   "metadata": {},
   "outputs": [],
   "source": [
    "data = standard_text.get_standard_text_catalog()\n"
   ]
  },
  {
   "cell_type": "code",
   "execution_count": null,
   "id": "4f4feab7",
   "metadata": {},
   "outputs": [],
   "source": [
    "data.json"
   ]
  },
  {
   "cell_type": "markdown",
   "id": "64f2950b",
   "metadata": {},
   "source": [
    "## get standard text catalog"
   ]
  },
  {
   "cell_type": "code",
   "execution_count": null,
   "id": "3de83d2d",
   "metadata": {},
   "outputs": [],
   "source": [
    "text_id = \"HW\"\n",
    "office_id = \"SPK\"\n",
    "data = standard_text.get_standard_text_catalog(text_id, office_id)\n"
   ]
  },
  {
   "cell_type": "code",
   "execution_count": null,
   "id": "d42b947a",
   "metadata": {},
   "outputs": [],
   "source": [
    "data.json"
   ]
  },
  {
   "cell_type": "markdown",
   "id": "f32f1d52",
   "metadata": {},
   "source": [
    "# STORE Requests"
   ]
  },
  {
   "cell_type": "markdown",
   "id": "b2cf567c",
   "metadata": {},
   "source": [
    "## create standard text"
   ]
  },
  {
   "cell_type": "code",
   "execution_count": null,
   "id": "c4d555cb",
   "metadata": {},
   "outputs": [],
   "source": [
    "# Input Data:\n",
    "data = {\"id\": {\"office-id\": \"SPK\", \"id\": \"HW\"}, \"standard-text\": \"Hello, World\"}\n",
    "\n"
   ]
  },
  {
   "cell_type": "code",
   "execution_count": null,
   "id": "00202afe",
   "metadata": {},
   "outputs": [],
   "source": [
    "standard_text.store_standard_text(data, fail_if_exists=True)\n"
   ]
  },
  {
   "cell_type": "markdown",
   "id": "e8fcb811",
   "metadata": {},
   "source": [
    "# DELETE Requests"
   ]
  },
  {
   "cell_type": "markdown",
   "id": "ede430d4",
   "metadata": {},
   "source": [
    "## delete standard text"
   ]
  },
  {
   "cell_type": "code",
   "execution_count": null,
   "id": "4ccc5755",
   "metadata": {},
   "outputs": [],
   "source": [
    "text_id = \"HW\"\n",
    "office_id = \"SPK\"\n",
    "standard_text.delete_standard_text(text_id, DeleteMethod.DELETE_ALL, office_id)\n"
   ]
  },
  {
   "cell_type": "markdown",
   "id": "b7cb0ead",
   "metadata": {},
   "source": [
    "# Other API Calls"
   ]
  },
  {
   "cell_type": "markdown",
   "id": "8653788a",
   "metadata": {},
   "source": [
    "## create standard text json"
   ]
  },
  {
   "cell_type": "code",
   "execution_count": null,
   "id": "81c0b697",
   "metadata": {},
   "outputs": [],
   "source": [
    "# Input Data:\n",
    "data = {\"id\": {\"office-id\": \"SPK\", \"id\": \"HW\"}, \"standard-text\": \"Hello, World\"}\n",
    "\n"
   ]
  },
  {
   "cell_type": "code",
   "execution_count": null,
   "id": "f43b74fb",
   "metadata": {},
   "outputs": [],
   "source": [
    "text_id = \"HW\"\n",
    "office_id = \"SPK\"\n",
    "sd_text = \"Hello, World\"\n",
    "st_json = standard_text.standard_text_to_json(\n",
    "    text_id=text_id, standard_text=sd_text, office_id=office_id\n",
    ")\n"
   ]
  }
 ],
 "metadata": {},
 "nbformat": 4,
 "nbformat_minor": 5
}
