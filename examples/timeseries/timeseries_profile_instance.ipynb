{
 "cells": [
  {
   "cell_type": "markdown",
   "id": "1cfbb04b",
   "metadata": {},
   "source": [
    "# Timeseries Examples\n"
   ]
  },
  {
   "cell_type": "markdown",
   "id": "a74454c1",
   "metadata": {},
   "source": [
    "**Example generated from:** [/tests/timeseries/timeseries_profile_instance_test.py](https://github.com/HydrologicEngineeringCenter/cwms-python/tree/main/tests/timeseries/timeseries_profile_instance_test.py)"
   ]
  },
  {
   "cell_type": "code",
   "execution_count": null,
   "id": "91b46d70",
   "metadata": {},
   "outputs": [],
   "source": [
    "from cwms.api import init_session\n",
    "import urllib.parse\n",
    "from datetime import datetime\n",
    "from pathlib import Path\n",
    "import pytz\n",
    "import cwms.api\n",
    "import cwms.timeseries.timeseries_profile_instance as timeseries"
   ]
  },
  {
   "cell_type": "markdown",
   "id": "205eea78",
   "metadata": {},
   "source": [
    "### Initializing the database and write access\n",
    "cwms-python will connect by default to the USACE public database available through [CWMS Data](https://cwms-data.usace.army.mil/cwms-data/). \n",
    "\n",
    "https://cwms-data.usace.army.mil/cwms-data/\n",
    "\n",
    "The apiRoot can be updated to access data directly from a USACE district database.\n",
    "* Endpoints on the [Swagger Docs page](https://cwms-data.usace.army.mil/cwms-data/swagger-ui.html) with a 🔒 icon require the apiKey be set."
   ]
  },
  {
   "cell_type": "code",
   "execution_count": null,
   "id": "e952f202",
   "metadata": {},
   "outputs": [],
   "source": [
    "api_root = \"https://cwms-data-test.cwbi.us/cwms-data/\"\n",
    "api = init_session(api_root=api_root)"
   ]
  },
  {
   "cell_type": "markdown",
   "id": "e9551b6c",
   "metadata": {},
   "source": [
    "# GET Requests"
   ]
  },
  {
   "cell_type": "markdown",
   "id": "b87939bd",
   "metadata": {},
   "source": [
    "## get timeseries profile instance"
   ]
  },
  {
   "cell_type": "code",
   "execution_count": null,
   "id": "96d57597",
   "metadata": {},
   "outputs": [],
   "source": [
    "location_id = \"SWAN\"\n",
    "parameter_id = \"Temp-Water\"\n",
    "version = \"Raw\"\n",
    "unit = \"C\"\n",
    "office_id = \"SWT\"\n",
    "version_date = tz.localize(datetime(2014, 8, 16, 4, 55, 0))\n",
    "start = tz.localize(datetime(2015, 3, 3, 6, 45, 0))\n",
    "end = tz.localize(datetime(2015, 3, 3, 7, 15, 0))\n",
    "data = timeseries.get_timeseries_profile_instance(\n",
    "    office_id, location_id, parameter_id, version, unit, version_date, start, end\n",
    ")\n"
   ]
  },
  {
   "cell_type": "code",
   "execution_count": null,
   "id": "7a9b0d1e",
   "metadata": {},
   "outputs": [],
   "source": [
    "data.json"
   ]
  },
  {
   "cell_type": "markdown",
   "id": "a4d942d0",
   "metadata": {},
   "source": [
    "## get all timeseries profile instance"
   ]
  },
  {
   "cell_type": "code",
   "execution_count": null,
   "id": "7723ffe8",
   "metadata": {},
   "outputs": [],
   "source": [
    "data = timeseries.get_timeseries_profile_instances(\"*\", \"*\", \"*\", \"*\")\n"
   ]
  },
  {
   "cell_type": "code",
   "execution_count": null,
   "id": "a8453ddd",
   "metadata": {},
   "outputs": [],
   "source": [
    "data.json"
   ]
  },
  {
   "cell_type": "markdown",
   "id": "3309ca3d",
   "metadata": {},
   "source": [
    "# STORE Requests"
   ]
  },
  {
   "cell_type": "markdown",
   "id": "ae7c1cf5",
   "metadata": {},
   "source": [
    "## store timeseries profile instance"
   ]
  },
  {
   "cell_type": "code",
   "execution_count": null,
   "id": "99a951cf",
   "metadata": {},
   "outputs": [],
   "source": [
    "data = urllib.parse.quote_plus(_TSP_PROFILE_DATA)\n",
    "version = \"Raw\"\n",
    "version_date = tz.localize(datetime(2020, 1, 1, 13, 30, 0))\n",
    "timeseries.store_timeseries_profile_instance(\n",
    "    _TSP_PROFILE_DATA, version, version_date, None, False\n",
    ")\n"
   ]
  },
  {
   "cell_type": "markdown",
   "id": "b287e34e",
   "metadata": {},
   "source": [
    "# DELETE Requests"
   ]
  },
  {
   "cell_type": "markdown",
   "id": "74a4f3c4",
   "metadata": {},
   "source": [
    "## delete timeseries profile instance"
   ]
  },
  {
   "cell_type": "code",
   "execution_count": null,
   "id": "90edcae6",
   "metadata": {},
   "outputs": [],
   "source": [
    "location_id = \"SWAN\"\n",
    "office_id = \"SWT\"\n",
    "parameter_id = \"Length\"\n",
    "version = \"Raw\"\n",
    "version_date = tz.localize(datetime(2010, 6, 4, 12, 0, 0))\n",
    "date = tz.localize(datetime(2010, 6, 4, 14, 0, 0))\n",
    "timeseries.delete_timeseries_profile_instance(\n",
    "    office_id, location_id, parameter_id, version, version_date, date\n",
    ")\n"
   ]
  }
 ],
 "metadata": {},
 "nbformat": 4,
 "nbformat_minor": 5
}
