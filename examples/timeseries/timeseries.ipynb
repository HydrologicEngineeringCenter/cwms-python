{
 "cells": [
  {
   "cell_type": "markdown",
   "id": "badbe30d",
   "metadata": {},
   "source": [
    "# Timeseries Examples\n"
   ]
  },
  {
   "cell_type": "markdown",
   "id": "2f4ce257",
   "metadata": {},
   "source": [
    "**Example generated from:** [/tests/timeseries/timeseries_test.py](https://github.com/HydrologicEngineeringCenter/cwms-python/tree/main/tests/timeseries/timeseries_test.py)"
   ]
  },
  {
   "cell_type": "code",
   "execution_count": null,
   "id": "21395597",
   "metadata": {},
   "outputs": [],
   "source": [
    "from cwms.api import init_session\n",
    "from datetime import datetime\n",
    "import pandas as pd\n",
    "import pytz\n",
    "import cwms.api\n",
    "import cwms.timeseries.timeseries as timeseries"
   ]
  },
  {
   "cell_type": "markdown",
   "id": "20802b09",
   "metadata": {},
   "source": [
    "### Initializing the database and write access\n",
    "cwms-python will connect by default to the USACE public database available through [CWMS Data](https://cwms-data.usace.army.mil/cwms-data/). \n",
    "\n",
    "https://cwms-data.usace.army.mil/cwms-data/\n",
    "\n",
    "The apiRoot can be updated to access data directly from a USACE district database.\n",
    "* Endpoints on the [Swagger Docs page](https://cwms-data.usace.army.mil/cwms-data/swagger-ui.html) with a 🔒 icon require the apiKey be set."
   ]
  },
  {
   "cell_type": "code",
   "execution_count": null,
   "id": "31a5b22f",
   "metadata": {},
   "outputs": [],
   "source": [
    "api_root = \"https://cwms-data-test.cwbi.us/cwms-data/\"\n",
    "api = init_session(api_root=api_root)"
   ]
  },
  {
   "cell_type": "markdown",
   "id": "840cb4e9",
   "metadata": {},
   "source": [
    "# GET Requests"
   ]
  },
  {
   "cell_type": "markdown",
   "id": "f920c3ef",
   "metadata": {},
   "source": [
    "## get timeseries unversioned default"
   ]
  },
  {
   "cell_type": "code",
   "execution_count": null,
   "id": "6c8212a4",
   "metadata": {},
   "outputs": [],
   "source": [
    "timeseries_id = \"TEST.Text.Inst.1Hour.0.MockTest\"\n",
    "office_id = \"SWT\"\n",
    "timezone = pytz.timezone(\"UTC\")\n",
    "begin = timezone.localize(datetime(2008, 5, 1, 15, 0, 0))\n",
    "end = timezone.localize(datetime(2008, 5, 1, 17, 0, 0))\n",
    "data = timeseries.get_timeseries(\n",
    "    ts_id=timeseries_id, office_id=office_id, begin=begin, end=end\n",
    ")\n"
   ]
  },
  {
   "cell_type": "code",
   "execution_count": null,
   "id": "fd46bb39",
   "metadata": {},
   "outputs": [],
   "source": [
    "data.json"
   ]
  },
  {
   "cell_type": "code",
   "execution_count": null,
   "id": "b71e0e94",
   "metadata": {},
   "outputs": [],
   "source": [
    "data.df"
   ]
  },
  {
   "cell_type": "markdown",
   "id": "c3ebeb7a",
   "metadata": {},
   "source": [
    "## get empty ts df"
   ]
  },
  {
   "cell_type": "code",
   "execution_count": null,
   "id": "db6d7576",
   "metadata": {},
   "outputs": [],
   "source": [
    "timeseries_id = \"KEYS.Elev.Inst.1Hour.0.Ccp-Rev\"\n",
    "office_id = \"SWT\"\n",
    "timezone = pytz.timezone(\"UTC\")\n",
    "begin = timezone.localize(datetime(2024, 5, 1, 15, 0, 0))\n",
    "end = timezone.localize(datetime(2024, 5, 1, 17, 0, 0))\n",
    "data = timeseries.get_timeseries(\n",
    "    ts_id=timeseries_id, office_id=office_id, begin=begin, end=end\n",
    ")\n"
   ]
  },
  {
   "cell_type": "code",
   "execution_count": null,
   "id": "a2335849",
   "metadata": {},
   "outputs": [],
   "source": [
    "data.json"
   ]
  },
  {
   "cell_type": "code",
   "execution_count": null,
   "id": "8639f5f3",
   "metadata": {},
   "outputs": [],
   "source": [
    "data.df"
   ]
  },
  {
   "cell_type": "markdown",
   "id": "f48d5005",
   "metadata": {},
   "source": [
    "## get timeseries paging"
   ]
  },
  {
   "cell_type": "code",
   "execution_count": null,
   "id": "9f40aa84",
   "metadata": {},
   "outputs": [],
   "source": [
    "timeseries_id = \"Test.Stage.Inst.15Minutes.0.TEST_PAGING\"\n",
    "office_id = \"NWDM\"\n",
    "timezone = pytz.timezone(\"UTC\")\n",
    "begin = timezone.localize(datetime(2024, 10, 3, 11, 0, 0))\n",
    "end = timezone.localize(datetime(2024, 10, 4, 11, 0, 0))\n",
    "data = timeseries.get_timeseries(\n",
    "    ts_id=timeseries_id, office_id=office_id, begin=begin, end=end, page_size=10\n",
    ")\n"
   ]
  },
  {
   "cell_type": "code",
   "execution_count": null,
   "id": "a30c8401",
   "metadata": {},
   "outputs": [],
   "source": [
    "data.json"
   ]
  },
  {
   "cell_type": "code",
   "execution_count": null,
   "id": "209c5bda",
   "metadata": {},
   "outputs": [],
   "source": [
    "data.df"
   ]
  },
  {
   "cell_type": "markdown",
   "id": "a8810f90",
   "metadata": {},
   "source": [
    "## get timeseries group default"
   ]
  },
  {
   "cell_type": "code",
   "execution_count": null,
   "id": "05bfc851",
   "metadata": {},
   "outputs": [],
   "source": [
    "group_id = \"USGS TS Data Acquisition\"\n",
    "category_id = \"Data Acquisition\"\n",
    "office_id = \"CWMS\"\n",
    "data = timeseries.get_timeseries_group(\n",
    "    group_id=group_id, category_id=category_id, office_id=office_id\n",
    ")\n",
    "values = data.df.to_numpy().tolist()\n"
   ]
  },
  {
   "cell_type": "code",
   "execution_count": null,
   "id": "e5548dbf",
   "metadata": {},
   "outputs": [],
   "source": [
    "data.json"
   ]
  },
  {
   "cell_type": "code",
   "execution_count": null,
   "id": "f3892fed",
   "metadata": {},
   "outputs": [],
   "source": [
    "data.df"
   ]
  },
  {
   "cell_type": "code",
   "execution_count": null,
   "id": "ecc7c647",
   "metadata": {},
   "outputs": [],
   "source": [
    "values"
   ]
  },
  {
   "cell_type": "markdown",
   "id": "b6e9255e",
   "metadata": {},
   "source": [
    "## get multi timeseries default"
   ]
  },
  {
   "cell_type": "code",
   "execution_count": null,
   "id": "350c4f70",
   "metadata": {},
   "outputs": [],
   "source": [
    "ts_ids = [\n",
    "    \"TEST.Text.Inst.1Hour.0.MockTest\",\n",
    "    \"TEST.Text.Inst.1Hour.0.MockTest:2021-06-20 08:00:00-00:00\",\n",
    "]\n",
    "office_id = \"SWT\"\n",
    "timezone = pytz.timezone(\"UTC\")\n",
    "begin = timezone.localize(datetime(2008, 5, 1, 15, 0, 0))\n",
    "end = timezone.localize(datetime(2008, 5, 1, 17, 0, 0))\n",
    "data = cwms.get_multi_timeseries_df(\n",
    "    ts_ids=ts_ids, office_id=office_id, begin=begin, end=end, melted=False\n",
    ")\n"
   ]
  },
  {
   "cell_type": "code",
   "execution_count": null,
   "id": "bf259b3e",
   "metadata": {},
   "outputs": [],
   "source": [
    "data.df"
   ]
  },
  {
   "cell_type": "markdown",
   "id": "1f51480a",
   "metadata": {},
   "source": [
    "## get timeseries versioned default"
   ]
  },
  {
   "cell_type": "code",
   "execution_count": null,
   "id": "96764faa",
   "metadata": {},
   "outputs": [],
   "source": [
    "timeseries_id = \"TEST.Text.Inst.1Hour.0.MockTest\"\n",
    "office_id = \"SWT\"\n",
    "timezone = pytz.timezone(\"UTC\")\n",
    "begin = timezone.localize(datetime(2008, 5, 1, 15, 0, 0))\n",
    "end = timezone.localize(datetime(2008, 5, 1, 17, 0, 0))\n",
    "version_date = timezone.localize(datetime(2021, 6, 20, 8, 0, 0))\n",
    "data = timeseries.get_timeseries(\n",
    "    ts_id=timeseries_id,\n",
    "    office_id=office_id,\n",
    "    begin=begin,\n",
    "    end=end,\n",
    "    version_date=version_date,\n",
    ")\n"
   ]
  },
  {
   "cell_type": "code",
   "execution_count": null,
   "id": "c9f78564",
   "metadata": {},
   "outputs": [],
   "source": [
    "data.json"
   ]
  },
  {
   "cell_type": "code",
   "execution_count": null,
   "id": "92cfc513",
   "metadata": {},
   "outputs": [],
   "source": [
    "data.df"
   ]
  },
  {
   "cell_type": "markdown",
   "id": "204f5a05",
   "metadata": {},
   "source": [
    "# STORE Requests"
   ]
  },
  {
   "cell_type": "markdown",
   "id": "48f34449",
   "metadata": {},
   "source": [
    "## create timeseries unversioned default"
   ]
  },
  {
   "cell_type": "code",
   "execution_count": null,
   "id": "b6a026c9",
   "metadata": {},
   "outputs": [],
   "source": [
    "# Input Data:\n",
    "data = {\n",
    "    \"office-id\": \"SWT\",\n",
    "    \"name\": \"TEST.Flow.Inst.1Hour.0.MockTest\",\n",
    "    \"date-version-type\": \"UNVERSIONED\",\n",
    "    \"units\": \"CFS\",\n",
    "    \"value-columns\": [\n",
    "        {\"name\": \"date-time\", \"ordinal\": 1, \"datatype\": \"java.sql.Timestamp\"},\n",
    "        {\"name\": \"value\", \"ordinal\": 2, \"datatype\": \"java.lang.Double\"},\n",
    "        {\"name\": \"quality-code\", \"ordinal\": 3, \"datatype\": \"int\"},\n",
    "    ],\n",
    "    \"values\": [\n",
    "        [1209654000000, 1, 0],\n",
    "        [1209657600000, 2, 0],\n",
    "        [1209661200000, 3, 0],\n",
    "        [1209664800000, 4, 0],\n",
    "    ],\n",
    "}\n",
    "\n"
   ]
  },
  {
   "cell_type": "code",
   "execution_count": null,
   "id": "efc26106",
   "metadata": {},
   "outputs": [],
   "source": [
    "timeseries.store_timeseries(data=data)\n"
   ]
  },
  {
   "cell_type": "markdown",
   "id": "fdccba70",
   "metadata": {},
   "source": [
    "## create timeseries versioned default"
   ]
  },
  {
   "cell_type": "code",
   "execution_count": null,
   "id": "b442cad1",
   "metadata": {},
   "outputs": [],
   "source": [
    "# Input Data:\n",
    "data = {\n",
    "    \"date-version-type\": \"SINGLE_VERSION\",\n",
    "    \"office-id\": \"SWT\",\n",
    "    \"name\": \"TEST.Flow.Inst.1Hour.0.MockTest\",\n",
    "    \"units\": \"CFS\",\n",
    "    \"version-date\": \"2021-06-20T08:00:00-0000[UTC]\",\n",
    "    \"value-columns\": [\n",
    "        {\"name\": \"date-time\", \"ordinal\": 1, \"datatype\": \"java.sql.Timestamp\"},\n",
    "        {\"name\": \"value\", \"ordinal\": 2, \"datatype\": \"java.lang.Double\"},\n",
    "        {\"name\": \"quality-code\", \"ordinal\": 3, \"datatype\": \"int\"},\n",
    "    ],\n",
    "    \"values\": [\n",
    "        [1209654000000, 4, 0],\n",
    "        [1209657600000, 4, 0],\n",
    "        [1209661200000, 4, 0],\n",
    "        [1209664800000, 3, 0],\n",
    "    ],\n",
    "}\n",
    "\n"
   ]
  },
  {
   "cell_type": "code",
   "execution_count": null,
   "id": "7ff5cd68",
   "metadata": {},
   "outputs": [],
   "source": [
    "timeseries.store_timeseries(data=data)\n"
   ]
  },
  {
   "cell_type": "markdown",
   "id": "bd5e402e",
   "metadata": {},
   "source": [
    "# Other API Calls"
   ]
  },
  {
   "cell_type": "markdown",
   "id": "b8a0bcc9",
   "metadata": {},
   "source": [
    "## update timeseries groups"
   ]
  },
  {
   "cell_type": "code",
   "execution_count": null,
   "id": "3018209a",
   "metadata": {},
   "outputs": [],
   "source": [
    "group_id = \"USGS TS Data Acquisition\"\n",
    "office_id = \"CWMS\"\n",
    "replace_assigned_ts = True\n",
    "data = _TS_GROUP\n",
    "timeseries.update_timeseries_groups(\n",
    "    data=data,\n",
    "    group_id=group_id,\n",
    "    office_id=office_id,\n",
    "    replace_assigned_ts=replace_assigned_ts,\n",
    ")\n"
   ]
  },
  {
   "cell_type": "markdown",
   "id": "fe745c51",
   "metadata": {},
   "source": [
    "## timeseries group df to json valid data"
   ]
  },
  {
   "cell_type": "code",
   "execution_count": null,
   "id": "fbe7f5a0",
   "metadata": {},
   "outputs": [],
   "source": [
    "data = pd.DataFrame(\n",
    "    {\n",
    "        \"office-id\": [\"office123\", \"office456\"],\n",
    "        \"timeseries-id\": [\"ts1\", \"ts2\"],\n",
    "        \"alias-id\": [None, \"alias2\"],\n",
    "        \"attribute\": [0, 10],\n",
    "        \"ts-code\": [\"code1\", None],\n",
    "    }\n",
    ")\n",
    "required_columns = [\"office-id\", \"timeseries-id\"]\n",
    "data = data.dropna(subset=required_columns)\n",
    "optional_columns = [\"alias-id\", \"ts-code\"]\n",
    "for col in optional_columns:\n",
    "    if col in data.columns:\n",
    "        data[col] = data[col].where(pd.notnull(data[col]), None)\n",
    "expected_json = {\n",
    "    \"office-id\": \"office123\",\n",
    "    \"id\": \"group123\",\n",
    "    \"time-series-category\": {\"office-id\": \"office123\", \"id\": \"cat123\"},\n",
    "    \"assigned-time-series\": [\n",
    "        {\n",
    "            \"office-id\": \"office123\",\n",
    "            \"timeseries-id\": \"ts1\",\n",
    "            \"alias-id\": None,\n",
    "            \"attribute\": 0,\n",
    "            \"ts-code\": \"code1\",\n",
    "        },\n",
    "        {\n",
    "            \"office-id\": \"office456\",\n",
    "            \"timeseries-id\": \"ts2\",\n",
    "            \"alias-id\": \"alias2\",\n",
    "            \"attribute\": 10,\n",
    "        },\n",
    "    ],\n",
    "}\n",
    "result = timeseries.timeseries_group_df_to_json(data, \"group123\", \"office123\", \"cat123\")\n"
   ]
  },
  {
   "cell_type": "markdown",
   "id": "d5172705",
   "metadata": {},
   "source": [
    "## timeseries df to json"
   ]
  },
  {
   "cell_type": "code",
   "execution_count": null,
   "id": "accb3d4a",
   "metadata": {},
   "outputs": [],
   "source": [
    "test_json = {\n",
    "    \"name\": \"TestLoc.Stage.Inst.1Hour.0.Testing\",\n",
    "    \"office-id\": \"MVP\",\n",
    "    \"units\": \"ft\",\n",
    "    \"values\": [\n",
    "        [\"2024-08-18T04:00:00+00:00\", 1, 0],\n",
    "        [\"2024-08-18T05:00:00+00:00\", 1, 0],\n",
    "        [\"2024-08-18T06:00:00+00:00\", 1, 0],\n",
    "        [\"2024-08-18T07:00:00+00:00\", 1, 0],\n",
    "        [\"2024-08-18T08:00:00+00:00\", 1, 0],\n",
    "    ],\n",
    "    \"version-date\": None,\n",
    "}\n",
    "data = pd.DataFrame(\n",
    "    {\n",
    "        \"date-time\": pd.date_range(\n",
    "            start=\"2024-08-18\", end=\"2024-08-18 04:00\", freq=\"1h\"\n",
    "        ),\n",
    "        \"value\": 1,\n",
    "    }\n",
    ")\n",
    "data[\"date-time\"] = data[\"date-time\"].dt.tz_localize(\"US/Eastern\")\n",
    "office_id = \"MVP\"\n",
    "ts_id = \"TestLoc.Stage.Inst.1Hour.0.Testing\"\n",
    "data2 = data.copy()\n",
    "ts_json = cwms.timeseries_df_to_json(\n",
    "    data=data, ts_id=ts_id, office_id=office_id, units=\"ft\"\n",
    ")\n"
   ]
  }
 ],
 "metadata": {},
 "nbformat": 4,
 "nbformat_minor": 5
}
