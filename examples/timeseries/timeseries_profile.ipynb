{
 "cells": [
  {
   "cell_type": "markdown",
   "id": "e378e086",
   "metadata": {},
   "source": [
    "# Timeseries Examples\n"
   ]
  },
  {
   "cell_type": "markdown",
   "id": "b82e9a5e",
   "metadata": {},
   "source": [
    "**Example generated from:** [/tests/timeseries/timeseries_profile_test.py](https://github.com/HydrologicEngineeringCenter/cwms-python/tree/main/tests/timeseries/timeseries_profile_test.py)"
   ]
  },
  {
   "cell_type": "code",
   "execution_count": null,
   "id": "e1f65159",
   "metadata": {},
   "outputs": [],
   "source": [
    "from cwms.api import init_session\n",
    "import cwms.api\n",
    "import cwms.timeseries.timeseries_profile as timeseries"
   ]
  },
  {
   "cell_type": "markdown",
   "id": "7df2bc45",
   "metadata": {},
   "source": [
    "### Initializing the database and write access\n",
    "cwms-python will connect by default to the USACE public database available through [CWMS Data](https://cwms-data.usace.army.mil/cwms-data/). \n",
    "\n",
    "https://cwms-data.usace.army.mil/cwms-data/\n",
    "\n",
    "The apiRoot can be updated to access data directly from a USACE district database.\n",
    "* Endpoints on the [Swagger Docs page](https://cwms-data.usace.army.mil/cwms-data/swagger-ui.html) with a 🔒 icon require the apiKey be set."
   ]
  },
  {
   "cell_type": "code",
   "execution_count": null,
   "id": "f2382340",
   "metadata": {},
   "outputs": [],
   "source": [
    "api_root = \"https://cwms-data-test.cwbi.us/cwms-data/\"\n",
    "api = init_session(api_root=api_root)"
   ]
  },
  {
   "cell_type": "markdown",
   "id": "4a1a7502",
   "metadata": {},
   "source": [
    "# GET Requests"
   ]
  },
  {
   "cell_type": "markdown",
   "id": "22b577cb",
   "metadata": {},
   "source": [
    "## get timeseries profile"
   ]
  },
  {
   "cell_type": "code",
   "execution_count": null,
   "id": "d5f19043",
   "metadata": {},
   "outputs": [],
   "source": [
    "parameter_id = \"Depth\"\n",
    "office_id = \"SWT\"\n",
    "location_id = \"SWAN\"\n",
    "data = timeseries.get_timeseries_profile(office_id, location_id, parameter_id)\n"
   ]
  },
  {
   "cell_type": "code",
   "execution_count": null,
   "id": "3584773e",
   "metadata": {},
   "outputs": [],
   "source": [
    "data.json"
   ]
  },
  {
   "cell_type": "markdown",
   "id": "b6f197cc",
   "metadata": {},
   "source": [
    "## get all timeseries profile"
   ]
  },
  {
   "cell_type": "code",
   "execution_count": null,
   "id": "ce80b1ea",
   "metadata": {},
   "outputs": [],
   "source": [
    "data = timeseries.get_timeseries_profiles(\"*\", \"*\", \"*\")\n"
   ]
  },
  {
   "cell_type": "code",
   "execution_count": null,
   "id": "40f8ac9f",
   "metadata": {},
   "outputs": [],
   "source": [
    "data.json"
   ]
  },
  {
   "cell_type": "markdown",
   "id": "57eebbaa",
   "metadata": {},
   "source": [
    "# STORE Requests"
   ]
  },
  {
   "cell_type": "markdown",
   "id": "de992f47",
   "metadata": {},
   "source": [
    "## store timeseries profile"
   ]
  },
  {
   "cell_type": "code",
   "execution_count": null,
   "id": "33f2b9f1",
   "metadata": {},
   "outputs": [],
   "source": [
    "data = _TSP_JSON\n",
    "timeseries.store_timeseries_profile(data, False)\n"
   ]
  },
  {
   "cell_type": "markdown",
   "id": "1f449cac",
   "metadata": {},
   "source": [
    "# DELETE Requests"
   ]
  },
  {
   "cell_type": "markdown",
   "id": "d8102255",
   "metadata": {},
   "source": [
    "## delete timeseries profile"
   ]
  },
  {
   "cell_type": "code",
   "execution_count": null,
   "id": "77cb1cd3",
   "metadata": {},
   "outputs": [],
   "source": [
    "location_id = \"SWAN\"\n",
    "parameter_id = \"Depth\"\n",
    "office_id = \"SWT\"\n",
    "timeseries.delete_timeseries_profile(office_id, parameter_id, location_id)\n"
   ]
  }
 ],
 "metadata": {},
 "nbformat": 4,
 "nbformat_minor": 5
}
