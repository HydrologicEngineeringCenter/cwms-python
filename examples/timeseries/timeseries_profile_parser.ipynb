{
 "cells": [
  {
   "cell_type": "markdown",
   "id": "dd3eb6db",
   "metadata": {},
   "source": [
    "# Timeseries Examples\n"
   ]
  },
  {
   "cell_type": "markdown",
   "id": "e17ac508",
   "metadata": {},
   "source": [
    "**Example generated from:** [/tests/timeseries/timeseries_profile_parser_test.py](https://github.com/HydrologicEngineeringCenter/cwms-python/tree/main/tests/timeseries/timeseries_profile_parser_test.py)"
   ]
  },
  {
   "cell_type": "code",
   "execution_count": null,
   "id": "2cdc3c06",
   "metadata": {},
   "outputs": [],
   "source": [
    "from cwms.api import init_session\n",
    "import cwms.api\n",
    "import cwms.timeseries.timeseries_profile_parser as timeseries"
   ]
  },
  {
   "cell_type": "markdown",
   "id": "2ae32ecc",
   "metadata": {},
   "source": [
    "### Initializing the database and write access\n",
    "cwms-python will connect by default to the USACE public database available through [CWMS Data](https://cwms-data.usace.army.mil/cwms-data/). \n",
    "\n",
    "https://cwms-data.usace.army.mil/cwms-data/\n",
    "\n",
    "The apiRoot can be updated to access data directly from a USACE district database.\n",
    "* Endpoints on the [Swagger Docs page](https://cwms-data.usace.army.mil/cwms-data/swagger-ui.html) with a 🔒 icon require the apiKey be set."
   ]
  },
  {
   "cell_type": "code",
   "execution_count": null,
   "id": "b4d83088",
   "metadata": {},
   "outputs": [],
   "source": [
    "api_root = \"https://cwms-data-test.cwbi.us/cwms-data/\"\n",
    "api = init_session(api_root=api_root)"
   ]
  },
  {
   "cell_type": "markdown",
   "id": "fffb3a6d",
   "metadata": {},
   "source": [
    "# GET Requests"
   ]
  },
  {
   "cell_type": "markdown",
   "id": "277ce901",
   "metadata": {},
   "source": [
    "## get timeseries profile parser"
   ]
  },
  {
   "cell_type": "code",
   "execution_count": null,
   "id": "bcbdb990",
   "metadata": {},
   "outputs": [],
   "source": [
    "location_id = \"SWAN\"\n",
    "office_id = \"SWT\"\n",
    "parameter_id = \"Temp\"\n",
    "data = timeseries.get_timeseries_profile_parser(office_id, location_id, parameter_id)\n"
   ]
  },
  {
   "cell_type": "code",
   "execution_count": null,
   "id": "3fb71d42",
   "metadata": {},
   "outputs": [],
   "source": [
    "data.json"
   ]
  },
  {
   "cell_type": "markdown",
   "id": "034b08ca",
   "metadata": {},
   "source": [
    "## get all timeseries profile parser"
   ]
  },
  {
   "cell_type": "code",
   "execution_count": null,
   "id": "8d71ad78",
   "metadata": {},
   "outputs": [],
   "source": [
    "data = timeseries.get_timeseries_profile_parsers(\"*\", \"*\", \"*\")\n"
   ]
  },
  {
   "cell_type": "code",
   "execution_count": null,
   "id": "37fde80f",
   "metadata": {},
   "outputs": [],
   "source": [
    "data.json"
   ]
  },
  {
   "cell_type": "markdown",
   "id": "04ba00fd",
   "metadata": {},
   "source": [
    "# STORE Requests"
   ]
  },
  {
   "cell_type": "markdown",
   "id": "789c3c25",
   "metadata": {},
   "source": [
    "## store timeseries profile parser"
   ]
  },
  {
   "cell_type": "code",
   "execution_count": null,
   "id": "d3c278f2",
   "metadata": {},
   "outputs": [],
   "source": [
    "data = _TSP_PARSER_JSON\n",
    "timeseries.store_timeseries_profile_parser(data, False)\n"
   ]
  },
  {
   "cell_type": "markdown",
   "id": "f15cbf57",
   "metadata": {},
   "source": [
    "# DELETE Requests"
   ]
  },
  {
   "cell_type": "markdown",
   "id": "b6e06f14",
   "metadata": {},
   "source": [
    "## delete timeseries profile parser"
   ]
  },
  {
   "cell_type": "code",
   "execution_count": null,
   "id": "1ee1a978",
   "metadata": {},
   "outputs": [],
   "source": [
    "parameter_id = \"Length\"\n",
    "location_id = \"SWAN\"\n",
    "office_id = \"SWT\"\n",
    "timeseries.delete_timeseries_profile_parser(office_id, location_id, parameter_id)\n"
   ]
  }
 ],
 "metadata": {},
 "nbformat": 4,
 "nbformat_minor": 5
}
