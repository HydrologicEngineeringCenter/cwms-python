{
 "cells": [
  {
   "cell_type": "markdown",
   "id": "02085323",
   "metadata": {},
   "source": [
    "# Timeseries Examples\n"
   ]
  },
  {
   "cell_type": "markdown",
   "id": "d86e72bc",
   "metadata": {},
   "source": [
    "**Example generated from:** [/tests/timeseries/timeseries_bin_test.py](https://github.com/HydrologicEngineeringCenter/cwms-python/tree/main/tests/timeseries/timeseries_bin_test.py)"
   ]
  },
  {
   "cell_type": "code",
   "execution_count": null,
   "id": "e2c8b8f0",
   "metadata": {},
   "outputs": [],
   "source": [
    "from cwms.api import init_session\n",
    "from datetime import datetime\n",
    "import pytz\n",
    "import cwms.api\n",
    "import cwms.timeseries.timeseries_bin as timeseries"
   ]
  },
  {
   "cell_type": "markdown",
   "id": "e435d278",
   "metadata": {},
   "source": [
    "### Initializing the database and write access\n",
    "cwms-python will connect by default to the USACE public database available through [CWMS Data](https://cwms-data.usace.army.mil/cwms-data/). \n",
    "\n",
    "https://cwms-data.usace.army.mil/cwms-data/\n",
    "\n",
    "The apiRoot can be updated to access data directly from a USACE district database.\n",
    "* Endpoints on the [Swagger Docs page](https://cwms-data.usace.army.mil/cwms-data/swagger-ui.html) with a 🔒 icon require the apiKey be set."
   ]
  },
  {
   "cell_type": "code",
   "execution_count": null,
   "id": "2860e97e",
   "metadata": {},
   "outputs": [],
   "source": [
    "api_root = \"https://cwms-data-test.cwbi.us/cwms-data/\"\n",
    "api = init_session(api_root=api_root)"
   ]
  },
  {
   "cell_type": "markdown",
   "id": "202d761f",
   "metadata": {},
   "source": [
    "# GET Requests"
   ]
  },
  {
   "cell_type": "markdown",
   "id": "2985fa19",
   "metadata": {},
   "source": [
    "## get binary timeseries default"
   ]
  },
  {
   "cell_type": "code",
   "execution_count": null,
   "id": "282a5264",
   "metadata": {},
   "outputs": [],
   "source": [
    "timeseries_id = \"TEST.Binary.Inst.1Hour.0.MockTest\"\n",
    "office_id = \"SPK\"\n",
    "timezone = pytz.timezone(\"US/Pacific\")\n",
    "begin = timezone.localize(datetime(2024, 2, 12, 0, 0, 0))\n",
    "end = timezone.localize(datetime(2020, 2, 12, 2, 0, 0))\n",
    "data = timeseries.get_binary_timeseries(timeseries_id, office_id, begin, end)\n"
   ]
  },
  {
   "cell_type": "code",
   "execution_count": null,
   "id": "72e561b5",
   "metadata": {},
   "outputs": [],
   "source": [
    "data.json"
   ]
  },
  {
   "cell_type": "markdown",
   "id": "cf80ef90",
   "metadata": {},
   "source": [
    "## get binary timeseries"
   ]
  },
  {
   "cell_type": "code",
   "execution_count": null,
   "id": "a2122af2",
   "metadata": {},
   "outputs": [],
   "source": [
    "timeseries_id = \"TEST.Binary.Inst.1Hour.0.MockTest\"\n",
    "office_id = \"SPK\"\n",
    "timezone = pytz.timezone(\"US/Pacific\")\n",
    "begin = timezone.localize(datetime(2024, 2, 12, 0, 0, 0))\n",
    "end = timezone.localize(datetime(2020, 2, 12, 2, 0, 0))\n",
    "data = timeseries.get_binary_timeseries(\n",
    "    timeseries_id, office_id, begin, end, bin_type_mask=\"text/plain\"\n",
    ")\n"
   ]
  },
  {
   "cell_type": "code",
   "execution_count": null,
   "id": "0cf286b3",
   "metadata": {},
   "outputs": [],
   "source": [
    "data.json"
   ]
  },
  {
   "cell_type": "markdown",
   "id": "9473100b",
   "metadata": {},
   "source": [
    "# STORE Requests"
   ]
  },
  {
   "cell_type": "markdown",
   "id": "c94dea38",
   "metadata": {},
   "source": [
    "## create binary timeseries"
   ]
  },
  {
   "cell_type": "code",
   "execution_count": null,
   "id": "c86d53e7",
   "metadata": {},
   "outputs": [],
   "source": [
    "# Input Data:\n",
    "data = {\n",
    "    \"office-id\": \"SPK\",\n",
    "    \"name\": \"TEST.Binary.Inst.1Hour.0.MockTest\",\n",
    "    \"interval-offset\": 0,\n",
    "    \"time-zone\": \"America/Los_Angeles\",\n",
    "    \"binary-values\": [\n",
    "        {\n",
    "            \"date-time\": \"2024-02-12T00:00:00Z\",\n",
    "            \"version-date\": \"2024-02-12T00:00:00Z\",\n",
    "            \"data-entry-date\": \"2024-02-12T00:00:00Z\",\n",
    "            \"attribute\": 0,\n",
    "            \"media-type\": \"text/plain\",\n",
    "            \"file-extension\": \"txt\",\n",
    "            \"binary-value\": [72, 101, 108, 108, 111, 44, 32, 87, 111, 114, 108, 100],\n",
    "        }\n",
    "    ],\n",
    "}\n",
    "\n"
   ]
  },
  {
   "cell_type": "code",
   "execution_count": null,
   "id": "a8513678",
   "metadata": {},
   "outputs": [],
   "source": [
    "timeseries.store_binary_timeseries(data, True)\n"
   ]
  },
  {
   "cell_type": "markdown",
   "id": "5220fac3",
   "metadata": {},
   "source": [
    "# DELETE Requests"
   ]
  },
  {
   "cell_type": "markdown",
   "id": "43c79f20",
   "metadata": {},
   "source": [
    "## delete binary timeseries"
   ]
  },
  {
   "cell_type": "code",
   "execution_count": null,
   "id": "a6ad153d",
   "metadata": {},
   "outputs": [],
   "source": [
    "level_id = \"TEST.Binary.Inst.1Hour.0.MockTest\"\n",
    "office_id = \"SPK\"\n",
    "timezone = pytz.timezone(\"US/Pacific\")\n",
    "begin = timezone.localize(datetime(2024, 2, 12, 0, 0, 0))\n",
    "end = timezone.localize(datetime(2020, 2, 12, 2, 0, 0))\n",
    "timeseries.delete_binary_timeseries(\n",
    "    level_id, office_id, begin, end, bin_type_mask=\"text/plain\"\n",
    ")\n"
   ]
  }
 ],
 "metadata": {},
 "nbformat": 4,
 "nbformat_minor": 5
}
