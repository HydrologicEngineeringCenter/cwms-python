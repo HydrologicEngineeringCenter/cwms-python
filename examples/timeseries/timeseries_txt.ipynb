{
 "cells": [
  {
   "cell_type": "markdown",
   "id": "fb03eb2c",
   "metadata": {},
   "source": [
    "# Timeseries Examples\n"
   ]
  },
  {
   "cell_type": "markdown",
   "id": "11337246",
   "metadata": {},
   "source": [
    "**Example generated from:** [/tests/timeseries/timeseries_txt_test.py](https://github.com/HydrologicEngineeringCenter/cwms-python/tree/main/tests/timeseries/timeseries_txt_test.py)"
   ]
  },
  {
   "cell_type": "code",
   "execution_count": null,
   "id": "0a9dd96d",
   "metadata": {},
   "outputs": [],
   "source": [
    "from cwms.api import init_session\n",
    "from datetime import datetime\n",
    "import pytz\n",
    "import cwms.api\n",
    "import cwms.timeseries.timeseries_txt as timeseries"
   ]
  },
  {
   "cell_type": "markdown",
   "id": "ea195059",
   "metadata": {},
   "source": [
    "### Initializing the database and write access\n",
    "cwms-python will connect by default to the USACE public database available through [CWMS Data](https://cwms-data.usace.army.mil/cwms-data/). \n",
    "\n",
    "https://cwms-data.usace.army.mil/cwms-data/\n",
    "\n",
    "The apiRoot can be updated to access data directly from a USACE district database.\n",
    "* Endpoints on the [Swagger Docs page](https://cwms-data.usace.army.mil/cwms-data/swagger-ui.html) with a 🔒 icon require the apiKey be set."
   ]
  },
  {
   "cell_type": "code",
   "execution_count": null,
   "id": "45e2c953",
   "metadata": {},
   "outputs": [],
   "source": [
    "api_root = \"https://cwms-data-test.cwbi.us/cwms-data/\"\n",
    "api = init_session(api_root=api_root)"
   ]
  },
  {
   "cell_type": "markdown",
   "id": "bd40df6a",
   "metadata": {},
   "source": [
    "# GET Requests"
   ]
  },
  {
   "cell_type": "markdown",
   "id": "28a50176",
   "metadata": {},
   "source": [
    "## get text timeseries default"
   ]
  },
  {
   "cell_type": "code",
   "execution_count": null,
   "id": "fa9febfd",
   "metadata": {},
   "outputs": [],
   "source": [
    "timeseries_id = \"TEST.Text.Inst.1Hour.0.MockTest\"\n",
    "office_id = \"SWT\"\n",
    "timezone = pytz.timezone(\"US/Pacific\")\n",
    "begin = timezone.localize(datetime(2024, 2, 12, 0, 0, 0))\n",
    "end = timezone.localize(datetime(2020, 2, 12, 2, 0, 0))\n",
    "data = timeseries.get_text_timeseries(timeseries_id, office_id, begin, end)\n"
   ]
  },
  {
   "cell_type": "code",
   "execution_count": null,
   "id": "2895c69c",
   "metadata": {},
   "outputs": [],
   "source": [
    "data.json"
   ]
  },
  {
   "cell_type": "markdown",
   "id": "5e06813a",
   "metadata": {},
   "source": [
    "## get text timeseries"
   ]
  },
  {
   "cell_type": "code",
   "execution_count": null,
   "id": "e7117111",
   "metadata": {},
   "outputs": [],
   "source": [
    "timeseries_id = \"TEST.Text.Inst.1Hour.0.MockTest\"\n",
    "office_id = \"SWT\"\n",
    "timezone = pytz.timezone(\"US/Pacific\")\n",
    "begin = timezone.localize(datetime(2024, 2, 12, 0, 0, 0))\n",
    "end = timezone.localize(datetime(2020, 2, 12, 2, 0, 0))\n",
    "data = timeseries.get_text_timeseries(timeseries_id, office_id, begin, end)\n"
   ]
  },
  {
   "cell_type": "code",
   "execution_count": null,
   "id": "92018cf4",
   "metadata": {},
   "outputs": [],
   "source": [
    "data.json"
   ]
  },
  {
   "cell_type": "markdown",
   "id": "3d5104b8",
   "metadata": {},
   "source": [
    "# STORE Requests"
   ]
  },
  {
   "cell_type": "markdown",
   "id": "2a1e84df",
   "metadata": {},
   "source": [
    "## create text timeseries"
   ]
  },
  {
   "cell_type": "code",
   "execution_count": null,
   "id": "05b99d8e",
   "metadata": {},
   "outputs": [],
   "source": [
    "# Input Data:\n",
    "data = {\n",
    "    \"office-id\": \"SWT\",\n",
    "    \"name\": \"TEST.Text.Inst.1Hour.0.MockTest\",\n",
    "    \"regular-text-values\": [\n",
    "        {\n",
    "            \"date-time\": \"2024-02-12T00:00:00Z\",\n",
    "            \"version-date\": \"2024-02-12T00:00:00Z\",\n",
    "            \"data-entry-date\": \"2024-02-12T00:00:00Z\",\n",
    "            \"attribute\": 0,\n",
    "            \"text-id\": \"id1\",\n",
    "            \"text-value\": \"Hello, Davis\",\n",
    "        },\n",
    "        {\n",
    "            \"date-time\": \"2024-02-12T01:00:00Z\",\n",
    "            \"version-date\": \"2024-02-12T00:00:00Z\",\n",
    "            \"data-entry-date\": \"2024-02-12T00:00:00Z\",\n",
    "            \"text-id\": \"id2\",\n",
    "            \"text-value\": \"Hello, USA\",\n",
    "        },\n",
    "    ],\n",
    "    \"standard-text-values\": [\n",
    "        {\n",
    "            \"date-time\": \"2024-02-12T02:00:00Z\",\n",
    "            \"version-date\": \"2024-02-12T00:00:00Z\",\n",
    "            \"data-entry-date\": \"2024-02-12T00:00:00Z\",\n",
    "            \"attribute\": 0,\n",
    "            \"office-id\": \"CWMS\",\n",
    "            \"standard-text-id\": \"HW\",\n",
    "            \"text-value\": \"Hello, World\",\n",
    "        }\n",
    "    ],\n",
    "    \"standard-text-catalog\": [\n",
    "        {\"office-id\": \"CWMS\", \"entries\": [{\"id\": \"HW\", \"value\": \"Hello, World\"}]}\n",
    "    ],\n",
    "}\n",
    "\n"
   ]
  },
  {
   "cell_type": "code",
   "execution_count": null,
   "id": "b7469658",
   "metadata": {},
   "outputs": [],
   "source": [
    "timeseries.store_text_timeseries(data, True)\n"
   ]
  },
  {
   "cell_type": "markdown",
   "id": "8f45ece5",
   "metadata": {},
   "source": [
    "# DELETE Requests"
   ]
  },
  {
   "cell_type": "markdown",
   "id": "d0c78d2b",
   "metadata": {},
   "source": [
    "## delete text timeseries"
   ]
  },
  {
   "cell_type": "code",
   "execution_count": null,
   "id": "25f07f98",
   "metadata": {},
   "outputs": [],
   "source": [
    "level_id = \"TEST.Text.Inst.1Hour.0.MockTest\"\n",
    "office_id = \"SWT\"\n",
    "timezone = pytz.timezone(\"US/Pacific\")\n",
    "begin = timezone.localize(datetime(2024, 2, 12, 0, 0, 0))\n",
    "end = timezone.localize(datetime(2020, 2, 12, 2, 0, 0))\n",
    "timeseries.delete_text_timeseries(\n",
    "    level_id, office_id, begin, end, text_mask=\"Hello, World\"\n",
    ")\n"
   ]
  }
 ],
 "metadata": {},
 "nbformat": 4,
 "nbformat_minor": 5
}
