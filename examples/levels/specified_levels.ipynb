{
 "cells": [
  {
   "cell_type": "markdown",
   "id": "597d9bf2",
   "metadata": {},
   "source": [
    "# Levels Examples\n"
   ]
  },
  {
   "cell_type": "markdown",
   "id": "1a0097ba",
   "metadata": {},
   "source": [
    "**Example generated from:** [/tests/levels/specified_levels_test.py](https://github.com/HydrologicEngineeringCenter/cwms-python/tree/main/tests/levels/specified_levels_test.py)"
   ]
  },
  {
   "cell_type": "code",
   "execution_count": null,
   "id": "0e1080f3",
   "metadata": {},
   "outputs": [],
   "source": [
    "from cwms.api import init_session\n",
    "from datetime import datetime\n",
    "import pytz\n",
    "from requests.exceptions import HTTPError\n",
    "import cwms.api\n",
    "import cwms.levels.specified_levels as specified_levels"
   ]
  },
  {
   "cell_type": "markdown",
   "id": "665b3280",
   "metadata": {},
   "source": [
    "### Initializing the database and write access\n",
    "cwms-python will connect by default to the USACE public database available through [CWMS Data](https://cwms-data.usace.army.mil/cwms-data/). \n",
    "\n",
    "https://cwms-data.usace.army.mil/cwms-data/\n",
    "\n",
    "The apiRoot can be updated to access data directly from a USACE district database.\n",
    "* Endpoints on the [Swagger Docs page](https://cwms-data.usace.army.mil/cwms-data/swagger-ui.html) with a 🔒 icon require the apiKey be set."
   ]
  },
  {
   "cell_type": "code",
   "execution_count": null,
   "id": "06bb052c",
   "metadata": {},
   "outputs": [],
   "source": [
    "api_root = \"https://cwms-data-test.cwbi.us/cwms-data/\"\n",
    "api = init_session(api_root=api_root)"
   ]
  },
  {
   "cell_type": "markdown",
   "id": "aef52128",
   "metadata": {},
   "source": [
    "# GET Requests"
   ]
  },
  {
   "cell_type": "markdown",
   "id": "9ffd3ae9",
   "metadata": {},
   "source": [
    "## get specified levels default"
   ]
  },
  {
   "cell_type": "code",
   "execution_count": null,
   "id": "9ffba5c6",
   "metadata": {},
   "outputs": [],
   "source": [
    "levels = specified_levels.get_specified_levels()\n"
   ]
  },
  {
   "cell_type": "markdown",
   "id": "322d834b",
   "metadata": {},
   "source": [
    "## get specified levels"
   ]
  },
  {
   "cell_type": "code",
   "execution_count": null,
   "id": "b7c9392a",
   "metadata": {},
   "outputs": [],
   "source": [
    "levels = specified_levels.get_specified_levels(\"*\", \"SWT\")\n"
   ]
  },
  {
   "cell_type": "markdown",
   "id": "17c5638f",
   "metadata": {},
   "source": [
    "# STORE Requests"
   ]
  },
  {
   "cell_type": "markdown",
   "id": "5635be36",
   "metadata": {},
   "source": [
    "## store specified level"
   ]
  },
  {
   "cell_type": "code",
   "execution_count": null,
   "id": "0279ac05",
   "metadata": {},
   "outputs": [],
   "source": [
    "specified_levels.store_specified_level(_SPEC_LEVEL_JSON)\n"
   ]
  },
  {
   "cell_type": "markdown",
   "id": "cf837093",
   "metadata": {},
   "source": [
    "# DELETE Requests"
   ]
  },
  {
   "cell_type": "markdown",
   "id": "1504637b",
   "metadata": {},
   "source": [
    "## delete specified level"
   ]
  },
  {
   "cell_type": "code",
   "execution_count": null,
   "id": "5a88cb67",
   "metadata": {},
   "outputs": [],
   "source": [
    "specified_levels.delete_specified_level(\"Test\", \"SWT\")\n"
   ]
  },
  {
   "cell_type": "markdown",
   "id": "629b737f",
   "metadata": {},
   "source": [
    "# Other API Calls"
   ]
  },
  {
   "cell_type": "markdown",
   "id": "60213c9d",
   "metadata": {},
   "source": [
    "## update specified level"
   ]
  },
  {
   "cell_type": "code",
   "execution_count": null,
   "id": "71218433",
   "metadata": {},
   "outputs": [],
   "source": [
    "specified_levels.update_specified_level(\"Test\", \"Test2\", \"SWT\")\n"
   ]
  }
 ],
 "metadata": {},
 "nbformat": 4,
 "nbformat_minor": 5
}
