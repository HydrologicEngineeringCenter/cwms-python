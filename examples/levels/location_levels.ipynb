{
 "cells": [
  {
   "cell_type": "markdown",
   "id": "a695015e",
   "metadata": {},
   "source": [
    "# Levels Examples\n"
   ]
  },
  {
   "cell_type": "markdown",
   "id": "85f5e45e",
   "metadata": {},
   "source": [
    "**Example generated from:** [/tests/levels/location_levels_test.py](https://github.com/HydrologicEngineeringCenter/cwms-python/tree/main/tests/levels/location_levels_test.py)"
   ]
  },
  {
   "cell_type": "code",
   "execution_count": null,
   "id": "fc2f0442",
   "metadata": {},
   "outputs": [],
   "source": [
    "from cwms.api import init_session\n",
    "from datetime import datetime\n",
    "import pytz\n",
    "import cwms.api\n",
    "import cwms.levels.location_levels as location_levels"
   ]
  },
  {
   "cell_type": "markdown",
   "id": "4e5d13cc",
   "metadata": {},
   "source": [
    "### Initializing the database and write access\n",
    "cwms-python will connect by default to the USACE public database available through [CWMS Data](https://cwms-data.usace.army.mil/cwms-data/). \n",
    "\n",
    "https://cwms-data.usace.army.mil/cwms-data/\n",
    "\n",
    "The apiRoot can be updated to access data directly from a USACE district database.\n",
    "* Endpoints on the [Swagger Docs page](https://cwms-data.usace.army.mil/cwms-data/swagger-ui.html) with a 🔒 icon require the apiKey be set."
   ]
  },
  {
   "cell_type": "code",
   "execution_count": null,
   "id": "70ce6702",
   "metadata": {},
   "outputs": [],
   "source": [
    "api_root = \"https://cwms-data-test.cwbi.us/cwms-data/\"\n",
    "api = init_session(api_root=api_root)"
   ]
  },
  {
   "cell_type": "markdown",
   "id": "4681d4fe",
   "metadata": {},
   "source": [
    "# GET Requests"
   ]
  },
  {
   "cell_type": "markdown",
   "id": "827220d9",
   "metadata": {},
   "source": [
    "## retrieve loc levels default"
   ]
  },
  {
   "cell_type": "code",
   "execution_count": null,
   "id": "6f939a95",
   "metadata": {},
   "outputs": [],
   "source": [
    "levels = location_levels.get_location_levels()\n"
   ]
  },
  {
   "cell_type": "markdown",
   "id": "7d4fbd19",
   "metadata": {},
   "source": [
    "## get loc levels"
   ]
  },
  {
   "cell_type": "code",
   "execution_count": null,
   "id": "4cf25af1",
   "metadata": {},
   "outputs": [],
   "source": [
    "level_id = \"AARK.Elev.Inst.0.Bottom of Inlet\"\n",
    "office_id = \"SWT\"\n",
    "unit = \"m\"\n",
    "datum = \"NAV88\"\n",
    "timezone = pytz.timezone(\"US/Pacific\")\n",
    "begin = timezone.localize(datetime(2020, 2, 14, 10, 30, 0))\n",
    "end = timezone.localize(datetime(2020, 3, 30, 10, 30, 0))\n",
    "page = \"MHx8bnVsbHx8MTAw\"\n",
    "page_size = 100\n",
    "levels = location_levels.get_location_levels(\n",
    "    level_id, office_id, unit, datum, begin, end, page, page_size\n",
    ")\n"
   ]
  },
  {
   "cell_type": "markdown",
   "id": "9216419a",
   "metadata": {},
   "source": [
    "## get loc level"
   ]
  },
  {
   "cell_type": "code",
   "execution_count": null,
   "id": "2c018420",
   "metadata": {},
   "outputs": [],
   "source": [
    "level_id = \"AARK.Elev.Inst.0.Bottom of Inlet\"\n",
    "office_id = \"SWT\"\n",
    "unit = \"m\"\n",
    "timezone = pytz.timezone(\"US/Pacific\")\n",
    "effective_date = timezone.localize(datetime(2020, 2, 14, 10, 30, 0))\n",
    "levels = location_levels.get_location_level(level_id, office_id, effective_date, unit)\n"
   ]
  },
  {
   "cell_type": "markdown",
   "id": "a6893947",
   "metadata": {},
   "source": [
    "## get loc level ts"
   ]
  },
  {
   "cell_type": "code",
   "execution_count": null,
   "id": "10b28f32",
   "metadata": {},
   "outputs": [],
   "source": [
    "level_id = \"AARK.Elev.Inst.0.Bottom of Inlet\"\n",
    "office_id = \"SWT\"\n",
    "interval = \"1Day\"\n",
    "timezone = pytz.timezone(\"US/Pacific\")\n",
    "begin = timezone.localize(datetime(2020, 2, 14, 10, 30, 0))\n",
    "end = timezone.localize(datetime(2020, 3, 14, 10, 30, 0))\n",
    "levels = location_levels.get_level_as_timeseries(\n",
    "    level_id, office_id, \"m\", begin, end, interval\n",
    ")\n"
   ]
  },
  {
   "cell_type": "markdown",
   "id": "ab64fbd7",
   "metadata": {},
   "source": [
    "# STORE Requests"
   ]
  },
  {
   "cell_type": "markdown",
   "id": "77760591",
   "metadata": {},
   "source": [
    "## store loc level json"
   ]
  },
  {
   "cell_type": "code",
   "execution_count": null,
   "id": "82cb19a0",
   "metadata": {},
   "outputs": [],
   "source": [
    "data = _LOC_LEVEL_JSON\n",
    "location_levels.store_location_level(data)\n"
   ]
  },
  {
   "cell_type": "markdown",
   "id": "8b0b6738",
   "metadata": {},
   "source": [
    "# DELETE Requests"
   ]
  },
  {
   "cell_type": "markdown",
   "id": "236b044f",
   "metadata": {},
   "source": [
    "## delete loc level"
   ]
  },
  {
   "cell_type": "code",
   "execution_count": null,
   "id": "421b6546",
   "metadata": {},
   "outputs": [],
   "source": [
    "level_id = \"AARK.Elev.Inst.0.Bottom of Inlet\"\n",
    "office_id = \"SWT\"\n",
    "timezone = pytz.timezone(\"US/Pacific\")\n",
    "effective_date = timezone.localize(datetime(2020, 2, 14, 10, 30, 0))\n",
    "location_levels.delete_location_level(level_id, office_id, effective_date, True)\n"
   ]
  }
 ],
 "metadata": {},
 "nbformat": 4,
 "nbformat_minor": 5
}
