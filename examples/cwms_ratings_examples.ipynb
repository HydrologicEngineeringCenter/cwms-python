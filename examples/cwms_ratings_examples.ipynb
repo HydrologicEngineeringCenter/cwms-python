{
 "cells": [
  {
   "cell_type": "code",
   "execution_count": 1,
   "id": "43b2dda7-c7e6-4f5c-a26b-37ea187f67d7",
   "metadata": {
    "tags": []
   },
   "outputs": [],
   "source": [
    "#libraries\n",
    "import pandas as pd\n",
    "import numpy as np\n",
    "from datetime import datetime, timedelta, timezone\n",
    "import json\n",
    "\n",
    "import cwms"
   ]
  },
  {
   "cell_type": "markdown",
   "id": "c0bbc4f0-8da3-489e-8269-67e60d8f164b",
   "metadata": {},
   "source": [
    "### Initializing the database and write access\n",
    "cwms-python will connect by default to the USACE public database available through https://cwms-data.usace.army.mil/cwms-data/.  This is the database that hosts data for https://water.usace.army.mil/.  The apiRoot can be updated to access data directly from a USACE district database.  This can be done with the cwms.api.init_session.  For users with write capabilitied to the database an apiKey is required and can be also be initialized using the cwms.api.init_sessions.  For users who only want to access data from the public database these steps are not needed and all get functions in cwms-pythong can be used without initializing."
   ]
  },
  {
   "cell_type": "code",
   "execution_count": 2,
   "id": "96b2383b-d0aa-4bff-9482-95f7af73482f",
   "metadata": {
    "tags": []
   },
   "outputs": [],
   "source": [
    "apiRoot = \"https://cwms-data-test.cwbi.us/cwms-data/\"  "
   ]
  },
  {
   "cell_type": "code",
   "execution_count": 3,
   "id": "4b3c7557-f288-4367-8bf3-96c9e5ff128e",
   "metadata": {
    "tags": []
   },
   "outputs": [
    {
     "name": "stdin",
     "output_type": "stream",
     "text": [
      " ········\n"
     ]
    }
   ],
   "source": [
    "from getpass import getpass\n",
    "apiKey = \"apikey \" + getpass()"
   ]
  },
  {
   "cell_type": "code",
   "execution_count": 4,
   "id": "1a6bd703-1e1a-46ef-85e2-e52b6bd7bb8f",
   "metadata": {
    "tags": []
   },
   "outputs": [],
   "source": [
    "api = cwms.api.init_session(api_root=apiRoot,api_key=apiKey)"
   ]
  },
  {
   "cell_type": "markdown",
   "id": "3041686d-6ee8-4f96-a847-0d7590c1e995",
   "metadata": {},
   "source": [
    "## Create a Location to Save the Ratings to"
   ]
  },
  {
   "cell_type": "code",
   "execution_count": 5,
   "id": "1bb04914-750c-40d1-8f23-35f62eaf9f4e",
   "metadata": {
    "tags": []
   },
   "outputs": [],
   "source": [
    "location = \"\"\"\n",
    "    {\n",
    "      \"name\": \"TestRating\",\n",
    "      \"latitude\": 0,\n",
    "      \"longitude\": 0,\n",
    "      \"active\": true,\n",
    "      \"public-name\": \"CWMS TESTING\",\n",
    "      \"long-name\": \"CWMS TESTING\",\n",
    "      \"description\": \"CWMS TESTING\",\n",
    "      \"timezone-name\": \"America/Los_Angeles\",\n",
    "      \"location-kind\": \"PROJECT\",\n",
    "      \"nation\": \"US\",\n",
    "      \"state-initial\": \"CA\",\n",
    "      \"county-name\": \"Yolo\",\n",
    "      \"nearest-city\": \"Davis, CA\",\n",
    "      \"horizontal-datum\": \"NAD83\",\n",
    "      \"vertical-datum\": \"NGVD29\",\n",
    "      \"elevation\": 320.04,\n",
    "      \"bounding-office-id\": \"MVP\",\n",
    "      \"office-id\": \"MVP\"\n",
    "    }\n",
    "    \"\"\"\n",
    "cwms.api.post(endpoint=\"locations\", data=location, params=None, api_version=2)"
   ]
  },
  {
   "cell_type": "markdown",
   "id": "c293646f-5d8e-4978-a666-319258d7da07",
   "metadata": {
    "tags": []
   },
   "source": [
    "## Create A Rating Template and View that template"
   ]
  },
  {
   "cell_type": "code",
   "execution_count": 6,
   "id": "a0cc79da-2a34-4796-9237-82854cdd2140",
   "metadata": {
    "tags": []
   },
   "outputs": [],
   "source": [
    "template_xml = '''<?xml version=\"1.0\" encoding=\"utf-8\"?>\n",
    "<rating-template office-id=\"MVP\">\n",
    "<parameters-id>Stage;Flow</parameters-id>\n",
    "<version>USGS-EXSA-TEST</version>\\n  <ind-parameter-specs>\n",
    "   <ind-parameter-spec position=\"1\">\n",
    "    <parameter>Stage</parameter>\n",
    "    <in-range-method>LINEAR</in-range-method>\n",
    "    <out-range-low-method>LINEAR</out-range-low-method>\n",
    "    <out-range-high-method>LINEAR</out-range-high-method>\n",
    "   </ind-parameter-spec>\n",
    "  </ind-parameter-specs>\n",
    "  <dep-parameter>Flow</dep-parameter>\n",
    "  <description>Expanded, Shift-Adjusted Stream Rating</description>\n",
    " </rating-template>'''"
   ]
  },
  {
   "cell_type": "code",
   "execution_count": 7,
   "id": "20052be1-6517-4ac7-ab40-2dce70fcb3b3",
   "metadata": {
    "tags": []
   },
   "outputs": [],
   "source": [
    "#store a rating template\n",
    "cwms.store_rating_template(data = template_xml)"
   ]
  },
  {
   "cell_type": "code",
   "execution_count": 8,
   "id": "7c53842b-9fa0-4abc-aab2-6ea4bbb165ee",
   "metadata": {
    "tags": []
   },
   "outputs": [],
   "source": [
    "# get a individual rating template\n",
    "template = cwms.get_rating_template(template_id='Stage;Flow.USGS-EXSA-TEST',office_id='MVP')"
   ]
  },
  {
   "cell_type": "code",
   "execution_count": 9,
   "id": "6d503838-1fb6-49ae-86f9-6b30e0b22ffa",
   "metadata": {
    "tags": []
   },
   "outputs": [
    {
     "data": {
      "text/plain": [
       "{'office-id': 'MVP',\n",
       " 'id': 'Stage;Flow.USGS-EXSA-TEST',\n",
       " 'version': 'USGS-EXSA-TEST',\n",
       " 'description': 'Expanded, Shift-Adjusted Stream Rating',\n",
       " 'dependent-parameter': 'Flow',\n",
       " 'independent-parameter-specs': [{'parameter': 'Stage',\n",
       "   'in-range-method': 'LINEAR',\n",
       "   'out-range-low-method': 'LINEAR',\n",
       "   'out-range-high-method': 'LINEAR'}],\n",
       " 'rating-ids': []}"
      ]
     },
     "execution_count": 9,
     "metadata": {},
     "output_type": "execute_result"
    }
   ],
   "source": [
    "template.json"
   ]
  },
  {
   "cell_type": "code",
   "execution_count": 10,
   "id": "a83282c2-27f4-4c9f-8004-5db6d6482fe4",
   "metadata": {
    "tags": []
   },
   "outputs": [
    {
     "data": {
      "text/html": [
       "<div>\n",
       "<style scoped>\n",
       "    .dataframe tbody tr th:only-of-type {\n",
       "        vertical-align: middle;\n",
       "    }\n",
       "\n",
       "    .dataframe tbody tr th {\n",
       "        vertical-align: top;\n",
       "    }\n",
       "\n",
       "    .dataframe thead th {\n",
       "        text-align: right;\n",
       "    }\n",
       "</style>\n",
       "<table border=\"1\" class=\"dataframe\">\n",
       "  <thead>\n",
       "    <tr style=\"text-align: right;\">\n",
       "      <th></th>\n",
       "      <th>office-id</th>\n",
       "      <th>id</th>\n",
       "      <th>version</th>\n",
       "      <th>description</th>\n",
       "      <th>dependent-parameter</th>\n",
       "      <th>independent-parameter-specs</th>\n",
       "      <th>rating-ids</th>\n",
       "    </tr>\n",
       "  </thead>\n",
       "  <tbody>\n",
       "    <tr>\n",
       "      <th>0</th>\n",
       "      <td>MVP</td>\n",
       "      <td>Stage;Flow.USGS-EXSA-TEST</td>\n",
       "      <td>USGS-EXSA-TEST</td>\n",
       "      <td>Expanded, Shift-Adjusted Stream Rating</td>\n",
       "      <td>Flow</td>\n",
       "      <td>[{'parameter': 'Stage', 'in-range-method': 'LI...</td>\n",
       "      <td>[]</td>\n",
       "    </tr>\n",
       "  </tbody>\n",
       "</table>\n",
       "</div>"
      ],
      "text/plain": [
       "  office-id                         id         version  \\\n",
       "0       MVP  Stage;Flow.USGS-EXSA-TEST  USGS-EXSA-TEST   \n",
       "\n",
       "                              description dependent-parameter  \\\n",
       "0  Expanded, Shift-Adjusted Stream Rating                Flow   \n",
       "\n",
       "                         independent-parameter-specs rating-ids  \n",
       "0  [{'parameter': 'Stage', 'in-range-method': 'LI...         []  "
      ]
     },
     "execution_count": 10,
     "metadata": {},
     "output_type": "execute_result"
    }
   ],
   "source": [
    "template.df"
   ]
  },
  {
   "cell_type": "code",
   "execution_count": 11,
   "id": "71ac5496-29ba-4653-9cf9-a19d31f16fa9",
   "metadata": {},
   "outputs": [],
   "source": [
    "# get all rating templates in the database for an office\n",
    "templates = cwms.get_rating_templates(office_id = \"MVP\")"
   ]
  },
  {
   "cell_type": "code",
   "execution_count": 12,
   "id": "419a39eb-b4cc-4d24-a598-f85c11e10017",
   "metadata": {
    "tags": []
   },
   "outputs": [],
   "source": [
    "# get all rating templates that have Stage;Flow\n",
    "templates_mask = cwms.get_rating_templates(office_id = \"MVP\", template_id_mask = \"Stage;Flow*\")"
   ]
  },
  {
   "cell_type": "code",
   "execution_count": 13,
   "id": "216627d0-1033-4c34-9818-abdcd013428b",
   "metadata": {
    "tags": []
   },
   "outputs": [
    {
     "data": {
      "text/html": [
       "<div>\n",
       "<style scoped>\n",
       "    .dataframe tbody tr th:only-of-type {\n",
       "        vertical-align: middle;\n",
       "    }\n",
       "\n",
       "    .dataframe tbody tr th {\n",
       "        vertical-align: top;\n",
       "    }\n",
       "\n",
       "    .dataframe thead th {\n",
       "        text-align: right;\n",
       "    }\n",
       "</style>\n",
       "<table border=\"1\" class=\"dataframe\">\n",
       "  <thead>\n",
       "    <tr style=\"text-align: right;\">\n",
       "      <th></th>\n",
       "      <th>office-id</th>\n",
       "      <th>id</th>\n",
       "      <th>version</th>\n",
       "      <th>dependent-parameter</th>\n",
       "      <th>independent-parameter-specs</th>\n",
       "      <th>rating-ids</th>\n",
       "      <th>description</th>\n",
       "    </tr>\n",
       "  </thead>\n",
       "  <tbody>\n",
       "    <tr>\n",
       "      <th>0</th>\n",
       "      <td>MVP</td>\n",
       "      <td>Stage;Flow.Linear</td>\n",
       "      <td>Linear</td>\n",
       "      <td>Flow</td>\n",
       "      <td>[{'parameter': 'Stage', 'in-range-method': 'LI...</td>\n",
       "      <td>[JAHM5.Stage;Flow.Linear.Step]</td>\n",
       "      <td>NaN</td>\n",
       "    </tr>\n",
       "    <tr>\n",
       "      <th>1</th>\n",
       "      <td>MVP</td>\n",
       "      <td>Stage;Flow.Log</td>\n",
       "      <td>Log</td>\n",
       "      <td>Flow</td>\n",
       "      <td>[{'parameter': 'Stage', 'in-range-method': 'LO...</td>\n",
       "      <td>[BROM5.Stage;Flow.Log.Step, BeaverFalls.Stage;...</td>\n",
       "      <td>NaN</td>\n",
       "    </tr>\n",
       "    <tr>\n",
       "      <th>2</th>\n",
       "      <td>MVP</td>\n",
       "      <td>Stage;Flow.Standard</td>\n",
       "      <td>Standard</td>\n",
       "      <td>Flow</td>\n",
       "      <td>[{'parameter': 'Stage', 'in-range-method': 'LI...</td>\n",
       "      <td>[EauGalle_Dam-MorningGlory.Stage;Flow.Standard...</td>\n",
       "      <td>NaN</td>\n",
       "    </tr>\n",
       "    <tr>\n",
       "      <th>3</th>\n",
       "      <td>MVP</td>\n",
       "      <td>Stage;Flow.USGS-BASE</td>\n",
       "      <td>USGS-BASE</td>\n",
       "      <td>Flow</td>\n",
       "      <td>[{'parameter': 'Stage', 'in-range-method': 'LO...</td>\n",
       "      <td>[ABRN8.Stage;Flow.USGS-BASE.USGS-NWIS, AGYM5.S...</td>\n",
       "      <td>Stream Rating (Base + Shifts and Offsets)</td>\n",
       "    </tr>\n",
       "    <tr>\n",
       "      <th>4</th>\n",
       "      <td>MVP</td>\n",
       "      <td>Stage;Flow.USGS-EXSA</td>\n",
       "      <td>USGS-EXSA</td>\n",
       "      <td>Flow</td>\n",
       "      <td>[{'parameter': 'Stage', 'in-range-method': 'LI...</td>\n",
       "      <td>[ABRN8.Stage;Flow.USGS-EXSA.USGS-NWIS, AGYM5.S...</td>\n",
       "      <td>Expanded, Shift-Adjusted Stream Rating</td>\n",
       "    </tr>\n",
       "    <tr>\n",
       "      <th>5</th>\n",
       "      <td>MVP</td>\n",
       "      <td>Stage;Flow.USGS-EXSA-TEST</td>\n",
       "      <td>USGS-EXSA-TEST</td>\n",
       "      <td>Flow</td>\n",
       "      <td>[{'parameter': 'Stage', 'in-range-method': 'LI...</td>\n",
       "      <td>[]</td>\n",
       "      <td>Expanded, Shift-Adjusted Stream Rating</td>\n",
       "    </tr>\n",
       "  </tbody>\n",
       "</table>\n",
       "</div>"
      ],
      "text/plain": [
       "  office-id                         id         version dependent-parameter  \\\n",
       "0       MVP          Stage;Flow.Linear          Linear                Flow   \n",
       "1       MVP             Stage;Flow.Log             Log                Flow   \n",
       "2       MVP        Stage;Flow.Standard        Standard                Flow   \n",
       "3       MVP       Stage;Flow.USGS-BASE       USGS-BASE                Flow   \n",
       "4       MVP       Stage;Flow.USGS-EXSA       USGS-EXSA                Flow   \n",
       "5       MVP  Stage;Flow.USGS-EXSA-TEST  USGS-EXSA-TEST                Flow   \n",
       "\n",
       "                         independent-parameter-specs  \\\n",
       "0  [{'parameter': 'Stage', 'in-range-method': 'LI...   \n",
       "1  [{'parameter': 'Stage', 'in-range-method': 'LO...   \n",
       "2  [{'parameter': 'Stage', 'in-range-method': 'LI...   \n",
       "3  [{'parameter': 'Stage', 'in-range-method': 'LO...   \n",
       "4  [{'parameter': 'Stage', 'in-range-method': 'LI...   \n",
       "5  [{'parameter': 'Stage', 'in-range-method': 'LI...   \n",
       "\n",
       "                                          rating-ids  \\\n",
       "0                     [JAHM5.Stage;Flow.Linear.Step]   \n",
       "1  [BROM5.Stage;Flow.Log.Step, BeaverFalls.Stage;...   \n",
       "2  [EauGalle_Dam-MorningGlory.Stage;Flow.Standard...   \n",
       "3  [ABRN8.Stage;Flow.USGS-BASE.USGS-NWIS, AGYM5.S...   \n",
       "4  [ABRN8.Stage;Flow.USGS-EXSA.USGS-NWIS, AGYM5.S...   \n",
       "5                                                 []   \n",
       "\n",
       "                                 description  \n",
       "0                                        NaN  \n",
       "1                                        NaN  \n",
       "2                                        NaN  \n",
       "3  Stream Rating (Base + Shifts and Offsets)  \n",
       "4     Expanded, Shift-Adjusted Stream Rating  \n",
       "5     Expanded, Shift-Adjusted Stream Rating  "
      ]
     },
     "execution_count": 13,
     "metadata": {},
     "output_type": "execute_result"
    }
   ],
   "source": [
    "templates_mask.df"
   ]
  },
  {
   "cell_type": "markdown",
   "id": "7dda5b39-9a9e-41a8-a9b6-e5b0c0d51538",
   "metadata": {},
   "source": [
    "## Create a Rating Specification and View that Specification"
   ]
  },
  {
   "cell_type": "code",
   "execution_count": 14,
   "id": "24750f63-1ccf-4540-a318-d08ad2eb8c83",
   "metadata": {
    "tags": []
   },
   "outputs": [],
   "source": [
    "spec_xml = '''<?xml version=\"1.0\" encoding=\"utf-8\"?>\n",
    "<rating-spec office-id=\"MVP\">\n",
    "  <rating-spec-id>TestRating.Stage;Flow.USGS-EXSA-TEST.USGS-NWIS-TEST</rating-spec-id>\n",
    "  <template-id>Stage;Flow.USGS-EXSA-TEST</template-id>\n",
    "  <location-id>TestRating</location-id>\n",
    "  <version>USGS-NWIS-TEST</version>\n",
    "  <source-agency>USGS</source-agency>\n",
    "  <in-range-method>LINEAR</in-range-method>\n",
    "  <out-range-low-method>NEAREST</out-range-low-method>\n",
    "  <out-range-high-method>NEAREST</out-range-high-method>\n",
    "  <active>true</active>\n",
    "  <auto-update>true</auto-update>\n",
    "  <auto-activate>true</auto-activate>\n",
    "  <auto-migrate-extension>true</auto-migrate-extension>\n",
    "  <ind-rounding-specs>\n",
    "   <ind-rounding-spec position=\"1\">2223456782</ind-rounding-spec>\n",
    "  </ind-rounding-specs>\n",
    "  <dep-rounding-spec>2222233332</dep-rounding-spec>\n",
    "  <description>TESTing rating spec</description>\n",
    " </rating-spec>'''"
   ]
  },
  {
   "cell_type": "code",
   "execution_count": 16,
   "id": "cce0bd67-512d-4104-8baf-281a4f33a506",
   "metadata": {
    "tags": []
   },
   "outputs": [],
   "source": [
    "cwms.store_rating_spec(data=spec_xml)"
   ]
  },
  {
   "cell_type": "code",
   "execution_count": 17,
   "id": "c6d9ecdd-751c-4aef-9e89-5b0cfd7a7f67",
   "metadata": {
    "tags": []
   },
   "outputs": [],
   "source": [
    "#get a single rating specification\n",
    "rating_spec = cwms.get_rating_spec(rating_id='TestRating.Stage;Flow.USGS-EXSA-TEST.USGS-NWIS-TEST',office_id='MVP')"
   ]
  },
  {
   "cell_type": "code",
   "execution_count": 18,
   "id": "d1f3963a-1afa-49ae-abb5-eac0d286b2ef",
   "metadata": {
    "tags": []
   },
   "outputs": [
    {
     "data": {
      "text/plain": [
       "{'office-id': 'MVP',\n",
       " 'rating-id': 'TestRating.Stage;Flow.USGS-EXSA-TEST.USGS-NWIS-TEST',\n",
       " 'template-id': 'Stage;Flow.USGS-EXSA-TEST',\n",
       " 'location-id': 'TestRating',\n",
       " 'version': 'USGS-NWIS-TEST',\n",
       " 'source-agency': 'USGS',\n",
       " 'in-range-method': 'LINEAR',\n",
       " 'out-range-low-method': 'NEAREST',\n",
       " 'out-range-high-method': 'NEAREST',\n",
       " 'active': True,\n",
       " 'auto-update': True,\n",
       " 'auto-activate': True,\n",
       " 'auto-migrate-extension': True,\n",
       " 'independent-rounding-specs': [{'value': '2223456782'}],\n",
       " 'dependent-rounding-spec': '2222233332',\n",
       " 'description': 'TESTing rating spec'}"
      ]
     },
     "execution_count": 18,
     "metadata": {},
     "output_type": "execute_result"
    }
   ],
   "source": [
    "rating_spec.json"
   ]
  },
  {
   "cell_type": "code",
   "execution_count": 19,
   "id": "16aaeb22-bc02-4045-9729-d1043acfe779",
   "metadata": {
    "tags": []
   },
   "outputs": [
    {
     "data": {
      "text/html": [
       "<div>\n",
       "<style scoped>\n",
       "    .dataframe tbody tr th:only-of-type {\n",
       "        vertical-align: middle;\n",
       "    }\n",
       "\n",
       "    .dataframe tbody tr th {\n",
       "        vertical-align: top;\n",
       "    }\n",
       "\n",
       "    .dataframe thead th {\n",
       "        text-align: right;\n",
       "    }\n",
       "</style>\n",
       "<table border=\"1\" class=\"dataframe\">\n",
       "  <thead>\n",
       "    <tr style=\"text-align: right;\">\n",
       "      <th></th>\n",
       "      <th>office-id</th>\n",
       "      <th>rating-id</th>\n",
       "      <th>template-id</th>\n",
       "      <th>location-id</th>\n",
       "      <th>version</th>\n",
       "      <th>source-agency</th>\n",
       "      <th>in-range-method</th>\n",
       "      <th>out-range-low-method</th>\n",
       "      <th>out-range-high-method</th>\n",
       "      <th>active</th>\n",
       "      <th>auto-update</th>\n",
       "      <th>auto-activate</th>\n",
       "      <th>auto-migrate-extension</th>\n",
       "      <th>independent-rounding-specs</th>\n",
       "      <th>dependent-rounding-spec</th>\n",
       "      <th>description</th>\n",
       "    </tr>\n",
       "  </thead>\n",
       "  <tbody>\n",
       "    <tr>\n",
       "      <th>0</th>\n",
       "      <td>MVP</td>\n",
       "      <td>TestRating.Stage;Flow.USGS-EXSA-TEST.USGS-NWIS...</td>\n",
       "      <td>Stage;Flow.USGS-EXSA-TEST</td>\n",
       "      <td>TestRating</td>\n",
       "      <td>USGS-NWIS-TEST</td>\n",
       "      <td>USGS</td>\n",
       "      <td>LINEAR</td>\n",
       "      <td>NEAREST</td>\n",
       "      <td>NEAREST</td>\n",
       "      <td>True</td>\n",
       "      <td>True</td>\n",
       "      <td>True</td>\n",
       "      <td>True</td>\n",
       "      <td>[{'value': '2223456782'}]</td>\n",
       "      <td>2222233332</td>\n",
       "      <td>TESTing rating spec</td>\n",
       "    </tr>\n",
       "  </tbody>\n",
       "</table>\n",
       "</div>"
      ],
      "text/plain": [
       "  office-id                                          rating-id  \\\n",
       "0       MVP  TestRating.Stage;Flow.USGS-EXSA-TEST.USGS-NWIS...   \n",
       "\n",
       "                 template-id location-id         version source-agency  \\\n",
       "0  Stage;Flow.USGS-EXSA-TEST  TestRating  USGS-NWIS-TEST          USGS   \n",
       "\n",
       "  in-range-method out-range-low-method out-range-high-method  active  \\\n",
       "0          LINEAR              NEAREST               NEAREST    True   \n",
       "\n",
       "   auto-update  auto-activate  auto-migrate-extension  \\\n",
       "0         True           True                    True   \n",
       "\n",
       "  independent-rounding-specs dependent-rounding-spec          description  \n",
       "0  [{'value': '2223456782'}]              2222233332  TESTing rating spec  "
      ]
     },
     "execution_count": 19,
     "metadata": {},
     "output_type": "execute_result"
    }
   ],
   "source": [
    "rating_spec.df"
   ]
  },
  {
   "cell_type": "code",
   "execution_count": 20,
   "id": "418385b7-3d8c-4786-a25b-e6a8caad3089",
   "metadata": {
    "tags": []
   },
   "outputs": [],
   "source": [
    "#get multiple rating specs\n",
    "rating_specs = cwms.get_rating_specs(office_id=\"MVP\", rating_id_mask=\"*USGS-EXSA.USGS-NWIS\")"
   ]
  },
  {
   "cell_type": "code",
   "execution_count": 21,
   "id": "04e06463-7449-4334-849e-19f02c6f9e30",
   "metadata": {
    "tags": []
   },
   "outputs": [
    {
     "data": {
      "text/html": [
       "<div>\n",
       "<style scoped>\n",
       "    .dataframe tbody tr th:only-of-type {\n",
       "        vertical-align: middle;\n",
       "    }\n",
       "\n",
       "    .dataframe tbody tr th {\n",
       "        vertical-align: top;\n",
       "    }\n",
       "\n",
       "    .dataframe thead th {\n",
       "        text-align: right;\n",
       "    }\n",
       "</style>\n",
       "<table border=\"1\" class=\"dataframe\">\n",
       "  <thead>\n",
       "    <tr style=\"text-align: right;\">\n",
       "      <th></th>\n",
       "      <th>office-id</th>\n",
       "      <th>rating-id</th>\n",
       "      <th>template-id</th>\n",
       "      <th>location-id</th>\n",
       "      <th>version</th>\n",
       "      <th>in-range-method</th>\n",
       "      <th>out-range-low-method</th>\n",
       "      <th>out-range-high-method</th>\n",
       "      <th>active</th>\n",
       "      <th>auto-update</th>\n",
       "      <th>auto-activate</th>\n",
       "      <th>auto-migrate-extension</th>\n",
       "      <th>independent-rounding-specs</th>\n",
       "      <th>dependent-rounding-spec</th>\n",
       "      <th>description</th>\n",
       "      <th>effective-dates</th>\n",
       "      <th>source-agency</th>\n",
       "    </tr>\n",
       "  </thead>\n",
       "  <tbody>\n",
       "    <tr>\n",
       "      <th>0</th>\n",
       "      <td>MVP</td>\n",
       "      <td>ABRN8.Stage;Flow.USGS-EXSA.USGS-NWIS</td>\n",
       "      <td>Stage;Flow.USGS-EXSA</td>\n",
       "      <td>ABRN8</td>\n",
       "      <td>USGS-NWIS</td>\n",
       "      <td>LINEAR</td>\n",
       "      <td>NEAREST</td>\n",
       "      <td>NEAREST</td>\n",
       "      <td>True</td>\n",
       "      <td>True</td>\n",
       "      <td>True</td>\n",
       "      <td>True</td>\n",
       "      <td>[{'value': '2223456782'}]</td>\n",
       "      <td>2222233332</td>\n",
       "      <td>WILD RICE RIVER NR ABERCROMBIE, ND Expanded, S...</td>\n",
       "      <td>[2014-11-04T21:15:00Z, 2014-11-04T21:15:00Z, 2...</td>\n",
       "      <td>NaN</td>\n",
       "    </tr>\n",
       "    <tr>\n",
       "      <th>1</th>\n",
       "      <td>MVP</td>\n",
       "      <td>05053000.Stage;Flow.USGS-EXSA.USGS-NWIS</td>\n",
       "      <td>Stage;Flow.USGS-EXSA</td>\n",
       "      <td>05053000</td>\n",
       "      <td>USGS-NWIS</td>\n",
       "      <td>LINEAR</td>\n",
       "      <td>NEAREST</td>\n",
       "      <td>NEAREST</td>\n",
       "      <td>True</td>\n",
       "      <td>True</td>\n",
       "      <td>True</td>\n",
       "      <td>True</td>\n",
       "      <td>[{'value': '2223456782'}]</td>\n",
       "      <td>2222233332</td>\n",
       "      <td>WILD RICE RIVER NR ABERCROMBIE, ND Expanded, S...</td>\n",
       "      <td>[2014-11-04T21:15:00Z, 2015-09-03T18:20:00Z, 2...</td>\n",
       "      <td>NaN</td>\n",
       "    </tr>\n",
       "    <tr>\n",
       "      <th>2</th>\n",
       "      <td>MVP</td>\n",
       "      <td>05087500.Stage;Flow.USGS-EXSA.USGS-NWIS</td>\n",
       "      <td>Stage;Flow.USGS-EXSA</td>\n",
       "      <td>05087500</td>\n",
       "      <td>USGS-NWIS</td>\n",
       "      <td>LINEAR</td>\n",
       "      <td>NEAREST</td>\n",
       "      <td>NEAREST</td>\n",
       "      <td>True</td>\n",
       "      <td>True</td>\n",
       "      <td>True</td>\n",
       "      <td>True</td>\n",
       "      <td>[{'value': '2223456782'}]</td>\n",
       "      <td>2222233332</td>\n",
       "      <td>MIDDLE RIVER AT ARGYLE, MN Expanded, Shift-Adj...</td>\n",
       "      <td>[2014-10-17T15:48:00Z, 2015-04-29T17:00:00Z, 2...</td>\n",
       "      <td>NaN</td>\n",
       "    </tr>\n",
       "    <tr>\n",
       "      <th>3</th>\n",
       "      <td>MVP</td>\n",
       "      <td>AGYM5.Stage;Flow.USGS-EXSA.USGS-NWIS</td>\n",
       "      <td>Stage;Flow.USGS-EXSA</td>\n",
       "      <td>AGYM5</td>\n",
       "      <td>USGS-NWIS</td>\n",
       "      <td>LINEAR</td>\n",
       "      <td>NEAREST</td>\n",
       "      <td>NEAREST</td>\n",
       "      <td>True</td>\n",
       "      <td>True</td>\n",
       "      <td>True</td>\n",
       "      <td>True</td>\n",
       "      <td>[{'value': '2223456782'}]</td>\n",
       "      <td>2222233332</td>\n",
       "      <td>MIDDLE RIVER AT ARGYLE, MN Expanded, Shift-Adj...</td>\n",
       "      <td>[2014-10-17T15:48:00Z, 2014-10-17T15:48:00Z, 2...</td>\n",
       "      <td>NaN</td>\n",
       "    </tr>\n",
       "    <tr>\n",
       "      <th>4</th>\n",
       "      <td>MVP</td>\n",
       "      <td>AKRN8.Stage;Flow.USGS-EXSA.USGS-NWIS</td>\n",
       "      <td>Stage;Flow.USGS-EXSA</td>\n",
       "      <td>AKRN8</td>\n",
       "      <td>USGS-NWIS</td>\n",
       "      <td>LINEAR</td>\n",
       "      <td>NEAREST</td>\n",
       "      <td>NEAREST</td>\n",
       "      <td>True</td>\n",
       "      <td>True</td>\n",
       "      <td>True</td>\n",
       "      <td>True</td>\n",
       "      <td>[{'value': '2223456782'}]</td>\n",
       "      <td>2222233332</td>\n",
       "      <td>TONGUE RIVER AT AKRA, ND Expanded, Shift-Adjus...</td>\n",
       "      <td>[2014-10-21T16:45:00Z, 2014-10-21T16:45:00Z, 2...</td>\n",
       "      <td>NaN</td>\n",
       "    </tr>\n",
       "    <tr>\n",
       "      <th>...</th>\n",
       "      <td>...</td>\n",
       "      <td>...</td>\n",
       "      <td>...</td>\n",
       "      <td>...</td>\n",
       "      <td>...</td>\n",
       "      <td>...</td>\n",
       "      <td>...</td>\n",
       "      <td>...</td>\n",
       "      <td>...</td>\n",
       "      <td>...</td>\n",
       "      <td>...</td>\n",
       "      <td>...</td>\n",
       "      <td>...</td>\n",
       "      <td>...</td>\n",
       "      <td>...</td>\n",
       "      <td>...</td>\n",
       "      <td>...</td>\n",
       "    </tr>\n",
       "    <tr>\n",
       "      <th>285</th>\n",
       "      <td>MVP</td>\n",
       "      <td>MN00577-Tailwater.Stage;Stage-Shift.USGS-EXSA....</td>\n",
       "      <td>Stage;Stage-Shift.USGS-EXSA</td>\n",
       "      <td>MN00577-Tailwater</td>\n",
       "      <td>USGS-NWIS</td>\n",
       "      <td>LINEAR</td>\n",
       "      <td>LINEAR</td>\n",
       "      <td>NEAREST</td>\n",
       "      <td>True</td>\n",
       "      <td>True</td>\n",
       "      <td>True</td>\n",
       "      <td>False</td>\n",
       "      <td>[{'value': '2223456782'}]</td>\n",
       "      <td>2223456782</td>\n",
       "      <td>USGS-style rating shifts</td>\n",
       "      <td>[2023-02-17T21:41:00Z]</td>\n",
       "      <td>NaN</td>\n",
       "    </tr>\n",
       "    <tr>\n",
       "      <th>286</th>\n",
       "      <td>MVP</td>\n",
       "      <td>WHRM5-Tailwater.Stage;Stage-Shift.USGS-EXSA.US...</td>\n",
       "      <td>Stage;Stage-Shift.USGS-EXSA</td>\n",
       "      <td>WHRM5-Tailwater</td>\n",
       "      <td>USGS-NWIS</td>\n",
       "      <td>LINEAR</td>\n",
       "      <td>LINEAR</td>\n",
       "      <td>NEAREST</td>\n",
       "      <td>True</td>\n",
       "      <td>True</td>\n",
       "      <td>True</td>\n",
       "      <td>False</td>\n",
       "      <td>[{'value': '2223456782'}]</td>\n",
       "      <td>2223456782</td>\n",
       "      <td>USGS-style rating shifts</td>\n",
       "      <td>[2023-02-17T21:41:00Z]</td>\n",
       "      <td>NaN</td>\n",
       "    </tr>\n",
       "    <tr>\n",
       "      <th>287</th>\n",
       "      <td>MVP</td>\n",
       "      <td>TraverseWR_Dam-Tailwater.Stage;Stage-Shift.USG...</td>\n",
       "      <td>Stage;Stage-Shift.USGS-EXSA</td>\n",
       "      <td>TraverseWR_Dam-Tailwater</td>\n",
       "      <td>USGS-NWIS</td>\n",
       "      <td>LINEAR</td>\n",
       "      <td>LINEAR</td>\n",
       "      <td>NEAREST</td>\n",
       "      <td>True</td>\n",
       "      <td>True</td>\n",
       "      <td>True</td>\n",
       "      <td>False</td>\n",
       "      <td>[{'value': '2223456782'}]</td>\n",
       "      <td>2223456782</td>\n",
       "      <td>USGS-style rating shifts</td>\n",
       "      <td>[2023-02-17T21:41:00Z]</td>\n",
       "      <td>NaN</td>\n",
       "    </tr>\n",
       "    <tr>\n",
       "      <th>288</th>\n",
       "      <td>MVP</td>\n",
       "      <td>05050000.Stage;Stage-Shift.USGS-EXSA.USGS-NWIS</td>\n",
       "      <td>Stage;Stage-Shift.USGS-EXSA</td>\n",
       "      <td>05050000</td>\n",
       "      <td>USGS-NWIS</td>\n",
       "      <td>LINEAR</td>\n",
       "      <td>LINEAR</td>\n",
       "      <td>NEAREST</td>\n",
       "      <td>True</td>\n",
       "      <td>True</td>\n",
       "      <td>True</td>\n",
       "      <td>False</td>\n",
       "      <td>[{'value': '2223456782'}]</td>\n",
       "      <td>2223456782</td>\n",
       "      <td>USGS-style rating shifts</td>\n",
       "      <td>[2023-02-17T21:41:00Z]</td>\n",
       "      <td>NaN</td>\n",
       "    </tr>\n",
       "    <tr>\n",
       "      <th>289</th>\n",
       "      <td>MVP</td>\n",
       "      <td>05049995-Tailwater.Stage;Stage-Shift.USGS-EXSA...</td>\n",
       "      <td>Stage;Stage-Shift.USGS-EXSA</td>\n",
       "      <td>05049995-Tailwater</td>\n",
       "      <td>USGS-NWIS</td>\n",
       "      <td>LINEAR</td>\n",
       "      <td>LINEAR</td>\n",
       "      <td>NEAREST</td>\n",
       "      <td>True</td>\n",
       "      <td>True</td>\n",
       "      <td>True</td>\n",
       "      <td>False</td>\n",
       "      <td>[{'value': '2223456782'}]</td>\n",
       "      <td>2223456782</td>\n",
       "      <td>USGS-style rating shifts</td>\n",
       "      <td>[2023-02-17T21:41:00Z]</td>\n",
       "      <td>NaN</td>\n",
       "    </tr>\n",
       "  </tbody>\n",
       "</table>\n",
       "<p>290 rows × 17 columns</p>\n",
       "</div>"
      ],
      "text/plain": [
       "    office-id                                          rating-id  \\\n",
       "0         MVP               ABRN8.Stage;Flow.USGS-EXSA.USGS-NWIS   \n",
       "1         MVP            05053000.Stage;Flow.USGS-EXSA.USGS-NWIS   \n",
       "2         MVP            05087500.Stage;Flow.USGS-EXSA.USGS-NWIS   \n",
       "3         MVP               AGYM5.Stage;Flow.USGS-EXSA.USGS-NWIS   \n",
       "4         MVP               AKRN8.Stage;Flow.USGS-EXSA.USGS-NWIS   \n",
       "..        ...                                                ...   \n",
       "285       MVP  MN00577-Tailwater.Stage;Stage-Shift.USGS-EXSA....   \n",
       "286       MVP  WHRM5-Tailwater.Stage;Stage-Shift.USGS-EXSA.US...   \n",
       "287       MVP  TraverseWR_Dam-Tailwater.Stage;Stage-Shift.USG...   \n",
       "288       MVP     05050000.Stage;Stage-Shift.USGS-EXSA.USGS-NWIS   \n",
       "289       MVP  05049995-Tailwater.Stage;Stage-Shift.USGS-EXSA...   \n",
       "\n",
       "                     template-id               location-id    version  \\\n",
       "0           Stage;Flow.USGS-EXSA                     ABRN8  USGS-NWIS   \n",
       "1           Stage;Flow.USGS-EXSA                  05053000  USGS-NWIS   \n",
       "2           Stage;Flow.USGS-EXSA                  05087500  USGS-NWIS   \n",
       "3           Stage;Flow.USGS-EXSA                     AGYM5  USGS-NWIS   \n",
       "4           Stage;Flow.USGS-EXSA                     AKRN8  USGS-NWIS   \n",
       "..                           ...                       ...        ...   \n",
       "285  Stage;Stage-Shift.USGS-EXSA         MN00577-Tailwater  USGS-NWIS   \n",
       "286  Stage;Stage-Shift.USGS-EXSA           WHRM5-Tailwater  USGS-NWIS   \n",
       "287  Stage;Stage-Shift.USGS-EXSA  TraverseWR_Dam-Tailwater  USGS-NWIS   \n",
       "288  Stage;Stage-Shift.USGS-EXSA                  05050000  USGS-NWIS   \n",
       "289  Stage;Stage-Shift.USGS-EXSA        05049995-Tailwater  USGS-NWIS   \n",
       "\n",
       "    in-range-method out-range-low-method out-range-high-method  active  \\\n",
       "0            LINEAR              NEAREST               NEAREST    True   \n",
       "1            LINEAR              NEAREST               NEAREST    True   \n",
       "2            LINEAR              NEAREST               NEAREST    True   \n",
       "3            LINEAR              NEAREST               NEAREST    True   \n",
       "4            LINEAR              NEAREST               NEAREST    True   \n",
       "..              ...                  ...                   ...     ...   \n",
       "285          LINEAR               LINEAR               NEAREST    True   \n",
       "286          LINEAR               LINEAR               NEAREST    True   \n",
       "287          LINEAR               LINEAR               NEAREST    True   \n",
       "288          LINEAR               LINEAR               NEAREST    True   \n",
       "289          LINEAR               LINEAR               NEAREST    True   \n",
       "\n",
       "     auto-update  auto-activate  auto-migrate-extension  \\\n",
       "0           True           True                    True   \n",
       "1           True           True                    True   \n",
       "2           True           True                    True   \n",
       "3           True           True                    True   \n",
       "4           True           True                    True   \n",
       "..           ...            ...                     ...   \n",
       "285         True           True                   False   \n",
       "286         True           True                   False   \n",
       "287         True           True                   False   \n",
       "288         True           True                   False   \n",
       "289         True           True                   False   \n",
       "\n",
       "    independent-rounding-specs dependent-rounding-spec  \\\n",
       "0    [{'value': '2223456782'}]              2222233332   \n",
       "1    [{'value': '2223456782'}]              2222233332   \n",
       "2    [{'value': '2223456782'}]              2222233332   \n",
       "3    [{'value': '2223456782'}]              2222233332   \n",
       "4    [{'value': '2223456782'}]              2222233332   \n",
       "..                         ...                     ...   \n",
       "285  [{'value': '2223456782'}]              2223456782   \n",
       "286  [{'value': '2223456782'}]              2223456782   \n",
       "287  [{'value': '2223456782'}]              2223456782   \n",
       "288  [{'value': '2223456782'}]              2223456782   \n",
       "289  [{'value': '2223456782'}]              2223456782   \n",
       "\n",
       "                                           description  \\\n",
       "0    WILD RICE RIVER NR ABERCROMBIE, ND Expanded, S...   \n",
       "1    WILD RICE RIVER NR ABERCROMBIE, ND Expanded, S...   \n",
       "2    MIDDLE RIVER AT ARGYLE, MN Expanded, Shift-Adj...   \n",
       "3    MIDDLE RIVER AT ARGYLE, MN Expanded, Shift-Adj...   \n",
       "4    TONGUE RIVER AT AKRA, ND Expanded, Shift-Adjus...   \n",
       "..                                                 ...   \n",
       "285                           USGS-style rating shifts   \n",
       "286                           USGS-style rating shifts   \n",
       "287                           USGS-style rating shifts   \n",
       "288                           USGS-style rating shifts   \n",
       "289                           USGS-style rating shifts   \n",
       "\n",
       "                                       effective-dates source-agency  \n",
       "0    [2014-11-04T21:15:00Z, 2014-11-04T21:15:00Z, 2...           NaN  \n",
       "1    [2014-11-04T21:15:00Z, 2015-09-03T18:20:00Z, 2...           NaN  \n",
       "2    [2014-10-17T15:48:00Z, 2015-04-29T17:00:00Z, 2...           NaN  \n",
       "3    [2014-10-17T15:48:00Z, 2014-10-17T15:48:00Z, 2...           NaN  \n",
       "4    [2014-10-21T16:45:00Z, 2014-10-21T16:45:00Z, 2...           NaN  \n",
       "..                                                 ...           ...  \n",
       "285                             [2023-02-17T21:41:00Z]           NaN  \n",
       "286                             [2023-02-17T21:41:00Z]           NaN  \n",
       "287                             [2023-02-17T21:41:00Z]           NaN  \n",
       "288                             [2023-02-17T21:41:00Z]           NaN  \n",
       "289                             [2023-02-17T21:41:00Z]           NaN  \n",
       "\n",
       "[290 rows x 17 columns]"
      ]
     },
     "execution_count": 21,
     "metadata": {},
     "output_type": "execute_result"
    }
   ],
   "source": [
    "rating_specs.df"
   ]
  },
  {
   "cell_type": "markdown",
   "id": "8cf77d75-58ff-4bb6-82bb-92d4791ffecd",
   "metadata": {},
   "source": [
    "## Adding a Rating to the Rating Spec.  \n",
    "#### Rating table is first created as a dataframe with ind and dep values.\n",
    "#### Rating Table df is then converted to a json and saved in the database. \n",
    "#### Two rating curves are saved with different effective dates\n"
   ]
  },
  {
   "cell_type": "code",
   "execution_count": 22,
   "id": "64908b62-1acd-41ac-b9a6-b6f4218e0ca3",
   "metadata": {
    "tags": []
   },
   "outputs": [],
   "source": [
    "rating_table = pd.DataFrame({'ind' : [1,2,3,4,5,6,7,8,9,10], 'dep': [100,200,300,400,500,600,700,800,900,1000]})"
   ]
  },
  {
   "cell_type": "code",
   "execution_count": 23,
   "id": "457c8590-1468-45ee-b9ca-5b9ed23fcd5d",
   "metadata": {
    "tags": []
   },
   "outputs": [
    {
     "data": {
      "text/html": [
       "<div>\n",
       "<style scoped>\n",
       "    .dataframe tbody tr th:only-of-type {\n",
       "        vertical-align: middle;\n",
       "    }\n",
       "\n",
       "    .dataframe tbody tr th {\n",
       "        vertical-align: top;\n",
       "    }\n",
       "\n",
       "    .dataframe thead th {\n",
       "        text-align: right;\n",
       "    }\n",
       "</style>\n",
       "<table border=\"1\" class=\"dataframe\">\n",
       "  <thead>\n",
       "    <tr style=\"text-align: right;\">\n",
       "      <th></th>\n",
       "      <th>ind</th>\n",
       "      <th>dep</th>\n",
       "    </tr>\n",
       "  </thead>\n",
       "  <tbody>\n",
       "    <tr>\n",
       "      <th>0</th>\n",
       "      <td>1</td>\n",
       "      <td>100</td>\n",
       "    </tr>\n",
       "    <tr>\n",
       "      <th>1</th>\n",
       "      <td>2</td>\n",
       "      <td>200</td>\n",
       "    </tr>\n",
       "    <tr>\n",
       "      <th>2</th>\n",
       "      <td>3</td>\n",
       "      <td>300</td>\n",
       "    </tr>\n",
       "    <tr>\n",
       "      <th>3</th>\n",
       "      <td>4</td>\n",
       "      <td>400</td>\n",
       "    </tr>\n",
       "    <tr>\n",
       "      <th>4</th>\n",
       "      <td>5</td>\n",
       "      <td>500</td>\n",
       "    </tr>\n",
       "    <tr>\n",
       "      <th>5</th>\n",
       "      <td>6</td>\n",
       "      <td>600</td>\n",
       "    </tr>\n",
       "    <tr>\n",
       "      <th>6</th>\n",
       "      <td>7</td>\n",
       "      <td>700</td>\n",
       "    </tr>\n",
       "    <tr>\n",
       "      <th>7</th>\n",
       "      <td>8</td>\n",
       "      <td>800</td>\n",
       "    </tr>\n",
       "    <tr>\n",
       "      <th>8</th>\n",
       "      <td>9</td>\n",
       "      <td>900</td>\n",
       "    </tr>\n",
       "    <tr>\n",
       "      <th>9</th>\n",
       "      <td>10</td>\n",
       "      <td>1000</td>\n",
       "    </tr>\n",
       "  </tbody>\n",
       "</table>\n",
       "</div>"
      ],
      "text/plain": [
       "   ind   dep\n",
       "0    1   100\n",
       "1    2   200\n",
       "2    3   300\n",
       "3    4   400\n",
       "4    5   500\n",
       "5    6   600\n",
       "6    7   700\n",
       "7    8   800\n",
       "8    9   900\n",
       "9   10  1000"
      ]
     },
     "execution_count": 23,
     "metadata": {},
     "output_type": "execute_result"
    }
   ],
   "source": [
    "rating_table"
   ]
  },
  {
   "cell_type": "code",
   "execution_count": 24,
   "id": "4ff3aabb-07d2-4e82-a857-852124fc1f5e",
   "metadata": {
    "tags": []
   },
   "outputs": [],
   "source": [
    "rating_table_json = cwms.rating_simple_df_to_json(\n",
    "    data = rating_table,\n",
    "    rating_id = 'TestRating.Stage;Flow.USGS-EXSA-TEST.USGS-NWIS-TEST',\n",
    "    office_id = 'MVP',\n",
    "    units = 'ft;cfs',\n",
    "    effective_date = datetime.now(),\n",
    "    transition_start_date = None,\n",
    "    description = 'Testing Rating Curves.  Test Rating'\n",
    ")"
   ]
  },
  {
   "cell_type": "code",
   "execution_count": 25,
   "id": "3b954104-6257-4a2c-ad56-d86b62772296",
   "metadata": {
    "tags": []
   },
   "outputs": [
    {
     "data": {
      "text/plain": [
       "{'noNamespaceSchemaLocation': 'http://www.hec.usace.army.mil/xmlSchema/cwms/Ratings.xsd',\n",
       " 'rating-template': {'office-id': 'MVP',\n",
       "  'parameters-id': 'Stage;Flow',\n",
       "  'version': 'USGS-EXSA-TEST',\n",
       "  'ind-parameter-specs': {'ind-parameter-spec': {'position': '1',\n",
       "    'parameter': 'Stage',\n",
       "    'in-range-method': 'LINEAR',\n",
       "    'out-range-low-method': 'LINEAR',\n",
       "    'out-range-high-method': 'LINEAR'}},\n",
       "  'dep-parameter': 'Flow',\n",
       "  'description': 'Expanded, Shift-Adjusted Stream Rating'},\n",
       " 'rating-spec': {'office-id': 'MVP',\n",
       "  'rating-spec-id': 'TestRating.Stage;Flow.USGS-EXSA-TEST.USGS-NWIS-TEST',\n",
       "  'template-id': 'Stage;Flow.USGS-EXSA-TEST',\n",
       "  'location-id': 'TestRating',\n",
       "  'version': 'USGS-NWIS-TEST',\n",
       "  'source-agency': 'USGS',\n",
       "  'in-range-method': 'LINEAR',\n",
       "  'out-range-low-method': 'NEAREST',\n",
       "  'out-range-high-method': 'NEAREST',\n",
       "  'active': 'true',\n",
       "  'auto-update': 'true',\n",
       "  'auto-activate': 'true',\n",
       "  'auto-migrate-extension': 'true',\n",
       "  'ind-rounding-specs': {'ind-rounding-spec': {'position': '1',\n",
       "    'element-value': '2223456782'}},\n",
       "  'dep-rounding-spec': '2222233332',\n",
       "  'description': 'TESTing rating spec'},\n",
       " 'simple-rating': {'office-id': 'MVP',\n",
       "  'rating-spec-id': 'TestRating.Stage;Flow.USGS-EXSA-TEST.USGS-NWIS-TEST',\n",
       "  'units-id': 'ft;cfs',\n",
       "  'effective-date': '2024-07-11T12:29:02.977363',\n",
       "  'transition-start-date': None,\n",
       "  'active': True,\n",
       "  'description': 'Testing Rating Curves.  Test Rating',\n",
       "  'rating-points': {'point': [{'ind': 1, 'dep': 100},\n",
       "    {'ind': 2, 'dep': 200},\n",
       "    {'ind': 3, 'dep': 300},\n",
       "    {'ind': 4, 'dep': 400},\n",
       "    {'ind': 5, 'dep': 500},\n",
       "    {'ind': 6, 'dep': 600},\n",
       "    {'ind': 7, 'dep': 700},\n",
       "    {'ind': 8, 'dep': 800},\n",
       "    {'ind': 9, 'dep': 900},\n",
       "    {'ind': 10, 'dep': 1000}]}}}"
      ]
     },
     "execution_count": 25,
     "metadata": {},
     "output_type": "execute_result"
    }
   ],
   "source": [
    "rating_table_json"
   ]
  },
  {
   "cell_type": "markdown",
   "id": "548dec6b-6c39-4d23-968c-58bfe09854b7",
   "metadata": {},
   "source": [
    "\n",
    "\n",
    "#### Once the rating table is converted to JSON it can be stored into the database"
   ]
  },
  {
   "cell_type": "code",
   "execution_count": 26,
   "id": "4036318d-7420-4bfa-a018-88b45460d1d0",
   "metadata": {
    "tags": []
   },
   "outputs": [],
   "source": [
    "cwms.update_ratings(data = rating_table_json, rating_id = 'TestRating.Stage;Flow.USGS-EXSA-TEST.USGS-NWIS-TEST')"
   ]
  },
  {
   "cell_type": "markdown",
   "id": "9574f749-175e-4062-b8e5-0b8257b81005",
   "metadata": {
    "tags": []
   },
   "source": [
    "#### Create a second rating table with a different effective date"
   ]
  },
  {
   "cell_type": "code",
   "execution_count": 27,
   "id": "7439a771-4cbc-494c-98ea-53a840bbcd42",
   "metadata": {
    "tags": []
   },
   "outputs": [],
   "source": [
    "rating_table.dep = rating_table.dep/2"
   ]
  },
  {
   "cell_type": "code",
   "execution_count": 28,
   "id": "631a8f6c-b16d-4342-acdf-508a1351506e",
   "metadata": {
    "tags": []
   },
   "outputs": [
    {
     "data": {
      "text/html": [
       "<div>\n",
       "<style scoped>\n",
       "    .dataframe tbody tr th:only-of-type {\n",
       "        vertical-align: middle;\n",
       "    }\n",
       "\n",
       "    .dataframe tbody tr th {\n",
       "        vertical-align: top;\n",
       "    }\n",
       "\n",
       "    .dataframe thead th {\n",
       "        text-align: right;\n",
       "    }\n",
       "</style>\n",
       "<table border=\"1\" class=\"dataframe\">\n",
       "  <thead>\n",
       "    <tr style=\"text-align: right;\">\n",
       "      <th></th>\n",
       "      <th>ind</th>\n",
       "      <th>dep</th>\n",
       "    </tr>\n",
       "  </thead>\n",
       "  <tbody>\n",
       "    <tr>\n",
       "      <th>0</th>\n",
       "      <td>1</td>\n",
       "      <td>50.0</td>\n",
       "    </tr>\n",
       "    <tr>\n",
       "      <th>1</th>\n",
       "      <td>2</td>\n",
       "      <td>100.0</td>\n",
       "    </tr>\n",
       "    <tr>\n",
       "      <th>2</th>\n",
       "      <td>3</td>\n",
       "      <td>150.0</td>\n",
       "    </tr>\n",
       "    <tr>\n",
       "      <th>3</th>\n",
       "      <td>4</td>\n",
       "      <td>200.0</td>\n",
       "    </tr>\n",
       "    <tr>\n",
       "      <th>4</th>\n",
       "      <td>5</td>\n",
       "      <td>250.0</td>\n",
       "    </tr>\n",
       "    <tr>\n",
       "      <th>5</th>\n",
       "      <td>6</td>\n",
       "      <td>300.0</td>\n",
       "    </tr>\n",
       "    <tr>\n",
       "      <th>6</th>\n",
       "      <td>7</td>\n",
       "      <td>350.0</td>\n",
       "    </tr>\n",
       "    <tr>\n",
       "      <th>7</th>\n",
       "      <td>8</td>\n",
       "      <td>400.0</td>\n",
       "    </tr>\n",
       "    <tr>\n",
       "      <th>8</th>\n",
       "      <td>9</td>\n",
       "      <td>450.0</td>\n",
       "    </tr>\n",
       "    <tr>\n",
       "      <th>9</th>\n",
       "      <td>10</td>\n",
       "      <td>500.0</td>\n",
       "    </tr>\n",
       "  </tbody>\n",
       "</table>\n",
       "</div>"
      ],
      "text/plain": [
       "   ind    dep\n",
       "0    1   50.0\n",
       "1    2  100.0\n",
       "2    3  150.0\n",
       "3    4  200.0\n",
       "4    5  250.0\n",
       "5    6  300.0\n",
       "6    7  350.0\n",
       "7    8  400.0\n",
       "8    9  450.0\n",
       "9   10  500.0"
      ]
     },
     "execution_count": 28,
     "metadata": {},
     "output_type": "execute_result"
    }
   ],
   "source": [
    "rating_table"
   ]
  },
  {
   "cell_type": "code",
   "execution_count": 29,
   "id": "078321cb-20e0-4edd-986d-4bb3283606f3",
   "metadata": {
    "tags": []
   },
   "outputs": [],
   "source": [
    "rating_table_json = cwms.rating_simple_df_to_json(\n",
    "    data = rating_table,\n",
    "    rating_id = 'TestRating.Stage;Flow.USGS-EXSA-TEST.USGS-NWIS-TEST',\n",
    "    office_id = 'MVP',\n",
    "    units = 'ft;cfs',\n",
    "    effective_date = datetime.now(timezone.utc) - timedelta(days = 50),\n",
    "    transition_start_date = None,\n",
    "    description = 'Testing Rating Curves.  Test Rating'\n",
    ")"
   ]
  },
  {
   "cell_type": "code",
   "execution_count": 30,
   "id": "46d62e75-9a73-4b6a-a52e-51716b50430f",
   "metadata": {
    "tags": []
   },
   "outputs": [],
   "source": [
    "cwms.update_ratings(data = rating_table_json, rating_id = 'TestRating.Stage;Flow.USGS-EXSA-TEST.USGS-NWIS-TEST')"
   ]
  },
  {
   "cell_type": "markdown",
   "id": "0d5ae9c4-3334-4533-8ff7-efa7182ba8f7",
   "metadata": {
    "tags": []
   },
   "source": [
    "#### Now we can see both rating tables attached to the rating spec"
   ]
  },
  {
   "cell_type": "code",
   "execution_count": 31,
   "id": "dd6d567b-63bf-48d1-af8a-0c56693d6afc",
   "metadata": {
    "tags": []
   },
   "outputs": [],
   "source": [
    "ratings = cwms.get_ratings(rating_id = 'TestRating.Stage;Flow.USGS-EXSA-TEST.USGS-NWIS-TEST', office_id = 'MVP', method = 'EAGER')"
   ]
  },
  {
   "cell_type": "code",
   "execution_count": 32,
   "id": "9c06cb6b-60e4-4e0f-a30c-e6638e1eef95",
   "metadata": {
    "tags": []
   },
   "outputs": [
    {
     "data": {
      "text/html": [
       "<div>\n",
       "<style scoped>\n",
       "    .dataframe tbody tr th:only-of-type {\n",
       "        vertical-align: middle;\n",
       "    }\n",
       "\n",
       "    .dataframe tbody tr th {\n",
       "        vertical-align: top;\n",
       "    }\n",
       "\n",
       "    .dataframe thead th {\n",
       "        text-align: right;\n",
       "    }\n",
       "</style>\n",
       "<table border=\"1\" class=\"dataframe\">\n",
       "  <thead>\n",
       "    <tr style=\"text-align: right;\">\n",
       "      <th></th>\n",
       "      <th>office-id</th>\n",
       "      <th>rating-spec-id</th>\n",
       "      <th>units-id</th>\n",
       "      <th>effective-date</th>\n",
       "      <th>transition-start-date</th>\n",
       "      <th>create-date</th>\n",
       "      <th>active</th>\n",
       "      <th>description</th>\n",
       "      <th>rating-points.point</th>\n",
       "    </tr>\n",
       "  </thead>\n",
       "  <tbody>\n",
       "    <tr>\n",
       "      <th>0</th>\n",
       "      <td>MVP</td>\n",
       "      <td>TestRating.Stage;Flow.USGS-EXSA-TEST.USGS-NWIS...</td>\n",
       "      <td>ft;cfs</td>\n",
       "      <td>2024-05-22T19:29:00Z</td>\n",
       "      <td></td>\n",
       "      <td>2024-07-11T19:28:00Z</td>\n",
       "      <td>true</td>\n",
       "      <td>Testing Rating Curves.  Test Rating</td>\n",
       "      <td>[{'ind': '1.0', 'dep': '50.0'}, {'ind': '2.0',...</td>\n",
       "    </tr>\n",
       "    <tr>\n",
       "      <th>1</th>\n",
       "      <td>MVP</td>\n",
       "      <td>TestRating.Stage;Flow.USGS-EXSA-TEST.USGS-NWIS...</td>\n",
       "      <td>ft;cfs</td>\n",
       "      <td>2024-07-11T12:29:00Z</td>\n",
       "      <td></td>\n",
       "      <td>2024-07-11T19:28:00Z</td>\n",
       "      <td>true</td>\n",
       "      <td>Testing Rating Curves.  Test Rating</td>\n",
       "      <td>[{'ind': '1.0', 'dep': '100.0'}, {'ind': '2.0'...</td>\n",
       "    </tr>\n",
       "  </tbody>\n",
       "</table>\n",
       "</div>"
      ],
      "text/plain": [
       "  office-id                                     rating-spec-id units-id  \\\n",
       "0       MVP  TestRating.Stage;Flow.USGS-EXSA-TEST.USGS-NWIS...   ft;cfs   \n",
       "1       MVP  TestRating.Stage;Flow.USGS-EXSA-TEST.USGS-NWIS...   ft;cfs   \n",
       "\n",
       "         effective-date transition-start-date           create-date active  \\\n",
       "0  2024-05-22T19:29:00Z                        2024-07-11T19:28:00Z   true   \n",
       "1  2024-07-11T12:29:00Z                        2024-07-11T19:28:00Z   true   \n",
       "\n",
       "                           description  \\\n",
       "0  Testing Rating Curves.  Test Rating   \n",
       "1  Testing Rating Curves.  Test Rating   \n",
       "\n",
       "                                 rating-points.point  \n",
       "0  [{'ind': '1.0', 'dep': '50.0'}, {'ind': '2.0',...  \n",
       "1  [{'ind': '1.0', 'dep': '100.0'}, {'ind': '2.0'...  "
      ]
     },
     "execution_count": 32,
     "metadata": {},
     "output_type": "execute_result"
    }
   ],
   "source": [
    "ratings.df"
   ]
  },
  {
   "cell_type": "markdown",
   "id": "90e6884c-a4fb-408f-af85-ea0ac7b16711",
   "metadata": {
    "tags": []
   },
   "source": [
    "#### We Can use the function get_current_rating to grab only the rating curve with the latest effective date that is currently active."
   ]
  },
  {
   "cell_type": "code",
   "execution_count": 33,
   "id": "b24c7d16-5182-431a-ad8f-1506b2e96543",
   "metadata": {
    "tags": []
   },
   "outputs": [],
   "source": [
    "current_rating = cwms.get_current_rating(rating_id = 'TestRating.Stage;Flow.USGS-EXSA-TEST.USGS-NWIS-TEST', office_id = 'MVP')"
   ]
  },
  {
   "cell_type": "code",
   "execution_count": 34,
   "id": "b7f540c3-5ae0-4084-9218-dd729fbe9b25",
   "metadata": {
    "tags": []
   },
   "outputs": [
    {
     "data": {
      "text/html": [
       "<div>\n",
       "<style scoped>\n",
       "    .dataframe tbody tr th:only-of-type {\n",
       "        vertical-align: middle;\n",
       "    }\n",
       "\n",
       "    .dataframe tbody tr th {\n",
       "        vertical-align: top;\n",
       "    }\n",
       "\n",
       "    .dataframe thead th {\n",
       "        text-align: right;\n",
       "    }\n",
       "</style>\n",
       "<table border=\"1\" class=\"dataframe\">\n",
       "  <thead>\n",
       "    <tr style=\"text-align: right;\">\n",
       "      <th></th>\n",
       "      <th>ind</th>\n",
       "      <th>dep</th>\n",
       "    </tr>\n",
       "  </thead>\n",
       "  <tbody>\n",
       "    <tr>\n",
       "      <th>0</th>\n",
       "      <td>1.0</td>\n",
       "      <td>100.0</td>\n",
       "    </tr>\n",
       "    <tr>\n",
       "      <th>1</th>\n",
       "      <td>2.0</td>\n",
       "      <td>200.0</td>\n",
       "    </tr>\n",
       "    <tr>\n",
       "      <th>2</th>\n",
       "      <td>3.0</td>\n",
       "      <td>300.0</td>\n",
       "    </tr>\n",
       "    <tr>\n",
       "      <th>3</th>\n",
       "      <td>4.0</td>\n",
       "      <td>400.0</td>\n",
       "    </tr>\n",
       "    <tr>\n",
       "      <th>4</th>\n",
       "      <td>5.0</td>\n",
       "      <td>500.0</td>\n",
       "    </tr>\n",
       "    <tr>\n",
       "      <th>5</th>\n",
       "      <td>6.0</td>\n",
       "      <td>600.0</td>\n",
       "    </tr>\n",
       "    <tr>\n",
       "      <th>6</th>\n",
       "      <td>7.0</td>\n",
       "      <td>700.0</td>\n",
       "    </tr>\n",
       "    <tr>\n",
       "      <th>7</th>\n",
       "      <td>8.0</td>\n",
       "      <td>800.0</td>\n",
       "    </tr>\n",
       "    <tr>\n",
       "      <th>8</th>\n",
       "      <td>9.0</td>\n",
       "      <td>900.0</td>\n",
       "    </tr>\n",
       "    <tr>\n",
       "      <th>9</th>\n",
       "      <td>10.0</td>\n",
       "      <td>1000.0</td>\n",
       "    </tr>\n",
       "  </tbody>\n",
       "</table>\n",
       "</div>"
      ],
      "text/plain": [
       "    ind     dep\n",
       "0   1.0   100.0\n",
       "1   2.0   200.0\n",
       "2   3.0   300.0\n",
       "3   4.0   400.0\n",
       "4   5.0   500.0\n",
       "5   6.0   600.0\n",
       "6   7.0   700.0\n",
       "7   8.0   800.0\n",
       "8   9.0   900.0\n",
       "9  10.0  1000.0"
      ]
     },
     "execution_count": 34,
     "metadata": {},
     "output_type": "execute_result"
    }
   ],
   "source": [
    "current_rating.df"
   ]
  },
  {
   "cell_type": "code",
   "execution_count": 35,
   "id": "ec1391d8-a58a-422b-a705-01d3018ca221",
   "metadata": {
    "tags": []
   },
   "outputs": [
    {
     "data": {
      "text/plain": [
       "{'noNamespaceSchemaLocation': 'http://www.hec.usace.army.mil/xmlSchema/cwms/Ratings.xsd',\n",
       " 'rating-template': {'office-id': 'MVP',\n",
       "  'parameters-id': 'Stage;Flow',\n",
       "  'version': 'USGS-EXSA-TEST',\n",
       "  'ind-parameter-specs': {'ind-parameter-spec': {'position': '1',\n",
       "    'parameter': 'Stage',\n",
       "    'in-range-method': 'LINEAR',\n",
       "    'out-range-low-method': 'LINEAR',\n",
       "    'out-range-high-method': 'LINEAR'}},\n",
       "  'dep-parameter': 'Flow',\n",
       "  'description': 'Expanded, Shift-Adjusted Stream Rating'},\n",
       " 'rating-spec': {'office-id': 'MVP',\n",
       "  'rating-spec-id': 'TestRating.Stage;Flow.USGS-EXSA-TEST.USGS-NWIS-TEST',\n",
       "  'template-id': 'Stage;Flow.USGS-EXSA-TEST',\n",
       "  'location-id': 'TestRating',\n",
       "  'version': 'USGS-NWIS-TEST',\n",
       "  'source-agency': 'USGS',\n",
       "  'in-range-method': 'LINEAR',\n",
       "  'out-range-low-method': 'NEAREST',\n",
       "  'out-range-high-method': 'NEAREST',\n",
       "  'active': 'true',\n",
       "  'auto-update': 'true',\n",
       "  'auto-activate': 'true',\n",
       "  'auto-migrate-extension': 'true',\n",
       "  'ind-rounding-specs': {'ind-rounding-spec': {'position': '1',\n",
       "    'element-value': '2223456782'}},\n",
       "  'dep-rounding-spec': '2222233332',\n",
       "  'description': 'TESTing rating spec'},\n",
       " 'simple-rating': {'office-id': 'MVP',\n",
       "  'rating-spec-id': 'TestRating.Stage;Flow.USGS-EXSA-TEST.USGS-NWIS-TEST',\n",
       "  'units-id': 'ft;cfs',\n",
       "  'effective-date': '2024-07-11T12:29:00Z',\n",
       "  'transition-start-date': '',\n",
       "  'create-date': '2024-07-11T19:28:00Z',\n",
       "  'active': 'true',\n",
       "  'description': 'Testing Rating Curves.  Test Rating',\n",
       "  'rating-points': {'point': [{'ind': '1.0', 'dep': '100.0'},\n",
       "    {'ind': '2.0', 'dep': '200.0'},\n",
       "    {'ind': '3.0', 'dep': '300.0'},\n",
       "    {'ind': '4.0', 'dep': '400.0'},\n",
       "    {'ind': '5.0', 'dep': '500.0'},\n",
       "    {'ind': '6.0', 'dep': '600.0'},\n",
       "    {'ind': '7.0', 'dep': '700.0'},\n",
       "    {'ind': '8.0', 'dep': '800.0'},\n",
       "    {'ind': '9.0', 'dep': '900.0'},\n",
       "    {'ind': '10.0', 'dep': '1000.0'}]}}}"
      ]
     },
     "execution_count": 35,
     "metadata": {},
     "output_type": "execute_result"
    }
   ],
   "source": [
    "current_rating.json"
   ]
  },
  {
   "cell_type": "markdown",
   "id": "cb86ed6c-845a-46cb-a9f5-07bd48dc5c86",
   "metadata": {},
   "source": [
    "### Delete Ratings\n",
    "#### Delete Rating table from Rating Spec based on data range"
   ]
  },
  {
   "cell_type": "code",
   "execution_count": 36,
   "id": "c7731e7d-caea-48b7-9bdc-ad5d593ee7ad",
   "metadata": {
    "tags": []
   },
   "outputs": [],
   "source": [
    "cwms.delete_ratings(\n",
    "    rating_id='TestRating.Stage;Flow.USGS-EXSA-TEST.USGS-NWIS-TEST', \n",
    "    office_id='MVP', \n",
    "    begin = datetime.now(timezone.utc) - timedelta(days = 52),\n",
    "    end = datetime.now(timezone.utc) - timedelta(days = 48))"
   ]
  },
  {
   "cell_type": "markdown",
   "id": "9d5aec92-a938-41f8-8acf-a757125c92b3",
   "metadata": {},
   "source": [
    "### Now only one rating is present in the rating spec"
   ]
  },
  {
   "cell_type": "code",
   "execution_count": 37,
   "id": "6753c8ab-1ff1-452b-82d2-f23b94c344cd",
   "metadata": {
    "tags": []
   },
   "outputs": [],
   "source": [
    "ratings = cwms.get_ratings(rating_id = 'TestRating.Stage;Flow.USGS-EXSA-TEST.USGS-NWIS-TEST', office_id = 'MVP', method = 'LAZY')"
   ]
  },
  {
   "cell_type": "code",
   "execution_count": 38,
   "id": "c9474b57-30ca-487d-82b6-dcc9c7d486cf",
   "metadata": {
    "tags": []
   },
   "outputs": [
    {
     "data": {
      "text/html": [
       "<div>\n",
       "<style scoped>\n",
       "    .dataframe tbody tr th:only-of-type {\n",
       "        vertical-align: middle;\n",
       "    }\n",
       "\n",
       "    .dataframe tbody tr th {\n",
       "        vertical-align: top;\n",
       "    }\n",
       "\n",
       "    .dataframe thead th {\n",
       "        text-align: right;\n",
       "    }\n",
       "</style>\n",
       "<table border=\"1\" class=\"dataframe\">\n",
       "  <thead>\n",
       "    <tr style=\"text-align: right;\">\n",
       "      <th></th>\n",
       "      <th>office-id</th>\n",
       "      <th>rating-spec-id</th>\n",
       "      <th>units-id</th>\n",
       "      <th>effective-date</th>\n",
       "      <th>transition-start-date</th>\n",
       "      <th>create-date</th>\n",
       "      <th>active</th>\n",
       "      <th>description</th>\n",
       "    </tr>\n",
       "  </thead>\n",
       "  <tbody>\n",
       "    <tr>\n",
       "      <th>0</th>\n",
       "      <td>MVP</td>\n",
       "      <td>TestRating.Stage;Flow.USGS-EXSA-TEST.USGS-NWIS...</td>\n",
       "      <td>ft;cfs</td>\n",
       "      <td>2024-07-11T12:29:00Z</td>\n",
       "      <td></td>\n",
       "      <td>2024-07-11T19:28:00Z</td>\n",
       "      <td>true</td>\n",
       "      <td>Testing Rating Curves.  Test Rating</td>\n",
       "    </tr>\n",
       "  </tbody>\n",
       "</table>\n",
       "</div>"
      ],
      "text/plain": [
       "  office-id                                     rating-spec-id units-id  \\\n",
       "0       MVP  TestRating.Stage;Flow.USGS-EXSA-TEST.USGS-NWIS...   ft;cfs   \n",
       "\n",
       "         effective-date transition-start-date           create-date active  \\\n",
       "0  2024-07-11T12:29:00Z                        2024-07-11T19:28:00Z   true   \n",
       "\n",
       "                           description  \n",
       "0  Testing Rating Curves.  Test Rating  "
      ]
     },
     "execution_count": 38,
     "metadata": {},
     "output_type": "execute_result"
    }
   ],
   "source": [
    "ratings.df"
   ]
  },
  {
   "cell_type": "markdown",
   "id": "95f3ac02-42b8-4f22-a8ba-2a5bd58e0649",
   "metadata": {},
   "source": [
    "#### Delete Rating Spec, Rating Template, and Location"
   ]
  },
  {
   "cell_type": "code",
   "execution_count": 39,
   "id": "043ceb9b-723f-4a86-a7c9-b373ea20ec7f",
   "metadata": {
    "tags": []
   },
   "outputs": [],
   "source": [
    "cwms.delete_rating_spec(rating_id='TestRating.Stage;Flow.USGS-EXSA-TEST.USGS-NWIS-TEST', office_id='MVP', delete_method='DELETE_ALL')"
   ]
  },
  {
   "cell_type": "code",
   "execution_count": 40,
   "id": "fb4f53d1-11e5-42f0-9356-bbff0734ac46",
   "metadata": {
    "tags": []
   },
   "outputs": [],
   "source": [
    "cwms.delete_rating_template(template_id='Stage;Flow.USGS-EXSA-TEST',office_id='MVP',delete_method='DELETE_ALL')"
   ]
  },
  {
   "cell_type": "code",
   "execution_count": 41,
   "id": "4d14a622-e3b7-46bd-bb93-1b85c439b022",
   "metadata": {
    "tags": []
   },
   "outputs": [],
   "source": [
    "cwms.api.delete(endpoint=f\"locations/TestRating\", params = {'office':'MVP'})"
   ]
  },
  {
   "cell_type": "code",
   "execution_count": null,
   "id": "868d87af-15cd-4dd1-bb01-50c39c685c09",
   "metadata": {},
   "outputs": [],
   "source": []
  }
 ],
 "metadata": {
  "kernelspec": {
   "display_name": "Python 3 (ipykernel)",
   "language": "python",
   "name": "python3"
  },
  "language_info": {
   "codemirror_mode": {
    "name": "ipython",
    "version": 3
   },
   "file_extension": ".py",
   "mimetype": "text/x-python",
   "name": "python",
   "nbconvert_exporter": "python",
   "pygments_lexer": "ipython3",
   "version": "3.11.4"
  }
 },
 "nbformat": 4,
 "nbformat_minor": 5
}
