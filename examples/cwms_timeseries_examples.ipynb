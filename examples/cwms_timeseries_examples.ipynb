{
 "cells": [
  {
   "cell_type": "code",
   "execution_count": 1,
   "id": "ed089235-4430-4db9-8cc2-438d9de9cea8",
   "metadata": {
    "tags": []
   },
   "outputs": [],
   "source": [
    "#libraries\n",
    "import pandas as pd\n",
    "import numpy as np\n",
    "from datetime import datetime, timedelta, timezone\n",
    "import json\n",
    "import sys\n",
    "sys.path.insert(0, \"/home/nov00002/Documents/repos/cwms-python/\")\n",
    "\n",
    "import cwms"
   ]
  },
  {
   "cell_type": "markdown",
   "id": "b941edd3-8dfb-492c-8737-07d61e621e94",
   "metadata": {},
   "source": [
    "### Initializing the database and write access\n",
    "\n",
    "cwms-python will connect by default to the USACE public database available through https://cwms-data.usace.army.mil/cwms-data/. This is the database that hosts data for https://water.usace.army.mil/. The apiRoot can be updated to access data directly from a USACE district database. This can be done with the cwms.api.init_session. For users with write capabilitied to the database an apiKey is required and can be also be initialized using the cwms.api.init_sessions. For users who only want to access data from the public database these steps are not needed and all get functions in cwms-pythong can be used without initializing.\n"
   ]
  },
  {
   "cell_type": "code",
   "execution_count": 2,
   "id": "65e534d2-aabd-4010-96e7-283cd9943971",
   "metadata": {
    "tags": []
   },
   "outputs": [],
   "source": [
    "apiRoot = \"https://cwms-data.usace.army.mil/cwms-data/\"  "
   ]
  },
  {
   "cell_type": "code",
   "execution_count": 3,
   "id": "0c79aa14-e07b-49d9-bed0-350c6d1ac584",
   "metadata": {
    "tags": []
   },
   "outputs": [
    {
     "name": "stdin",
     "output_type": "stream",
     "text": [
      " ········\n"
     ]
    }
   ],
   "source": [
    "from getpass import getpass\n",
    "apiKey = \"apikey \" + getpass()"
   ]
  },
  {
   "cell_type": "code",
   "execution_count": 3,
   "id": "d1633802-24d8-49eb-87a8-69ab018f4028",
   "metadata": {
    "tags": []
   },
   "outputs": [],
   "source": [
    "#apiKey = \"apikey 2GMEAgwsgrFWqjlZmQMcAEC94gvHXKDo88VLQo0hJ8TOZRy703Qw9iEM6fMN4tUxLhnnSuH9soLVe5HuG10iCAPAy6Hx29j0OePVB1pj3ixP7TTu4xgtLU18CvFfPz1XQWKStOWIQFewwNMMJoXUwvABxYri1fSYdEffSoos4dHA7QHmu11EAVnTqx6go86ZI9xpMTQcPSYsBQLZUZCcrQBomHUNpOOTJnVnhrHKfyb1AyjZterG8RBBoiBIQJRQ\"\n",
    "api = cwms.api.init_session(api_root=apiRoot)#,api_key=apiKey)"
   ]
  },
  {
   "cell_type": "code",
   "execution_count": 4,
   "id": "3e6934f0-fd04-4813-b931-0b7f8272efe5",
   "metadata": {
    "tags": []
   },
   "outputs": [],
   "source": [
    "cat = cwms.get_timeseries_catalog(office_id='NWDM',page_size=100)"
   ]
  },
  {
   "cell_type": "code",
   "execution_count": 5,
   "id": "50b514c0-0909-4ad9-bbdc-5ac44cda46c3",
   "metadata": {},
   "outputs": [
    {
     "data": {
      "text/html": [
       "<div>\n",
       "<style scoped>\n",
       "    .dataframe tbody tr th:only-of-type {\n",
       "        vertical-align: middle;\n",
       "    }\n",
       "\n",
       "    .dataframe tbody tr th {\n",
       "        vertical-align: top;\n",
       "    }\n",
       "\n",
       "    .dataframe thead th {\n",
       "        text-align: right;\n",
       "    }\n",
       "</style>\n",
       "<table border=\"1\" class=\"dataframe\">\n",
       "  <thead>\n",
       "    <tr style=\"text-align: right;\">\n",
       "      <th></th>\n",
       "      <th>office</th>\n",
       "      <th>name</th>\n",
       "      <th>units</th>\n",
       "      <th>interval</th>\n",
       "      <th>interval-offset</th>\n",
       "      <th>time-zone</th>\n",
       "      <th>extents</th>\n",
       "    </tr>\n",
       "  </thead>\n",
       "  <tbody>\n",
       "    <tr>\n",
       "      <th>0</th>\n",
       "      <td>NWDM</td>\n",
       "      <td>03045.Code.Inst.1Hour.0.Test</td>\n",
       "      <td>n/a</td>\n",
       "      <td>1Hour</td>\n",
       "      <td>0</td>\n",
       "      <td>America/Chicago</td>\n",
       "      <td>[]</td>\n",
       "    </tr>\n",
       "    <tr>\n",
       "      <th>1</th>\n",
       "      <td>NWDM</td>\n",
       "      <td>03045.Flow.Inst.1Day.0.Test</td>\n",
       "      <td>cms</td>\n",
       "      <td>1Day</td>\n",
       "      <td>360</td>\n",
       "      <td>America/Chicago</td>\n",
       "      <td>[]</td>\n",
       "    </tr>\n",
       "    <tr>\n",
       "      <th>2</th>\n",
       "      <td>NWDM</td>\n",
       "      <td>03045.Flow.Inst.1Hour.0.Test</td>\n",
       "      <td>cms</td>\n",
       "      <td>1Hour</td>\n",
       "      <td>2147483647</td>\n",
       "      <td>America/Chicago</td>\n",
       "      <td>[]</td>\n",
       "    </tr>\n",
       "    <tr>\n",
       "      <th>3</th>\n",
       "      <td>NWDM</td>\n",
       "      <td>3000C_1563.Precip.Inst.1Hour.0.Raw-DenverAlert</td>\n",
       "      <td>mm</td>\n",
       "      <td>1Hour</td>\n",
       "      <td>0</td>\n",
       "      <td>UTC</td>\n",
       "      <td>[]</td>\n",
       "    </tr>\n",
       "    <tr>\n",
       "      <th>4</th>\n",
       "      <td>NWDM</td>\n",
       "      <td>46ND.Flow.Inst.1Hour.0.Best-NWDM</td>\n",
       "      <td>cms</td>\n",
       "      <td>1Hour</td>\n",
       "      <td>0</td>\n",
       "      <td>US/Central</td>\n",
       "      <td>[]</td>\n",
       "    </tr>\n",
       "    <tr>\n",
       "      <th>...</th>\n",
       "      <td>...</td>\n",
       "      <td>...</td>\n",
       "      <td>...</td>\n",
       "      <td>...</td>\n",
       "      <td>...</td>\n",
       "      <td>...</td>\n",
       "      <td>...</td>\n",
       "    </tr>\n",
       "    <tr>\n",
       "      <th>95</th>\n",
       "      <td>NWDM</td>\n",
       "      <td>AGYM.Precip.Inst.15Minutes.0.Raw-LRGS</td>\n",
       "      <td>mm</td>\n",
       "      <td>15Minutes</td>\n",
       "      <td>0</td>\n",
       "      <td>US/Central</td>\n",
       "      <td>[{'earliest-time': '2023-01-10T14:45:00Z', 'la...</td>\n",
       "    </tr>\n",
       "    <tr>\n",
       "      <th>96</th>\n",
       "      <td>NWDM</td>\n",
       "      <td>AGYM.Precip.Inst.15Minutes.0.Raw-NWKLRGS</td>\n",
       "      <td>mm</td>\n",
       "      <td>15Minutes</td>\n",
       "      <td>0</td>\n",
       "      <td>US/Central</td>\n",
       "      <td>[]</td>\n",
       "    </tr>\n",
       "    <tr>\n",
       "      <th>97</th>\n",
       "      <td>NWDM</td>\n",
       "      <td>AGYM.Precip.Inst.15Minutes.0.Raw-USGS-Web</td>\n",
       "      <td>mm</td>\n",
       "      <td>15Minutes</td>\n",
       "      <td>0</td>\n",
       "      <td>US/Central</td>\n",
       "      <td>[{'earliest-time': '2023-01-10T16:00:00Z', 'la...</td>\n",
       "    </tr>\n",
       "    <tr>\n",
       "      <th>98</th>\n",
       "      <td>NWDM</td>\n",
       "      <td>AGYM.Precip.Inst.1Hour.0.Best-NWDM</td>\n",
       "      <td>mm</td>\n",
       "      <td>1Hour</td>\n",
       "      <td>0</td>\n",
       "      <td>US/Central</td>\n",
       "      <td>[{'earliest-time': '2020-12-08T16:00:00Z', 'la...</td>\n",
       "    </tr>\n",
       "    <tr>\n",
       "      <th>99</th>\n",
       "      <td>NWDM</td>\n",
       "      <td>AGYM.Precip.Inst.1Hour.0.Raw-NWDM-CCP</td>\n",
       "      <td>mm</td>\n",
       "      <td>1Hour</td>\n",
       "      <td>0</td>\n",
       "      <td>US/Central</td>\n",
       "      <td>[{'earliest-time': '2023-01-10T15:00:00Z', 'la...</td>\n",
       "    </tr>\n",
       "  </tbody>\n",
       "</table>\n",
       "<p>100 rows × 7 columns</p>\n",
       "</div>"
      ],
      "text/plain": [
       "   office                                            name units   interval  \\\n",
       "0    NWDM                    03045.Code.Inst.1Hour.0.Test   n/a      1Hour   \n",
       "1    NWDM                     03045.Flow.Inst.1Day.0.Test   cms       1Day   \n",
       "2    NWDM                    03045.Flow.Inst.1Hour.0.Test   cms      1Hour   \n",
       "3    NWDM  3000C_1563.Precip.Inst.1Hour.0.Raw-DenverAlert    mm      1Hour   \n",
       "4    NWDM                46ND.Flow.Inst.1Hour.0.Best-NWDM   cms      1Hour   \n",
       "..    ...                                             ...   ...        ...   \n",
       "95   NWDM           AGYM.Precip.Inst.15Minutes.0.Raw-LRGS    mm  15Minutes   \n",
       "96   NWDM        AGYM.Precip.Inst.15Minutes.0.Raw-NWKLRGS    mm  15Minutes   \n",
       "97   NWDM       AGYM.Precip.Inst.15Minutes.0.Raw-USGS-Web    mm  15Minutes   \n",
       "98   NWDM              AGYM.Precip.Inst.1Hour.0.Best-NWDM    mm      1Hour   \n",
       "99   NWDM           AGYM.Precip.Inst.1Hour.0.Raw-NWDM-CCP    mm      1Hour   \n",
       "\n",
       "    interval-offset        time-zone  \\\n",
       "0                 0  America/Chicago   \n",
       "1               360  America/Chicago   \n",
       "2        2147483647  America/Chicago   \n",
       "3                 0              UTC   \n",
       "4                 0       US/Central   \n",
       "..              ...              ...   \n",
       "95                0       US/Central   \n",
       "96                0       US/Central   \n",
       "97                0       US/Central   \n",
       "98                0       US/Central   \n",
       "99                0       US/Central   \n",
       "\n",
       "                                              extents  \n",
       "0                                                  []  \n",
       "1                                                  []  \n",
       "2                                                  []  \n",
       "3                                                  []  \n",
       "4                                                  []  \n",
       "..                                                ...  \n",
       "95  [{'earliest-time': '2023-01-10T14:45:00Z', 'la...  \n",
       "96                                                 []  \n",
       "97  [{'earliest-time': '2023-01-10T16:00:00Z', 'la...  \n",
       "98  [{'earliest-time': '2020-12-08T16:00:00Z', 'la...  \n",
       "99  [{'earliest-time': '2023-01-10T15:00:00Z', 'la...  \n",
       "\n",
       "[100 rows x 7 columns]"
      ]
     },
     "execution_count": 5,
     "metadata": {},
     "output_type": "execute_result"
    }
   ],
   "source": [
    "cat.df"
   ]
  },
  {
   "cell_type": "code",
   "execution_count": null,
   "id": "7caacd02-395b-4a0c-82b0-18e831b3588d",
   "metadata": {},
   "outputs": [],
   "source": []
  }
 ],
 "metadata": {
  "kernelspec": {
   "display_name": "Python 3 (ipykernel)",
   "language": "python",
   "name": "python3"
  },
  "language_info": {
   "codemirror_mode": {
    "name": "ipython",
    "version": 3
   },
   "file_extension": ".py",
   "mimetype": "text/x-python",
   "name": "python",
   "nbconvert_exporter": "python",
   "pygments_lexer": "ipython3",
   "version": "3.9.18"
  }
 },
 "nbformat": 4,
 "nbformat_minor": 5
}
