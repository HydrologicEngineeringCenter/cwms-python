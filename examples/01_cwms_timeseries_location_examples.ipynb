{
 "cells": [
  {
   "cell_type": "code",
   "execution_count": 1,
   "id": "ed089235-4430-4db9-8cc2-438d9de9cea8",
   "metadata": {
    "tags": []
   },
   "outputs": [],
   "source": [
    "#libraries\n",
    "import pandas as pd\n",
    "import numpy as np\n",
    "from datetime import datetime, timedelta, timezone\n",
    "import json\n",
    "\n",
    "import cwms"
   ]
  },
  {
   "cell_type": "markdown",
   "id": "b941edd3-8dfb-492c-8737-07d61e621e94",
   "metadata": {},
   "source": [
    "### Initializing the database and write access\n",
    "\n",
    "cwms-python will connect by default to the USACE public database available through https://cwms-data.usace.army.mil/cwms-data/. This is the database that hosts data for https://water.usace.army.mil/. The apiRoot can be updated to access data directly from a USACE district database. This can be done with the cwms.api.init_session. For users with write capabilitied to the database an apiKey is required and can be also be initialized using the cwms.api.init_sessions. For users who only want to access data from the public database these steps are not needed and all get functions in cwms-python can be used without initializing.\n"
   ]
  },
  {
   "cell_type": "code",
   "execution_count": 2,
   "id": "65e534d2-aabd-4010-96e7-283cd9943971",
   "metadata": {
    "tags": []
   },
   "outputs": [],
   "source": [
    "apiRoot = \"https://cwms-data-test.cwbi.us/cwms-data/\" "
   ]
  },
  {
   "cell_type": "code",
   "execution_count": 3,
   "id": "d1633802-24d8-49eb-87a8-69ab018f4028",
   "metadata": {
    "tags": []
   },
   "outputs": [],
   "source": [
    "api = cwms.api.init_session(api_root=apiRoot)"
   ]
  },
  {
   "cell_type": "markdown",
   "id": "7fcba580-d5fd-4b86-9176-baab8c8575c7",
   "metadata": {},
   "source": [
    "### Look at Location Catalog to get list of locations for an Office grab all \"Projects\""
   ]
  },
  {
   "cell_type": "code",
   "execution_count": 4,
   "id": "3e6934f0-fd04-4813-b931-0b7f8272efe5",
   "metadata": {
    "tags": []
   },
   "outputs": [],
   "source": [
    "loc_cat = cwms.get_locations_catalog(office_id='MVP',location_kind_like='PROJECT')"
   ]
  },
  {
   "cell_type": "code",
   "execution_count": 5,
   "id": "32a8b274-8cb3-4165-a350-8a208b205d5c",
   "metadata": {
    "tags": []
   },
   "outputs": [
    {
     "data": {
      "text/html": [
       "<div>\n",
       "<style scoped>\n",
       "    .dataframe tbody tr th:only-of-type {\n",
       "        vertical-align: middle;\n",
       "    }\n",
       "\n",
       "    .dataframe tbody tr th {\n",
       "        vertical-align: top;\n",
       "    }\n",
       "\n",
       "    .dataframe thead th {\n",
       "        text-align: right;\n",
       "    }\n",
       "</style>\n",
       "<table border=\"1\" class=\"dataframe\">\n",
       "  <thead>\n",
       "    <tr style=\"text-align: right;\">\n",
       "      <th></th>\n",
       "      <th>office</th>\n",
       "      <th>name</th>\n",
       "      <th>nearest-city</th>\n",
       "      <th>public-name</th>\n",
       "      <th>long-name</th>\n",
       "      <th>description</th>\n",
       "      <th>kind</th>\n",
       "      <th>type</th>\n",
       "      <th>time-zone</th>\n",
       "      <th>latitude</th>\n",
       "      <th>...</th>\n",
       "      <th>elevation</th>\n",
       "      <th>unit</th>\n",
       "      <th>vertical-datum</th>\n",
       "      <th>nation</th>\n",
       "      <th>state</th>\n",
       "      <th>county</th>\n",
       "      <th>bounding-office</th>\n",
       "      <th>map-label</th>\n",
       "      <th>active</th>\n",
       "      <th>aliases</th>\n",
       "    </tr>\n",
       "  </thead>\n",
       "  <tbody>\n",
       "    <tr>\n",
       "      <th>0</th>\n",
       "      <td>MVP</td>\n",
       "      <td>LockDam_05</td>\n",
       "      <td>Minnesota City</td>\n",
       "      <td>Lock and Dam 05</td>\n",
       "      <td>Lock and Dam 05 at Mississippi River 9 foot Ch...</td>\n",
       "      <td>USACE Owned and Maintained</td>\n",
       "      <td>PROJECT</td>\n",
       "      <td>Dam</td>\n",
       "      <td>US/Central</td>\n",
       "      <td>44.160917</td>\n",
       "      <td>...</td>\n",
       "      <td>0.0</td>\n",
       "      <td>m</td>\n",
       "      <td>NAVD88</td>\n",
       "      <td>United States</td>\n",
       "      <td>MN</td>\n",
       "      <td>Winona</td>\n",
       "      <td>MVP</td>\n",
       "      <td>Lock and Dam 05</td>\n",
       "      <td>True</td>\n",
       "      <td>[{'name': 'Agency Aliases-NWS Handbook 5 ID', ...</td>\n",
       "    </tr>\n",
       "    <tr>\n",
       "      <th>1</th>\n",
       "      <td>MVP</td>\n",
       "      <td>WatsonSag_Dam</td>\n",
       "      <td>Watson</td>\n",
       "      <td>Watson Sag Weir Dam</td>\n",
       "      <td>Watson Sag Weir Dam at Lac Qui Parle Flood Con...</td>\n",
       "      <td>USACE Owned and Maintained</td>\n",
       "      <td>PROJECT</td>\n",
       "      <td>Dam</td>\n",
       "      <td>US/Central</td>\n",
       "      <td>45.025000</td>\n",
       "      <td>...</td>\n",
       "      <td>0.0</td>\n",
       "      <td>m</td>\n",
       "      <td>NGVD29</td>\n",
       "      <td>United States</td>\n",
       "      <td>MN</td>\n",
       "      <td>Chippewa</td>\n",
       "      <td>MVP</td>\n",
       "      <td>Watson Sag Weir Dam</td>\n",
       "      <td>True</td>\n",
       "      <td>[{'name': 'Agency Aliases-NIDID', 'value': ' M...</td>\n",
       "    </tr>\n",
       "    <tr>\n",
       "      <th>2</th>\n",
       "      <td>MVP</td>\n",
       "      <td>TraverseRES_Dam</td>\n",
       "      <td>Fergus Falls</td>\n",
       "      <td>Reservation Dam at Lake Traverse Reservoir</td>\n",
       "      <td>Reservation Dam at Lake Traverse Reservoir at ...</td>\n",
       "      <td>USACE Owned, USGS Maintained</td>\n",
       "      <td>PROJECT</td>\n",
       "      <td>Dam</td>\n",
       "      <td>US/Central</td>\n",
       "      <td>45.769100</td>\n",
       "      <td>...</td>\n",
       "      <td>900.0</td>\n",
       "      <td>ft</td>\n",
       "      <td>LOCAL</td>\n",
       "      <td>United States</td>\n",
       "      <td>MN</td>\n",
       "      <td>Traverse</td>\n",
       "      <td>MVP</td>\n",
       "      <td>Reservation Dam at Lake Traverse Reservoir</td>\n",
       "      <td>True</td>\n",
       "      <td>[{'name': 'Agency Aliases-NWS Handbook 5 ID', ...</td>\n",
       "    </tr>\n",
       "    <tr>\n",
       "      <th>3</th>\n",
       "      <td>MVP</td>\n",
       "      <td>UpperSAFalls</td>\n",
       "      <td>Minneapolis</td>\n",
       "      <td>Upper St. Anthony Falls</td>\n",
       "      <td>Upper St. Anthony Falls L&amp;D at Mississippi Riv...</td>\n",
       "      <td>USACE Owned, USGS Maintained</td>\n",
       "      <td>PROJECT</td>\n",
       "      <td>Dam</td>\n",
       "      <td>US/Central</td>\n",
       "      <td>44.981600</td>\n",
       "      <td>...</td>\n",
       "      <td>0.0</td>\n",
       "      <td>m</td>\n",
       "      <td>NAVD88</td>\n",
       "      <td>United States</td>\n",
       "      <td>MN</td>\n",
       "      <td>Hennepin</td>\n",
       "      <td>MVP</td>\n",
       "      <td>Upper St. Anthony Falls</td>\n",
       "      <td>True</td>\n",
       "      <td>[{'name': 'Agency Aliases-NIDID', 'value': 'MN...</td>\n",
       "    </tr>\n",
       "    <tr>\n",
       "      <th>4</th>\n",
       "      <td>MVP</td>\n",
       "      <td>LockDam_09</td>\n",
       "      <td>Lynxville</td>\n",
       "      <td>Lock and Dam 09</td>\n",
       "      <td>Lock and Dam 09 at Mississippi River 9 foot Ch...</td>\n",
       "      <td>USACE Owned and Maintained</td>\n",
       "      <td>PROJECT</td>\n",
       "      <td>Dam</td>\n",
       "      <td>US/Central</td>\n",
       "      <td>43.212958</td>\n",
       "      <td>...</td>\n",
       "      <td>0.0</td>\n",
       "      <td>ft</td>\n",
       "      <td>NAVD88</td>\n",
       "      <td>United States</td>\n",
       "      <td>WI</td>\n",
       "      <td>Crawford</td>\n",
       "      <td>MVP</td>\n",
       "      <td>Lock and Dam 09</td>\n",
       "      <td>True</td>\n",
       "      <td>[{'name': 'Agency Aliases-NIDID', 'value': 'WI...</td>\n",
       "    </tr>\n",
       "  </tbody>\n",
       "</table>\n",
       "<p>5 rows × 24 columns</p>\n",
       "</div>"
      ],
      "text/plain": [
       "  office             name    nearest-city  \\\n",
       "0    MVP       LockDam_05  Minnesota City   \n",
       "1    MVP    WatsonSag_Dam          Watson   \n",
       "2    MVP  TraverseRES_Dam    Fergus Falls   \n",
       "3    MVP     UpperSAFalls     Minneapolis   \n",
       "4    MVP       LockDam_09       Lynxville   \n",
       "\n",
       "                                  public-name  \\\n",
       "0                             Lock and Dam 05   \n",
       "1                         Watson Sag Weir Dam   \n",
       "2  Reservation Dam at Lake Traverse Reservoir   \n",
       "3                     Upper St. Anthony Falls   \n",
       "4                             Lock and Dam 09   \n",
       "\n",
       "                                           long-name  \\\n",
       "0  Lock and Dam 05 at Mississippi River 9 foot Ch...   \n",
       "1  Watson Sag Weir Dam at Lac Qui Parle Flood Con...   \n",
       "2  Reservation Dam at Lake Traverse Reservoir at ...   \n",
       "3  Upper St. Anthony Falls L&D at Mississippi Riv...   \n",
       "4  Lock and Dam 09 at Mississippi River 9 foot Ch...   \n",
       "\n",
       "                    description     kind type   time-zone   latitude  ...  \\\n",
       "0    USACE Owned and Maintained  PROJECT  Dam  US/Central  44.160917  ...   \n",
       "1    USACE Owned and Maintained  PROJECT  Dam  US/Central  45.025000  ...   \n",
       "2  USACE Owned, USGS Maintained  PROJECT  Dam  US/Central  45.769100  ...   \n",
       "3  USACE Owned, USGS Maintained  PROJECT  Dam  US/Central  44.981600  ...   \n",
       "4    USACE Owned and Maintained  PROJECT  Dam  US/Central  43.212958  ...   \n",
       "\n",
       "   elevation  unit  vertical-datum         nation  state    county  \\\n",
       "0        0.0     m          NAVD88  United States     MN    Winona   \n",
       "1        0.0     m          NGVD29  United States     MN  Chippewa   \n",
       "2      900.0    ft           LOCAL  United States     MN  Traverse   \n",
       "3        0.0     m          NAVD88  United States     MN  Hennepin   \n",
       "4        0.0    ft          NAVD88  United States     WI  Crawford   \n",
       "\n",
       "  bounding-office                                   map-label active  \\\n",
       "0             MVP                             Lock and Dam 05   True   \n",
       "1             MVP                         Watson Sag Weir Dam   True   \n",
       "2             MVP  Reservation Dam at Lake Traverse Reservoir   True   \n",
       "3             MVP                     Upper St. Anthony Falls   True   \n",
       "4             MVP                             Lock and Dam 09   True   \n",
       "\n",
       "                                             aliases  \n",
       "0  [{'name': 'Agency Aliases-NWS Handbook 5 ID', ...  \n",
       "1  [{'name': 'Agency Aliases-NIDID', 'value': ' M...  \n",
       "2  [{'name': 'Agency Aliases-NWS Handbook 5 ID', ...  \n",
       "3  [{'name': 'Agency Aliases-NIDID', 'value': 'MN...  \n",
       "4  [{'name': 'Agency Aliases-NIDID', 'value': 'WI...  \n",
       "\n",
       "[5 rows x 24 columns]"
      ]
     },
     "execution_count": 5,
     "metadata": {},
     "output_type": "execute_result"
    }
   ],
   "source": [
    "loc_cat.df.head()"
   ]
  },
  {
   "cell_type": "markdown",
   "id": "8c585fe7-fd93-44b0-a31d-89ceffd55719",
   "metadata": {},
   "source": [
    "### Select a location and grab information on that specific location"
   ]
  },
  {
   "cell_type": "code",
   "execution_count": 6,
   "id": "a95519ca-d779-4615-8ab8-a3509e38f78e",
   "metadata": {
    "tags": []
   },
   "outputs": [],
   "source": [
    "loc =cwms.get_location(location_id='Baldhill_Dam',office_id='MVP')"
   ]
  },
  {
   "cell_type": "code",
   "execution_count": 7,
   "id": "4e43e2db-05e8-4180-aec4-bcca67ef4585",
   "metadata": {
    "tags": []
   },
   "outputs": [
    {
     "data": {
      "text/plain": [
       "{'office-id': 'MVP',\n",
       " 'name': 'Baldhill_Dam',\n",
       " 'latitude': 47.0361833,\n",
       " 'longitude': -98.0814667,\n",
       " 'active': True,\n",
       " 'public-name': 'Baldhill Dam at Lake Ashtabula',\n",
       " 'long-name': 'Baldhill Dam at Lake Ashtabula near Valley City, ND',\n",
       " 'description': 'USACE Owned, USGS Maintained',\n",
       " 'timezone-name': 'US/Central',\n",
       " 'location-type': 'Dam',\n",
       " 'location-kind': 'PROJECT',\n",
       " 'nation': 'US',\n",
       " 'state-initial': 'ND',\n",
       " 'county-name': 'Barnes',\n",
       " 'nearest-city': 'Valley City',\n",
       " 'horizontal-datum': 'NAD83',\n",
       " 'vertical-datum': 'NGVD29',\n",
       " 'elevation': 1199.9999999999998,\n",
       " 'map-label': 'Baldhill Dam',\n",
       " 'bounding-office-id': 'MVP',\n",
       " 'elevation-units': 'ft'}"
      ]
     },
     "execution_count": 7,
     "metadata": {},
     "output_type": "execute_result"
    }
   ],
   "source": [
    "loc.json"
   ]
  },
  {
   "cell_type": "markdown",
   "id": "198454c7-cc0d-461d-b4a2-9808597fbdce",
   "metadata": {},
   "source": [
    "### Use the time series catalog to get a list of time series for a specific location \n",
    "by default only publicly available timeseries will be displayed. To get all timeseries set timeseries_group_like = None"
   ]
  },
  {
   "cell_type": "code",
   "execution_count": 8,
   "id": "75b0ab7a-1c8d-46d1-87ba-617e72ba1183",
   "metadata": {
    "tags": []
   },
   "outputs": [],
   "source": [
    "cat_ts = cwms.get_timeseries_catalog(office_id='MVP', like='Baldhill_Dam*')"
   ]
  },
  {
   "cell_type": "code",
   "execution_count": 9,
   "id": "88f7dc1b-929a-4dc7-a977-7ac001140b18",
   "metadata": {
    "tags": []
   },
   "outputs": [
    {
     "data": {
      "text/html": [
       "<div>\n",
       "<style scoped>\n",
       "    .dataframe tbody tr th:only-of-type {\n",
       "        vertical-align: middle;\n",
       "    }\n",
       "\n",
       "    .dataframe tbody tr th {\n",
       "        vertical-align: top;\n",
       "    }\n",
       "\n",
       "    .dataframe thead th {\n",
       "        text-align: right;\n",
       "    }\n",
       "</style>\n",
       "<table border=\"1\" class=\"dataframe\">\n",
       "  <thead>\n",
       "    <tr style=\"text-align: right;\">\n",
       "      <th></th>\n",
       "      <th>office</th>\n",
       "      <th>name</th>\n",
       "      <th>units</th>\n",
       "      <th>interval</th>\n",
       "      <th>interval-offset</th>\n",
       "      <th>time-zone</th>\n",
       "      <th>extents</th>\n",
       "    </tr>\n",
       "  </thead>\n",
       "  <tbody>\n",
       "    <tr>\n",
       "      <th>0</th>\n",
       "      <td>MVP</td>\n",
       "      <td>Baldhill_Dam-Tailwater.Elev.Inst.15Minutes.0.r...</td>\n",
       "      <td>m</td>\n",
       "      <td>15Minutes</td>\n",
       "      <td>0</td>\n",
       "      <td>US/Central</td>\n",
       "      <td>[{'earliest-time': '2021-11-09T06:15:00Z', 'la...</td>\n",
       "    </tr>\n",
       "    <tr>\n",
       "      <th>1</th>\n",
       "      <td>MVP</td>\n",
       "      <td>Baldhill_Dam-Tailwater.Elev.Inst.15Minutes.0.r...</td>\n",
       "      <td>m</td>\n",
       "      <td>15Minutes</td>\n",
       "      <td>0</td>\n",
       "      <td>US/Central</td>\n",
       "      <td>[{'earliest-time': '2022-06-25T12:45:00Z', 'la...</td>\n",
       "    </tr>\n",
       "    <tr>\n",
       "      <th>2</th>\n",
       "      <td>MVP</td>\n",
       "      <td>Baldhill_Dam-Tailwater.Stage.Inst.15Minutes.0.rev</td>\n",
       "      <td>m</td>\n",
       "      <td>15Minutes</td>\n",
       "      <td>0</td>\n",
       "      <td>US/Central</td>\n",
       "      <td>[{'earliest-time': '2021-11-09T06:15:00Z', 'la...</td>\n",
       "    </tr>\n",
       "    <tr>\n",
       "      <th>3</th>\n",
       "      <td>MVP</td>\n",
       "      <td>Baldhill_Dam-Tailwater.Temp-Water.Inst.15Minut...</td>\n",
       "      <td>C</td>\n",
       "      <td>15Minutes</td>\n",
       "      <td>0</td>\n",
       "      <td>US/Central</td>\n",
       "      <td>[{'earliest-time': '2022-09-26T05:45:00Z', 'la...</td>\n",
       "    </tr>\n",
       "    <tr>\n",
       "      <th>4</th>\n",
       "      <td>MVP</td>\n",
       "      <td>Baldhill_Dam.Elev.Inst.15Minutes.0.rev-NGVD29</td>\n",
       "      <td>m</td>\n",
       "      <td>15Minutes</td>\n",
       "      <td>0</td>\n",
       "      <td>US/Central</td>\n",
       "      <td>[{'earliest-time': '2022-09-09T12:15:00Z', 'la...</td>\n",
       "    </tr>\n",
       "    <tr>\n",
       "      <th>5</th>\n",
       "      <td>MVP</td>\n",
       "      <td>Baldhill_Dam.Flow-In.Ave.6Hours.1Day.comp-noNeg</td>\n",
       "      <td>cms</td>\n",
       "      <td>6Hours</td>\n",
       "      <td>0</td>\n",
       "      <td>US/Central</td>\n",
       "      <td>[{'earliest-time': '2022-09-01T06:00:00Z', 'la...</td>\n",
       "    </tr>\n",
       "    <tr>\n",
       "      <th>6</th>\n",
       "      <td>MVP</td>\n",
       "      <td>Baldhill_Dam.Flow-Out.Inst.15Minutes.0.rev</td>\n",
       "      <td>cms</td>\n",
       "      <td>15Minutes</td>\n",
       "      <td>0</td>\n",
       "      <td>US/Central</td>\n",
       "      <td>[{'earliest-time': '2021-11-09T06:15:00Z', 'la...</td>\n",
       "    </tr>\n",
       "    <tr>\n",
       "      <th>7</th>\n",
       "      <td>MVP</td>\n",
       "      <td>Baldhill_Dam.Stage.Inst.15Minutes.0.rev</td>\n",
       "      <td>m</td>\n",
       "      <td>15Minutes</td>\n",
       "      <td>0</td>\n",
       "      <td>US/Central</td>\n",
       "      <td>[{'earliest-time': '2022-09-09T16:15:00Z', 'la...</td>\n",
       "    </tr>\n",
       "    <tr>\n",
       "      <th>8</th>\n",
       "      <td>MVP</td>\n",
       "      <td>Baldhill_Dam.Stor.Ave.6Hours.6Hours.comp</td>\n",
       "      <td>m3</td>\n",
       "      <td>6Hours</td>\n",
       "      <td>0</td>\n",
       "      <td>US/Central</td>\n",
       "      <td>[{'earliest-time': '2022-10-01T06:00:00Z', 'la...</td>\n",
       "    </tr>\n",
       "    <tr>\n",
       "      <th>9</th>\n",
       "      <td>MVP</td>\n",
       "      <td>Baldhill_Dam.Stor.Inst.15Minutes.0.comp</td>\n",
       "      <td>m3</td>\n",
       "      <td>15Minutes</td>\n",
       "      <td>0</td>\n",
       "      <td>US/Central</td>\n",
       "      <td>[{'earliest-time': '2022-09-09T12:15:00Z', 'la...</td>\n",
       "    </tr>\n",
       "  </tbody>\n",
       "</table>\n",
       "</div>"
      ],
      "text/plain": [
       "  office                                               name units   interval  \\\n",
       "0    MVP  Baldhill_Dam-Tailwater.Elev.Inst.15Minutes.0.r...     m  15Minutes   \n",
       "1    MVP  Baldhill_Dam-Tailwater.Elev.Inst.15Minutes.0.r...     m  15Minutes   \n",
       "2    MVP  Baldhill_Dam-Tailwater.Stage.Inst.15Minutes.0.rev     m  15Minutes   \n",
       "3    MVP  Baldhill_Dam-Tailwater.Temp-Water.Inst.15Minut...     C  15Minutes   \n",
       "4    MVP      Baldhill_Dam.Elev.Inst.15Minutes.0.rev-NGVD29     m  15Minutes   \n",
       "5    MVP    Baldhill_Dam.Flow-In.Ave.6Hours.1Day.comp-noNeg   cms     6Hours   \n",
       "6    MVP         Baldhill_Dam.Flow-Out.Inst.15Minutes.0.rev   cms  15Minutes   \n",
       "7    MVP            Baldhill_Dam.Stage.Inst.15Minutes.0.rev     m  15Minutes   \n",
       "8    MVP           Baldhill_Dam.Stor.Ave.6Hours.6Hours.comp    m3     6Hours   \n",
       "9    MVP            Baldhill_Dam.Stor.Inst.15Minutes.0.comp    m3  15Minutes   \n",
       "\n",
       "   interval-offset   time-zone  \\\n",
       "0                0  US/Central   \n",
       "1                0  US/Central   \n",
       "2                0  US/Central   \n",
       "3                0  US/Central   \n",
       "4                0  US/Central   \n",
       "5                0  US/Central   \n",
       "6                0  US/Central   \n",
       "7                0  US/Central   \n",
       "8                0  US/Central   \n",
       "9                0  US/Central   \n",
       "\n",
       "                                             extents  \n",
       "0  [{'earliest-time': '2021-11-09T06:15:00Z', 'la...  \n",
       "1  [{'earliest-time': '2022-06-25T12:45:00Z', 'la...  \n",
       "2  [{'earliest-time': '2021-11-09T06:15:00Z', 'la...  \n",
       "3  [{'earliest-time': '2022-09-26T05:45:00Z', 'la...  \n",
       "4  [{'earliest-time': '2022-09-09T12:15:00Z', 'la...  \n",
       "5  [{'earliest-time': '2022-09-01T06:00:00Z', 'la...  \n",
       "6  [{'earliest-time': '2021-11-09T06:15:00Z', 'la...  \n",
       "7  [{'earliest-time': '2022-09-09T16:15:00Z', 'la...  \n",
       "8  [{'earliest-time': '2022-10-01T06:00:00Z', 'la...  \n",
       "9  [{'earliest-time': '2022-09-09T12:15:00Z', 'la...  "
      ]
     },
     "execution_count": 9,
     "metadata": {},
     "output_type": "execute_result"
    }
   ],
   "source": [
    "cat_ts.df"
   ]
  },
  {
   "cell_type": "markdown",
   "id": "e809b076-a3b9-4872-82ce-74de51028903",
   "metadata": {},
   "source": [
    "### grab information about a single time series using the identifier function"
   ]
  },
  {
   "cell_type": "code",
   "execution_count": 10,
   "id": "eae8680c-9b3f-468c-bdf9-30b9c4d03756",
   "metadata": {
    "tags": []
   },
   "outputs": [],
   "source": [
    "ts_id = cwms.get_timeseries_identifier(ts_id='Baldhill_Dam.Flow-Out.Inst.15Minutes.0.rev', office_id='MVP')"
   ]
  },
  {
   "cell_type": "code",
   "execution_count": 11,
   "id": "231180de-6a66-480d-a9c3-c78aaea55704",
   "metadata": {
    "tags": []
   },
   "outputs": [
    {
     "data": {
      "text/plain": [
       "{'office-id': 'MVP',\n",
       " 'time-series-id': 'Baldhill_Dam.Flow-Out.Inst.15Minutes.0.rev',\n",
       " 'timezone-name': 'US/Central',\n",
       " 'interval-offset-minutes': 0,\n",
       " 'active': True}"
      ]
     },
     "execution_count": 11,
     "metadata": {},
     "output_type": "execute_result"
    }
   ],
   "source": [
    "ts_id.json"
   ]
  },
  {
   "cell_type": "markdown",
   "id": "4d184695-682e-44df-b547-3f35ea8d789e",
   "metadata": {},
   "source": [
    "### Select a timeseries and the grab the data"
   ]
  },
  {
   "cell_type": "code",
   "execution_count": 12,
   "id": "7caacd02-395b-4a0c-82b0-18e831b3588d",
   "metadata": {
    "tags": []
   },
   "outputs": [],
   "source": [
    "begin = pd.to_datetime(\"5/1/2024\")\n",
    "data = cwms.get_timeseries(ts_id='Baldhill_Dam.Flow-Out.Inst.15Minutes.0.rev',office_id=\"MVP\",begin=begin)"
   ]
  },
  {
   "cell_type": "code",
   "execution_count": 13,
   "id": "f6d0380c-be72-49c3-b77c-a6030a99b6ae",
   "metadata": {
    "tags": []
   },
   "outputs": [
    {
     "data": {
      "text/html": [
       "<div>\n",
       "<style scoped>\n",
       "    .dataframe tbody tr th:only-of-type {\n",
       "        vertical-align: middle;\n",
       "    }\n",
       "\n",
       "    .dataframe tbody tr th {\n",
       "        vertical-align: top;\n",
       "    }\n",
       "\n",
       "    .dataframe thead th {\n",
       "        text-align: right;\n",
       "    }\n",
       "</style>\n",
       "<table border=\"1\" class=\"dataframe\">\n",
       "  <thead>\n",
       "    <tr style=\"text-align: right;\">\n",
       "      <th></th>\n",
       "      <th>date-time</th>\n",
       "      <th>value</th>\n",
       "      <th>quality-code</th>\n",
       "    </tr>\n",
       "  </thead>\n",
       "  <tbody>\n",
       "    <tr>\n",
       "      <th>0</th>\n",
       "      <td>2024-05-01 00:00:00+00:00</td>\n",
       "      <td>271.010032</td>\n",
       "      <td>0</td>\n",
       "    </tr>\n",
       "    <tr>\n",
       "      <th>1</th>\n",
       "      <td>2024-05-01 00:15:00+00:00</td>\n",
       "      <td>271.010032</td>\n",
       "      <td>0</td>\n",
       "    </tr>\n",
       "    <tr>\n",
       "      <th>2</th>\n",
       "      <td>2024-05-01 00:30:00+00:00</td>\n",
       "      <td>274.090032</td>\n",
       "      <td>0</td>\n",
       "    </tr>\n",
       "    <tr>\n",
       "      <th>3</th>\n",
       "      <td>2024-05-01 00:45:00+00:00</td>\n",
       "      <td>271.010032</td>\n",
       "      <td>0</td>\n",
       "    </tr>\n",
       "    <tr>\n",
       "      <th>4</th>\n",
       "      <td>2024-05-01 01:00:00+00:00</td>\n",
       "      <td>271.010032</td>\n",
       "      <td>0</td>\n",
       "    </tr>\n",
       "    <tr>\n",
       "      <th>...</th>\n",
       "      <td>...</td>\n",
       "      <td>...</td>\n",
       "      <td>...</td>\n",
       "    </tr>\n",
       "    <tr>\n",
       "      <th>10733</th>\n",
       "      <td>2024-08-20 19:15:00+00:00</td>\n",
       "      <td>464.050055</td>\n",
       "      <td>0</td>\n",
       "    </tr>\n",
       "    <tr>\n",
       "      <th>10734</th>\n",
       "      <td>2024-08-20 19:30:00+00:00</td>\n",
       "      <td>464.050055</td>\n",
       "      <td>0</td>\n",
       "    </tr>\n",
       "    <tr>\n",
       "      <th>10735</th>\n",
       "      <td>2024-08-20 19:45:00+00:00</td>\n",
       "      <td>464.050055</td>\n",
       "      <td>0</td>\n",
       "    </tr>\n",
       "    <tr>\n",
       "      <th>10736</th>\n",
       "      <td>2024-08-20 20:00:00+00:00</td>\n",
       "      <td>466.510055</td>\n",
       "      <td>0</td>\n",
       "    </tr>\n",
       "    <tr>\n",
       "      <th>10737</th>\n",
       "      <td>2024-08-20 20:15:00+00:00</td>\n",
       "      <td>NaN</td>\n",
       "      <td>0</td>\n",
       "    </tr>\n",
       "  </tbody>\n",
       "</table>\n",
       "<p>10738 rows × 3 columns</p>\n",
       "</div>"
      ],
      "text/plain": [
       "                      date-time       value  quality-code\n",
       "0     2024-05-01 00:00:00+00:00  271.010032             0\n",
       "1     2024-05-01 00:15:00+00:00  271.010032             0\n",
       "2     2024-05-01 00:30:00+00:00  274.090032             0\n",
       "3     2024-05-01 00:45:00+00:00  271.010032             0\n",
       "4     2024-05-01 01:00:00+00:00  271.010032             0\n",
       "...                         ...         ...           ...\n",
       "10733 2024-08-20 19:15:00+00:00  464.050055             0\n",
       "10734 2024-08-20 19:30:00+00:00  464.050055             0\n",
       "10735 2024-08-20 19:45:00+00:00  464.050055             0\n",
       "10736 2024-08-20 20:00:00+00:00  466.510055             0\n",
       "10737 2024-08-20 20:15:00+00:00         NaN             0\n",
       "\n",
       "[10738 rows x 3 columns]"
      ]
     },
     "execution_count": 13,
     "metadata": {},
     "output_type": "execute_result"
    }
   ],
   "source": [
    "data.df"
   ]
  },
  {
   "cell_type": "markdown",
   "id": "e768a09d-a58b-4fee-b54e-a190a40c570c",
   "metadata": {},
   "source": [
    "### Now Let's create a Location and Time Series"
   ]
  },
  {
   "cell_type": "code",
   "execution_count": null,
   "id": "c430d4c5-f798-4a29-aa93-9baa69baf7ba",
   "metadata": {
    "tags": []
   },
   "outputs": [],
   "source": [
    "from getpass import getpass\n",
    "apiKey = \"apikey \" + getpass()"
   ]
  },
  {
   "cell_type": "code",
   "execution_count": 15,
   "id": "cfa12e45-fc15-4e21-aef3-aef6ea511037",
   "metadata": {
    "tags": []
   },
   "outputs": [],
   "source": [
    "api = cwms.api.init_session(api_key=apiKey)"
   ]
  },
  {
   "cell_type": "code",
   "execution_count": 16,
   "id": "fce4e115-baf1-4246-add2-c42d39dc84ed",
   "metadata": {
    "tags": []
   },
   "outputs": [
    {
     "data": {
      "text/plain": [
       "'https://cwms-data-test.cwbi.us/cwms-data/'"
      ]
     },
     "execution_count": 16,
     "metadata": {},
     "output_type": "execute_result"
    }
   ],
   "source": [
    "cwms.return_base_url()"
   ]
  },
  {
   "cell_type": "markdown",
   "id": "483a8006-aa9b-4924-8d8e-6bacc97fef5c",
   "metadata": {},
   "source": [
    "update the office-id to your office ID.  You will need to have CWMS premissions in database \n",
    "to write to the database and an apikey.  If you have CWMS permissions in your local database those would\n",
    "have copied over to CWBI-test.  "
   ]
  },
  {
   "cell_type": "code",
   "execution_count": 17,
   "id": "9fde6586-1702-4189-be94-626b4601f757",
   "metadata": {
    "tags": []
   },
   "outputs": [],
   "source": [
    "office_id = 'MVP'\n",
    "Loc_name = 'TestLoc'\n",
    "ts_id_1 = f'{Loc_name}.Stage.Inst.1Hour.0.Testing'\n",
    "ts_id_2 = f'{Loc_name}.Stage.Inst.1Hour.0.Testing2'"
   ]
  },
  {
   "cell_type": "code",
   "execution_count": 18,
   "id": "623bfec5-3a99-4b24-af5e-a440efc60509",
   "metadata": {
    "tags": []
   },
   "outputs": [
    {
     "data": {
      "text/plain": [
       "'TestLoc.Stage.Inst.1Hour.0.Testing'"
      ]
     },
     "execution_count": 18,
     "metadata": {},
     "output_type": "execute_result"
    }
   ],
   "source": [
    "ts_id_1"
   ]
  },
  {
   "cell_type": "code",
   "execution_count": 19,
   "id": "0f66e3d2-f03b-4ddf-a688-0659f49c8dc0",
   "metadata": {
    "tags": []
   },
   "outputs": [],
   "source": [
    "# update the office-id to your office ID.  You will need to have CWMS premissions in database \n",
    "# to write to the database and an apikey.  If you have CWMS permissions in your local database those would\n",
    "# have copied over to CWBI-test.  \n",
    "\n",
    "location ={'office-id': office_id,\n",
    " 'name': Loc_name,\n",
    " 'latitude': 47.0361833,\n",
    " 'longitude': -98.0814667,\n",
    " 'active': True,\n",
    " 'public-name': 'CWMS TESTING',\n",
    " 'long-name': 'CWMS TESTING',\n",
    " 'description': 'CWMS TESTING',\n",
    " 'timezone-name': 'US/Central',\n",
    " 'location-kind': 'PROJECT',\n",
    " 'nation': 'US',\n",
    " 'state-initial': 'ND',\n",
    " 'county-name': 'Barnes',\n",
    " 'nearest-city': 'Valley City',\n",
    " 'horizontal-datum': 'NAD83',\n",
    " 'vertical-datum': 'NGVD29',\n",
    " 'elevation': 1199.9999999999998,\n",
    " 'map-label': Loc_name,\n",
    " 'bounding-office-id': office_id,\n",
    " 'elevation-units': 'ft'}\n",
    "\n",
    "    \n",
    "cwms.store_location(data=location)"
   ]
  },
  {
   "cell_type": "code",
   "execution_count": 20,
   "id": "cfaf34a9-ce7b-40b2-8971-909d8cbbc554",
   "metadata": {
    "tags": []
   },
   "outputs": [],
   "source": [
    "test_loc = cwms.get_location(location_id=Loc_name,office_id=office_id)"
   ]
  },
  {
   "cell_type": "code",
   "execution_count": 21,
   "id": "e3560acb-48f4-482f-9590-95fb50815a5a",
   "metadata": {
    "tags": []
   },
   "outputs": [
    {
     "data": {
      "text/html": [
       "<div>\n",
       "<style scoped>\n",
       "    .dataframe tbody tr th:only-of-type {\n",
       "        vertical-align: middle;\n",
       "    }\n",
       "\n",
       "    .dataframe tbody tr th {\n",
       "        vertical-align: top;\n",
       "    }\n",
       "\n",
       "    .dataframe thead th {\n",
       "        text-align: right;\n",
       "    }\n",
       "</style>\n",
       "<table border=\"1\" class=\"dataframe\">\n",
       "  <thead>\n",
       "    <tr style=\"text-align: right;\">\n",
       "      <th></th>\n",
       "      <th>office-id</th>\n",
       "      <th>name</th>\n",
       "      <th>latitude</th>\n",
       "      <th>longitude</th>\n",
       "      <th>active</th>\n",
       "      <th>public-name</th>\n",
       "      <th>long-name</th>\n",
       "      <th>description</th>\n",
       "      <th>timezone-name</th>\n",
       "      <th>location-kind</th>\n",
       "      <th>nation</th>\n",
       "      <th>state-initial</th>\n",
       "      <th>county-name</th>\n",
       "      <th>nearest-city</th>\n",
       "      <th>horizontal-datum</th>\n",
       "      <th>vertical-datum</th>\n",
       "      <th>elevation</th>\n",
       "      <th>map-label</th>\n",
       "      <th>bounding-office-id</th>\n",
       "      <th>elevation-units</th>\n",
       "    </tr>\n",
       "  </thead>\n",
       "  <tbody>\n",
       "    <tr>\n",
       "      <th>0</th>\n",
       "      <td>MVP</td>\n",
       "      <td>TestLoc</td>\n",
       "      <td>47.036183</td>\n",
       "      <td>-98.081467</td>\n",
       "      <td>True</td>\n",
       "      <td>CWMS TESTING</td>\n",
       "      <td>CWMS TESTING</td>\n",
       "      <td>CWMS TESTING</td>\n",
       "      <td>US/Central</td>\n",
       "      <td>SITE</td>\n",
       "      <td>US</td>\n",
       "      <td>ND</td>\n",
       "      <td>Barnes</td>\n",
       "      <td>Valley City</td>\n",
       "      <td>NAD83</td>\n",
       "      <td>NGVD29</td>\n",
       "      <td>1200.0</td>\n",
       "      <td>TestLoc</td>\n",
       "      <td>MVP</td>\n",
       "      <td>ft</td>\n",
       "    </tr>\n",
       "  </tbody>\n",
       "</table>\n",
       "</div>"
      ],
      "text/plain": [
       "  office-id     name   latitude  longitude  active   public-name  \\\n",
       "0       MVP  TestLoc  47.036183 -98.081467    True  CWMS TESTING   \n",
       "\n",
       "      long-name   description timezone-name location-kind nation  \\\n",
       "0  CWMS TESTING  CWMS TESTING    US/Central          SITE     US   \n",
       "\n",
       "  state-initial county-name nearest-city horizontal-datum vertical-datum  \\\n",
       "0            ND      Barnes  Valley City            NAD83         NGVD29   \n",
       "\n",
       "   elevation map-label bounding-office-id elevation-units  \n",
       "0     1200.0   TestLoc                MVP              ft  "
      ]
     },
     "execution_count": 21,
     "metadata": {},
     "output_type": "execute_result"
    }
   ],
   "source": [
    "test_loc.df"
   ]
  },
  {
   "cell_type": "markdown",
   "id": "3c9223cc-fd12-40d2-8a1c-2f6d60f44de1",
   "metadata": {
    "tags": []
   },
   "source": [
    "### Create a time series datafram of values to store.  column names should be data-time and value. "
   ]
  },
  {
   "cell_type": "code",
   "execution_count": 22,
   "id": "1a6af444-6f0e-4d6b-a873-173f15dc24d5",
   "metadata": {
    "tags": []
   },
   "outputs": [],
   "source": [
    "data = pd.DataFrame({'date-time':pd.date_range(start='2024-08-18', end='2024-08-19', freq='1h'),'value':1})"
   ]
  },
  {
   "cell_type": "code",
   "execution_count": 23,
   "id": "f2b3a128-8d9e-4aa2-a0c3-cc8f783f73b7",
   "metadata": {
    "tags": []
   },
   "outputs": [],
   "source": [
    "data['date-time'].dt.tz"
   ]
  },
  {
   "cell_type": "code",
   "execution_count": 24,
   "id": "e3d43121-d271-4ff8-99d1-1e94996235ec",
   "metadata": {
    "tags": []
   },
   "outputs": [],
   "source": [
    "from datetime import timezone\n",
    "data['date-time'] = data['date-time'].dt.tz_localize('US/Eastern')\n",
    "#data['date-time'] = data['date-time'].dt.tz_localize(timezone.utc)"
   ]
  },
  {
   "cell_type": "code",
   "execution_count": 25,
   "id": "c3fdcdec-5c41-4ac2-b8a7-145a71bf288b",
   "metadata": {
    "tags": []
   },
   "outputs": [
    {
     "data": {
      "text/plain": [
       "<DstTzInfo 'US/Eastern' LMT-1 day, 19:04:00 STD>"
      ]
     },
     "execution_count": 25,
     "metadata": {},
     "output_type": "execute_result"
    }
   ],
   "source": [
    "data['date-time'].dt.tz"
   ]
  },
  {
   "cell_type": "code",
   "execution_count": 26,
   "id": "a7708082-e16a-4c45-93e9-0348d7a9b511",
   "metadata": {
    "tags": []
   },
   "outputs": [
    {
     "data": {
      "text/html": [
       "<div>\n",
       "<style scoped>\n",
       "    .dataframe tbody tr th:only-of-type {\n",
       "        vertical-align: middle;\n",
       "    }\n",
       "\n",
       "    .dataframe tbody tr th {\n",
       "        vertical-align: top;\n",
       "    }\n",
       "\n",
       "    .dataframe thead th {\n",
       "        text-align: right;\n",
       "    }\n",
       "</style>\n",
       "<table border=\"1\" class=\"dataframe\">\n",
       "  <thead>\n",
       "    <tr style=\"text-align: right;\">\n",
       "      <th></th>\n",
       "      <th>date-time</th>\n",
       "      <th>value</th>\n",
       "    </tr>\n",
       "  </thead>\n",
       "  <tbody>\n",
       "    <tr>\n",
       "      <th>0</th>\n",
       "      <td>2024-08-18 00:00:00-04:00</td>\n",
       "      <td>1</td>\n",
       "    </tr>\n",
       "    <tr>\n",
       "      <th>1</th>\n",
       "      <td>2024-08-18 01:00:00-04:00</td>\n",
       "      <td>1</td>\n",
       "    </tr>\n",
       "    <tr>\n",
       "      <th>2</th>\n",
       "      <td>2024-08-18 02:00:00-04:00</td>\n",
       "      <td>1</td>\n",
       "    </tr>\n",
       "    <tr>\n",
       "      <th>3</th>\n",
       "      <td>2024-08-18 03:00:00-04:00</td>\n",
       "      <td>1</td>\n",
       "    </tr>\n",
       "    <tr>\n",
       "      <th>4</th>\n",
       "      <td>2024-08-18 04:00:00-04:00</td>\n",
       "      <td>1</td>\n",
       "    </tr>\n",
       "    <tr>\n",
       "      <th>5</th>\n",
       "      <td>2024-08-18 05:00:00-04:00</td>\n",
       "      <td>1</td>\n",
       "    </tr>\n",
       "    <tr>\n",
       "      <th>6</th>\n",
       "      <td>2024-08-18 06:00:00-04:00</td>\n",
       "      <td>1</td>\n",
       "    </tr>\n",
       "    <tr>\n",
       "      <th>7</th>\n",
       "      <td>2024-08-18 07:00:00-04:00</td>\n",
       "      <td>1</td>\n",
       "    </tr>\n",
       "    <tr>\n",
       "      <th>8</th>\n",
       "      <td>2024-08-18 08:00:00-04:00</td>\n",
       "      <td>1</td>\n",
       "    </tr>\n",
       "    <tr>\n",
       "      <th>9</th>\n",
       "      <td>2024-08-18 09:00:00-04:00</td>\n",
       "      <td>1</td>\n",
       "    </tr>\n",
       "    <tr>\n",
       "      <th>10</th>\n",
       "      <td>2024-08-18 10:00:00-04:00</td>\n",
       "      <td>1</td>\n",
       "    </tr>\n",
       "    <tr>\n",
       "      <th>11</th>\n",
       "      <td>2024-08-18 11:00:00-04:00</td>\n",
       "      <td>1</td>\n",
       "    </tr>\n",
       "    <tr>\n",
       "      <th>12</th>\n",
       "      <td>2024-08-18 12:00:00-04:00</td>\n",
       "      <td>1</td>\n",
       "    </tr>\n",
       "    <tr>\n",
       "      <th>13</th>\n",
       "      <td>2024-08-18 13:00:00-04:00</td>\n",
       "      <td>1</td>\n",
       "    </tr>\n",
       "    <tr>\n",
       "      <th>14</th>\n",
       "      <td>2024-08-18 14:00:00-04:00</td>\n",
       "      <td>1</td>\n",
       "    </tr>\n",
       "    <tr>\n",
       "      <th>15</th>\n",
       "      <td>2024-08-18 15:00:00-04:00</td>\n",
       "      <td>1</td>\n",
       "    </tr>\n",
       "    <tr>\n",
       "      <th>16</th>\n",
       "      <td>2024-08-18 16:00:00-04:00</td>\n",
       "      <td>1</td>\n",
       "    </tr>\n",
       "    <tr>\n",
       "      <th>17</th>\n",
       "      <td>2024-08-18 17:00:00-04:00</td>\n",
       "      <td>1</td>\n",
       "    </tr>\n",
       "    <tr>\n",
       "      <th>18</th>\n",
       "      <td>2024-08-18 18:00:00-04:00</td>\n",
       "      <td>1</td>\n",
       "    </tr>\n",
       "    <tr>\n",
       "      <th>19</th>\n",
       "      <td>2024-08-18 19:00:00-04:00</td>\n",
       "      <td>1</td>\n",
       "    </tr>\n",
       "    <tr>\n",
       "      <th>20</th>\n",
       "      <td>2024-08-18 20:00:00-04:00</td>\n",
       "      <td>1</td>\n",
       "    </tr>\n",
       "    <tr>\n",
       "      <th>21</th>\n",
       "      <td>2024-08-18 21:00:00-04:00</td>\n",
       "      <td>1</td>\n",
       "    </tr>\n",
       "    <tr>\n",
       "      <th>22</th>\n",
       "      <td>2024-08-18 22:00:00-04:00</td>\n",
       "      <td>1</td>\n",
       "    </tr>\n",
       "    <tr>\n",
       "      <th>23</th>\n",
       "      <td>2024-08-18 23:00:00-04:00</td>\n",
       "      <td>1</td>\n",
       "    </tr>\n",
       "    <tr>\n",
       "      <th>24</th>\n",
       "      <td>2024-08-19 00:00:00-04:00</td>\n",
       "      <td>1</td>\n",
       "    </tr>\n",
       "  </tbody>\n",
       "</table>\n",
       "</div>"
      ],
      "text/plain": [
       "                   date-time  value\n",
       "0  2024-08-18 00:00:00-04:00      1\n",
       "1  2024-08-18 01:00:00-04:00      1\n",
       "2  2024-08-18 02:00:00-04:00      1\n",
       "3  2024-08-18 03:00:00-04:00      1\n",
       "4  2024-08-18 04:00:00-04:00      1\n",
       "5  2024-08-18 05:00:00-04:00      1\n",
       "6  2024-08-18 06:00:00-04:00      1\n",
       "7  2024-08-18 07:00:00-04:00      1\n",
       "8  2024-08-18 08:00:00-04:00      1\n",
       "9  2024-08-18 09:00:00-04:00      1\n",
       "10 2024-08-18 10:00:00-04:00      1\n",
       "11 2024-08-18 11:00:00-04:00      1\n",
       "12 2024-08-18 12:00:00-04:00      1\n",
       "13 2024-08-18 13:00:00-04:00      1\n",
       "14 2024-08-18 14:00:00-04:00      1\n",
       "15 2024-08-18 15:00:00-04:00      1\n",
       "16 2024-08-18 16:00:00-04:00      1\n",
       "17 2024-08-18 17:00:00-04:00      1\n",
       "18 2024-08-18 18:00:00-04:00      1\n",
       "19 2024-08-18 19:00:00-04:00      1\n",
       "20 2024-08-18 20:00:00-04:00      1\n",
       "21 2024-08-18 21:00:00-04:00      1\n",
       "22 2024-08-18 22:00:00-04:00      1\n",
       "23 2024-08-18 23:00:00-04:00      1\n",
       "24 2024-08-19 00:00:00-04:00      1"
      ]
     },
     "execution_count": 26,
     "metadata": {},
     "output_type": "execute_result"
    }
   ],
   "source": [
    "data"
   ]
  },
  {
   "cell_type": "markdown",
   "id": "39ebed24-d841-4d5a-81d2-cabba4a6271c",
   "metadata": {
    "tags": []
   },
   "source": [
    "### Convert the dataframe to json to store in database"
   ]
  },
  {
   "cell_type": "code",
   "execution_count": 27,
   "id": "e5a7bb70-c1c9-4657-858d-1ea76fd92146",
   "metadata": {
    "tags": []
   },
   "outputs": [],
   "source": [
    "ts_json = cwms.timeseries_df_to_json(data = data, ts_id = ts_id_1, office_id = office_id, units = 'ft')"
   ]
  },
  {
   "cell_type": "code",
   "execution_count": 28,
   "id": "51d70b5b-25e2-4b7c-bddf-9f63d8245b3d",
   "metadata": {
    "tags": []
   },
   "outputs": [
    {
     "data": {
      "text/plain": [
       "{'name': 'TestLoc.Stage.Inst.1Hour.0.Testing',\n",
       " 'office-id': 'MVP',\n",
       " 'units': 'ft',\n",
       " 'values': [['2024-08-18T00:00:00-04:00', 1, 0],\n",
       "  ['2024-08-18T01:00:00-04:00', 1, 0],\n",
       "  ['2024-08-18T02:00:00-04:00', 1, 0],\n",
       "  ['2024-08-18T03:00:00-04:00', 1, 0],\n",
       "  ['2024-08-18T04:00:00-04:00', 1, 0],\n",
       "  ['2024-08-18T05:00:00-04:00', 1, 0],\n",
       "  ['2024-08-18T06:00:00-04:00', 1, 0],\n",
       "  ['2024-08-18T07:00:00-04:00', 1, 0],\n",
       "  ['2024-08-18T08:00:00-04:00', 1, 0],\n",
       "  ['2024-08-18T09:00:00-04:00', 1, 0],\n",
       "  ['2024-08-18T10:00:00-04:00', 1, 0],\n",
       "  ['2024-08-18T11:00:00-04:00', 1, 0],\n",
       "  ['2024-08-18T12:00:00-04:00', 1, 0],\n",
       "  ['2024-08-18T13:00:00-04:00', 1, 0],\n",
       "  ['2024-08-18T14:00:00-04:00', 1, 0],\n",
       "  ['2024-08-18T15:00:00-04:00', 1, 0],\n",
       "  ['2024-08-18T16:00:00-04:00', 1, 0],\n",
       "  ['2024-08-18T17:00:00-04:00', 1, 0],\n",
       "  ['2024-08-18T18:00:00-04:00', 1, 0],\n",
       "  ['2024-08-18T19:00:00-04:00', 1, 0],\n",
       "  ['2024-08-18T20:00:00-04:00', 1, 0],\n",
       "  ['2024-08-18T21:00:00-04:00', 1, 0],\n",
       "  ['2024-08-18T22:00:00-04:00', 1, 0],\n",
       "  ['2024-08-18T23:00:00-04:00', 1, 0],\n",
       "  ['2024-08-19T00:00:00-04:00', 1, 0]],\n",
       " 'version-date': None}"
      ]
     },
     "execution_count": 28,
     "metadata": {},
     "output_type": "execute_result"
    }
   ],
   "source": [
    "ts_json"
   ]
  },
  {
   "cell_type": "code",
   "execution_count": 29,
   "id": "66392d95-9871-4330-95f5-c4ec1c9058dd",
   "metadata": {
    "tags": []
   },
   "outputs": [],
   "source": [
    "cwms.store_timeseries(data = ts_json)"
   ]
  },
  {
   "cell_type": "markdown",
   "id": "a07f4ef9-c4f0-472b-b402-f6fc91fec2a8",
   "metadata": {
    "tags": []
   },
   "source": [
    "### If a timeseries does not exist one will automatically be created with the store_timeseries function.  You can also create a timeseries without data using the following"
   ]
  },
  {
   "cell_type": "code",
   "execution_count": 30,
   "id": "72e7c93d-6b39-4477-8cae-f55756455b8c",
   "metadata": {
    "tags": []
   },
   "outputs": [],
   "source": [
    "tsid_json={\n",
    "            \"office-id\": office_id,\n",
    "            \"time-series-id\": ts_id_2,\n",
    "            \"timezone-name\": \"US/Central\",\n",
    "            \"interval-offset-minutes\": 0,\n",
    "            \"active\": True\n",
    "        }\n",
    "\n",
    "\n",
    "cwms.store_timeseries_identifier(data=tsid_json,fail_if_exists=True)"
   ]
  },
  {
   "cell_type": "code",
   "execution_count": 31,
   "id": "03cf8d05-edc1-4ac4-a5f9-406f5f661a36",
   "metadata": {
    "tags": []
   },
   "outputs": [],
   "source": [
    "ts_ids = cwms.get_timeseries_identifiers(office_id=office_id,timeseries_id_regex=f\"{Loc_name}.Stage.*\")"
   ]
  },
  {
   "cell_type": "code",
   "execution_count": 32,
   "id": "6eaae68e-2501-484e-8072-7a0f58c78f1b",
   "metadata": {
    "tags": []
   },
   "outputs": [
    {
     "data": {
      "text/html": [
       "<div>\n",
       "<style scoped>\n",
       "    .dataframe tbody tr th:only-of-type {\n",
       "        vertical-align: middle;\n",
       "    }\n",
       "\n",
       "    .dataframe tbody tr th {\n",
       "        vertical-align: top;\n",
       "    }\n",
       "\n",
       "    .dataframe thead th {\n",
       "        text-align: right;\n",
       "    }\n",
       "</style>\n",
       "<table border=\"1\" class=\"dataframe\">\n",
       "  <thead>\n",
       "    <tr style=\"text-align: right;\">\n",
       "      <th></th>\n",
       "      <th>office-id</th>\n",
       "      <th>time-series-id</th>\n",
       "      <th>timezone-name</th>\n",
       "      <th>interval-offset-minutes</th>\n",
       "      <th>active</th>\n",
       "    </tr>\n",
       "  </thead>\n",
       "  <tbody>\n",
       "    <tr>\n",
       "      <th>0</th>\n",
       "      <td>MVP</td>\n",
       "      <td>TestLoc.Stage.Inst.1Hour.0.Testing</td>\n",
       "      <td>US/Central</td>\n",
       "      <td>0</td>\n",
       "      <td>True</td>\n",
       "    </tr>\n",
       "    <tr>\n",
       "      <th>1</th>\n",
       "      <td>MVP</td>\n",
       "      <td>TestLoc.Stage.Inst.1Hour.0.Testing2</td>\n",
       "      <td>US/Central</td>\n",
       "      <td>0</td>\n",
       "      <td>True</td>\n",
       "    </tr>\n",
       "  </tbody>\n",
       "</table>\n",
       "</div>"
      ],
      "text/plain": [
       "  office-id                       time-series-id timezone-name  \\\n",
       "0       MVP   TestLoc.Stage.Inst.1Hour.0.Testing    US/Central   \n",
       "1       MVP  TestLoc.Stage.Inst.1Hour.0.Testing2    US/Central   \n",
       "\n",
       "   interval-offset-minutes  active  \n",
       "0                        0    True  \n",
       "1                        0    True  "
      ]
     },
     "execution_count": 32,
     "metadata": {},
     "output_type": "execute_result"
    }
   ],
   "source": [
    "ts_ids.df"
   ]
  },
  {
   "cell_type": "markdown",
   "id": "f1f8fbd9-3eda-42de-9bd4-353cc073789e",
   "metadata": {},
   "source": [
    "### Grab stored data from database.  Data from database using CDA will always be in UTC."
   ]
  },
  {
   "cell_type": "code",
   "execution_count": 33,
   "id": "9b3a9a05-067b-49a7-86f4-da1492388e8e",
   "metadata": {
    "tags": []
   },
   "outputs": [],
   "source": [
    "begin = pd.to_datetime('2024-08-17')  #can add timezone to datetime otherwise UTC is default from timezone range\n",
    "end = pd.to_datetime('2024-08-20')\n",
    "\n",
    "test_ts = cwms.get_timeseries(ts_id=ts_id_1,office_id=office_id,begin=begin, end=end)"
   ]
  },
  {
   "cell_type": "code",
   "execution_count": 34,
   "id": "826c33d3-9feb-4792-8364-7b2925dd102c",
   "metadata": {
    "tags": []
   },
   "outputs": [
    {
     "data": {
      "text/html": [
       "<div>\n",
       "<style scoped>\n",
       "    .dataframe tbody tr th:only-of-type {\n",
       "        vertical-align: middle;\n",
       "    }\n",
       "\n",
       "    .dataframe tbody tr th {\n",
       "        vertical-align: top;\n",
       "    }\n",
       "\n",
       "    .dataframe thead th {\n",
       "        text-align: right;\n",
       "    }\n",
       "</style>\n",
       "<table border=\"1\" class=\"dataframe\">\n",
       "  <thead>\n",
       "    <tr style=\"text-align: right;\">\n",
       "      <th></th>\n",
       "      <th>date-time</th>\n",
       "      <th>value</th>\n",
       "      <th>quality-code</th>\n",
       "    </tr>\n",
       "  </thead>\n",
       "  <tbody>\n",
       "    <tr>\n",
       "      <th>28</th>\n",
       "      <td>2024-08-18 04:00:00+00:00</td>\n",
       "      <td>1.0</td>\n",
       "      <td>0</td>\n",
       "    </tr>\n",
       "    <tr>\n",
       "      <th>29</th>\n",
       "      <td>2024-08-18 05:00:00+00:00</td>\n",
       "      <td>1.0</td>\n",
       "      <td>0</td>\n",
       "    </tr>\n",
       "    <tr>\n",
       "      <th>30</th>\n",
       "      <td>2024-08-18 06:00:00+00:00</td>\n",
       "      <td>1.0</td>\n",
       "      <td>0</td>\n",
       "    </tr>\n",
       "    <tr>\n",
       "      <th>31</th>\n",
       "      <td>2024-08-18 07:00:00+00:00</td>\n",
       "      <td>1.0</td>\n",
       "      <td>0</td>\n",
       "    </tr>\n",
       "    <tr>\n",
       "      <th>32</th>\n",
       "      <td>2024-08-18 08:00:00+00:00</td>\n",
       "      <td>1.0</td>\n",
       "      <td>0</td>\n",
       "    </tr>\n",
       "    <tr>\n",
       "      <th>33</th>\n",
       "      <td>2024-08-18 09:00:00+00:00</td>\n",
       "      <td>1.0</td>\n",
       "      <td>0</td>\n",
       "    </tr>\n",
       "    <tr>\n",
       "      <th>34</th>\n",
       "      <td>2024-08-18 10:00:00+00:00</td>\n",
       "      <td>1.0</td>\n",
       "      <td>0</td>\n",
       "    </tr>\n",
       "    <tr>\n",
       "      <th>35</th>\n",
       "      <td>2024-08-18 11:00:00+00:00</td>\n",
       "      <td>1.0</td>\n",
       "      <td>0</td>\n",
       "    </tr>\n",
       "    <tr>\n",
       "      <th>36</th>\n",
       "      <td>2024-08-18 12:00:00+00:00</td>\n",
       "      <td>1.0</td>\n",
       "      <td>0</td>\n",
       "    </tr>\n",
       "    <tr>\n",
       "      <th>37</th>\n",
       "      <td>2024-08-18 13:00:00+00:00</td>\n",
       "      <td>1.0</td>\n",
       "      <td>0</td>\n",
       "    </tr>\n",
       "    <tr>\n",
       "      <th>38</th>\n",
       "      <td>2024-08-18 14:00:00+00:00</td>\n",
       "      <td>1.0</td>\n",
       "      <td>0</td>\n",
       "    </tr>\n",
       "    <tr>\n",
       "      <th>39</th>\n",
       "      <td>2024-08-18 15:00:00+00:00</td>\n",
       "      <td>1.0</td>\n",
       "      <td>0</td>\n",
       "    </tr>\n",
       "    <tr>\n",
       "      <th>40</th>\n",
       "      <td>2024-08-18 16:00:00+00:00</td>\n",
       "      <td>1.0</td>\n",
       "      <td>0</td>\n",
       "    </tr>\n",
       "    <tr>\n",
       "      <th>41</th>\n",
       "      <td>2024-08-18 17:00:00+00:00</td>\n",
       "      <td>1.0</td>\n",
       "      <td>0</td>\n",
       "    </tr>\n",
       "    <tr>\n",
       "      <th>42</th>\n",
       "      <td>2024-08-18 18:00:00+00:00</td>\n",
       "      <td>1.0</td>\n",
       "      <td>0</td>\n",
       "    </tr>\n",
       "    <tr>\n",
       "      <th>43</th>\n",
       "      <td>2024-08-18 19:00:00+00:00</td>\n",
       "      <td>1.0</td>\n",
       "      <td>0</td>\n",
       "    </tr>\n",
       "    <tr>\n",
       "      <th>44</th>\n",
       "      <td>2024-08-18 20:00:00+00:00</td>\n",
       "      <td>1.0</td>\n",
       "      <td>0</td>\n",
       "    </tr>\n",
       "    <tr>\n",
       "      <th>45</th>\n",
       "      <td>2024-08-18 21:00:00+00:00</td>\n",
       "      <td>1.0</td>\n",
       "      <td>0</td>\n",
       "    </tr>\n",
       "    <tr>\n",
       "      <th>46</th>\n",
       "      <td>2024-08-18 22:00:00+00:00</td>\n",
       "      <td>1.0</td>\n",
       "      <td>0</td>\n",
       "    </tr>\n",
       "    <tr>\n",
       "      <th>47</th>\n",
       "      <td>2024-08-18 23:00:00+00:00</td>\n",
       "      <td>1.0</td>\n",
       "      <td>0</td>\n",
       "    </tr>\n",
       "    <tr>\n",
       "      <th>48</th>\n",
       "      <td>2024-08-19 00:00:00+00:00</td>\n",
       "      <td>1.0</td>\n",
       "      <td>0</td>\n",
       "    </tr>\n",
       "    <tr>\n",
       "      <th>49</th>\n",
       "      <td>2024-08-19 01:00:00+00:00</td>\n",
       "      <td>1.0</td>\n",
       "      <td>0</td>\n",
       "    </tr>\n",
       "    <tr>\n",
       "      <th>50</th>\n",
       "      <td>2024-08-19 02:00:00+00:00</td>\n",
       "      <td>1.0</td>\n",
       "      <td>0</td>\n",
       "    </tr>\n",
       "    <tr>\n",
       "      <th>51</th>\n",
       "      <td>2024-08-19 03:00:00+00:00</td>\n",
       "      <td>1.0</td>\n",
       "      <td>0</td>\n",
       "    </tr>\n",
       "    <tr>\n",
       "      <th>52</th>\n",
       "      <td>2024-08-19 04:00:00+00:00</td>\n",
       "      <td>1.0</td>\n",
       "      <td>0</td>\n",
       "    </tr>\n",
       "  </tbody>\n",
       "</table>\n",
       "</div>"
      ],
      "text/plain": [
       "                   date-time  value  quality-code\n",
       "28 2024-08-18 04:00:00+00:00    1.0             0\n",
       "29 2024-08-18 05:00:00+00:00    1.0             0\n",
       "30 2024-08-18 06:00:00+00:00    1.0             0\n",
       "31 2024-08-18 07:00:00+00:00    1.0             0\n",
       "32 2024-08-18 08:00:00+00:00    1.0             0\n",
       "33 2024-08-18 09:00:00+00:00    1.0             0\n",
       "34 2024-08-18 10:00:00+00:00    1.0             0\n",
       "35 2024-08-18 11:00:00+00:00    1.0             0\n",
       "36 2024-08-18 12:00:00+00:00    1.0             0\n",
       "37 2024-08-18 13:00:00+00:00    1.0             0\n",
       "38 2024-08-18 14:00:00+00:00    1.0             0\n",
       "39 2024-08-18 15:00:00+00:00    1.0             0\n",
       "40 2024-08-18 16:00:00+00:00    1.0             0\n",
       "41 2024-08-18 17:00:00+00:00    1.0             0\n",
       "42 2024-08-18 18:00:00+00:00    1.0             0\n",
       "43 2024-08-18 19:00:00+00:00    1.0             0\n",
       "44 2024-08-18 20:00:00+00:00    1.0             0\n",
       "45 2024-08-18 21:00:00+00:00    1.0             0\n",
       "46 2024-08-18 22:00:00+00:00    1.0             0\n",
       "47 2024-08-18 23:00:00+00:00    1.0             0\n",
       "48 2024-08-19 00:00:00+00:00    1.0             0\n",
       "49 2024-08-19 01:00:00+00:00    1.0             0\n",
       "50 2024-08-19 02:00:00+00:00    1.0             0\n",
       "51 2024-08-19 03:00:00+00:00    1.0             0\n",
       "52 2024-08-19 04:00:00+00:00    1.0             0"
      ]
     },
     "execution_count": 34,
     "metadata": {},
     "output_type": "execute_result"
    }
   ],
   "source": [
    "test_ts.df.dropna()"
   ]
  },
  {
   "cell_type": "markdown",
   "id": "a7375c67-2f9b-4c07-aeca-9f3dab7411a8",
   "metadata": {},
   "source": [
    "### Delete Location and Timeseries"
   ]
  },
  {
   "cell_type": "markdown",
   "id": "a41aeb0a-486a-46db-a677-1c4aea33c505",
   "metadata": {},
   "source": [
    "#### Delete values from the timeseries can be done by time window using delete_timeseries or all values using delete_timeseries_identifier with delete_method = \"DELETE_DATA\""
   ]
  },
  {
   "cell_type": "code",
   "execution_count": 35,
   "id": "23343017-2264-4f51-b300-9136e2d261d6",
   "metadata": {
    "tags": []
   },
   "outputs": [],
   "source": [
    "cwms.delete_timeseries(ts_id=ts_id_1,office_id=office_id,begin=begin, end=end)\n",
    "#cwms.delete_timeseries_identifier(ts_id=ts_id_1,office_id=office_id, delete_method=\"DELETE_DATA\")"
   ]
  },
  {
   "cell_type": "code",
   "execution_count": 36,
   "id": "f5985de9-e544-4d10-b34a-339285824a21",
   "metadata": {
    "tags": []
   },
   "outputs": [],
   "source": [
    "test_ts = cwms.get_timeseries(ts_id=ts_id_1,office_id=office_id,begin=begin, end=end)"
   ]
  },
  {
   "cell_type": "code",
   "execution_count": 37,
   "id": "66641f05-7600-42fe-8539-2fdf7c6ea9df",
   "metadata": {
    "tags": []
   },
   "outputs": [
    {
     "data": {
      "text/html": [
       "<div>\n",
       "<style scoped>\n",
       "    .dataframe tbody tr th:only-of-type {\n",
       "        vertical-align: middle;\n",
       "    }\n",
       "\n",
       "    .dataframe tbody tr th {\n",
       "        vertical-align: top;\n",
       "    }\n",
       "\n",
       "    .dataframe thead th {\n",
       "        text-align: right;\n",
       "    }\n",
       "</style>\n",
       "<table border=\"1\" class=\"dataframe\">\n",
       "  <thead>\n",
       "    <tr style=\"text-align: right;\">\n",
       "      <th></th>\n",
       "      <th>date-time</th>\n",
       "      <th>value</th>\n",
       "      <th>quality-code</th>\n",
       "    </tr>\n",
       "  </thead>\n",
       "  <tbody>\n",
       "  </tbody>\n",
       "</table>\n",
       "</div>"
      ],
      "text/plain": [
       "Empty DataFrame\n",
       "Columns: [date-time, value, quality-code]\n",
       "Index: []"
      ]
     },
     "execution_count": 37,
     "metadata": {},
     "output_type": "execute_result"
    }
   ],
   "source": [
    "test_ts.df.dropna()"
   ]
  },
  {
   "cell_type": "markdown",
   "id": "b9a8e917-531f-4d0e-8773-5d1cbb14a4b4",
   "metadata": {
    "tags": []
   },
   "source": [
    "#### Delete the timeseries"
   ]
  },
  {
   "cell_type": "code",
   "execution_count": 38,
   "id": "6594cbe1-3ee9-4395-9c57-9be025895be9",
   "metadata": {
    "tags": []
   },
   "outputs": [],
   "source": [
    "cwms.delete_timeseries_identifier(ts_id=ts_id_1,office_id=office_id, delete_method=\"DELETE_ALL\")"
   ]
  },
  {
   "cell_type": "code",
   "execution_count": 39,
   "id": "0004feba-055a-4f1c-ae01-144991e14ab3",
   "metadata": {
    "tags": []
   },
   "outputs": [
    {
     "data": {
      "text/html": [
       "<div>\n",
       "<style scoped>\n",
       "    .dataframe tbody tr th:only-of-type {\n",
       "        vertical-align: middle;\n",
       "    }\n",
       "\n",
       "    .dataframe tbody tr th {\n",
       "        vertical-align: top;\n",
       "    }\n",
       "\n",
       "    .dataframe thead th {\n",
       "        text-align: right;\n",
       "    }\n",
       "</style>\n",
       "<table border=\"1\" class=\"dataframe\">\n",
       "  <thead>\n",
       "    <tr style=\"text-align: right;\">\n",
       "      <th></th>\n",
       "      <th>office-id</th>\n",
       "      <th>time-series-id</th>\n",
       "      <th>timezone-name</th>\n",
       "      <th>interval-offset-minutes</th>\n",
       "      <th>active</th>\n",
       "    </tr>\n",
       "  </thead>\n",
       "  <tbody>\n",
       "    <tr>\n",
       "      <th>0</th>\n",
       "      <td>MVP</td>\n",
       "      <td>TestLoc.Stage.Inst.1Hour.0.Testing2</td>\n",
       "      <td>US/Central</td>\n",
       "      <td>0</td>\n",
       "      <td>True</td>\n",
       "    </tr>\n",
       "  </tbody>\n",
       "</table>\n",
       "</div>"
      ],
      "text/plain": [
       "  office-id                       time-series-id timezone-name  \\\n",
       "0       MVP  TestLoc.Stage.Inst.1Hour.0.Testing2    US/Central   \n",
       "\n",
       "   interval-offset-minutes  active  \n",
       "0                        0    True  "
      ]
     },
     "execution_count": 39,
     "metadata": {},
     "output_type": "execute_result"
    }
   ],
   "source": [
    "cwms.get_timeseries_identifiers(office_id=office_id,timeseries_id_regex=f\"{Loc_name}.Stage.*\").df"
   ]
  },
  {
   "cell_type": "code",
   "execution_count": 40,
   "id": "a7862b90-4376-4b37-bd91-42005efedab1",
   "metadata": {
    "tags": []
   },
   "outputs": [],
   "source": [
    "cwms.delete_timeseries_identifier(ts_id=ts_id_2,office_id=office_id, delete_method=\"DELETE_ALL\")"
   ]
  },
  {
   "cell_type": "code",
   "execution_count": 41,
   "id": "302c87e0-93dd-40a8-a2ad-b5a081e173f7",
   "metadata": {
    "tags": []
   },
   "outputs": [],
   "source": [
    "cwms.delete_location(location_id=Loc_name,office_id=office_id)"
   ]
  },
  {
   "cell_type": "code",
   "execution_count": null,
   "id": "7344bc7d-b62f-427c-90ed-3c062108ea92",
   "metadata": {},
   "outputs": [],
   "source": []
  }
 ],
 "metadata": {
  "kernelspec": {
   "display_name": "Python 3 (ipykernel)",
   "language": "python",
   "name": "python3"
  },
  "language_info": {
   "codemirror_mode": {
    "name": "ipython",
    "version": 3
   },
   "file_extension": ".py",
   "mimetype": "text/x-python",
   "name": "python",
   "nbconvert_exporter": "python",
   "pygments_lexer": "ipython3",
   "version": "3.11.4"
  }
 },
 "nbformat": 4,
 "nbformat_minor": 5
}
