{
 "cells": [
  {
   "cell_type": "markdown",
   "id": "3a5340c0",
   "metadata": {},
   "source": [
    "# Projects Examples\n"
   ]
  },
  {
   "cell_type": "markdown",
   "id": "9812bbbc",
   "metadata": {},
   "source": [
    "**Example generated from:** [/tests/projects/project_locks_test.py](https://github.com/HydrologicEngineeringCenter/cwms-python/tree/main/tests/projects/project_locks_test.py)"
   ]
  },
  {
   "cell_type": "code",
   "execution_count": null,
   "id": "afa5df7a",
   "metadata": {},
   "outputs": [],
   "source": [
    "from cwms.api import init_session\n",
    "import cwms.projects.project_locks as project_locks"
   ]
  },
  {
   "cell_type": "markdown",
   "id": "3509c718",
   "metadata": {},
   "source": [
    "### Initializing the database and write access\n",
    "cwms-python will connect by default to the USACE public database available through [CWMS Data](https://cwms-data.usace.army.mil/cwms-data/). \n",
    "\n",
    "https://cwms-data.usace.army.mil/cwms-data/\n",
    "\n",
    "The apiRoot can be updated to access data directly from a USACE district database.\n",
    "* Endpoints on the [Swagger Docs page](https://cwms-data.usace.army.mil/cwms-data/swagger-ui.html) with a 🔒 icon require the apiKey be set."
   ]
  },
  {
   "cell_type": "code",
   "execution_count": null,
   "id": "9b6506b4",
   "metadata": {},
   "outputs": [],
   "source": [
    "api_root = \"https://cwms-data-test.cwbi.us/cwms-data/\"\n",
    "api = init_session(api_root=api_root)"
   ]
  },
  {
   "cell_type": "markdown",
   "id": "7cc354c5",
   "metadata": {},
   "source": [
    "# GET Requests"
   ]
  },
  {
   "cell_type": "markdown",
   "id": "dde8f184",
   "metadata": {},
   "source": [
    "## get project lock"
   ]
  },
  {
   "cell_type": "code",
   "execution_count": null,
   "id": "bd283387",
   "metadata": {},
   "outputs": [],
   "source": [
    "data = project_locks.get_project_lock(\"SPK\", \"BIGH\", \"GitHub\")\n"
   ]
  },
  {
   "cell_type": "code",
   "execution_count": null,
   "id": "1555e13b",
   "metadata": {},
   "outputs": [],
   "source": [
    "data.json"
   ]
  },
  {
   "cell_type": "markdown",
   "id": "4dbad165",
   "metadata": {},
   "source": [
    "## get project locks"
   ]
  },
  {
   "cell_type": "code",
   "execution_count": null,
   "id": "0247e644",
   "metadata": {},
   "outputs": [],
   "source": [
    "data = project_locks.get_project_locks(\"SPK\", \"P*\", \"G*\")\n"
   ]
  },
  {
   "cell_type": "code",
   "execution_count": null,
   "id": "91aa381e",
   "metadata": {},
   "outputs": [],
   "source": [
    "data.json"
   ]
  },
  {
   "cell_type": "markdown",
   "id": "26ff9eaa",
   "metadata": {},
   "source": [
    "# Other API Calls"
   ]
  },
  {
   "cell_type": "markdown",
   "id": "9a4d3d97",
   "metadata": {},
   "source": [
    "## revoke project lock"
   ]
  },
  {
   "cell_type": "code",
   "execution_count": null,
   "id": "31bef173",
   "metadata": {},
   "outputs": [],
   "source": [
    "project_locks.revoke_project_lock(\"SPK\", \"TEST\", 20)\n"
   ]
  },
  {
   "cell_type": "markdown",
   "id": "53d29415",
   "metadata": {},
   "source": [
    "## request project lock"
   ]
  },
  {
   "cell_type": "code",
   "execution_count": null,
   "id": "4a5431fc",
   "metadata": {},
   "outputs": [],
   "source": [
    "project_locks.request_project_lock(_PROJECT_LOCK_JSON, True, 20)\n"
   ]
  },
  {
   "cell_type": "markdown",
   "id": "6b50ea1a",
   "metadata": {},
   "source": [
    "## deny project lock request"
   ]
  },
  {
   "cell_type": "code",
   "execution_count": null,
   "id": "abf7dd19",
   "metadata": {},
   "outputs": [],
   "source": [
    "project_locks.deny_project_lock_request(\"LOCKID123\")\n"
   ]
  },
  {
   "cell_type": "markdown",
   "id": "3786af64",
   "metadata": {},
   "source": [
    "## release project lock"
   ]
  },
  {
   "cell_type": "code",
   "execution_count": null,
   "id": "2807a43b",
   "metadata": {},
   "outputs": [],
   "source": [
    "project_locks.release_project_lock(\"SPK\", \"LOCKID123\")\n"
   ]
  }
 ],
 "metadata": {},
 "nbformat": 4,
 "nbformat_minor": 5
}
