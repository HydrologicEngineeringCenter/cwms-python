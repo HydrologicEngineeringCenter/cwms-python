{
 "cells": [
  {
   "cell_type": "markdown",
   "id": "f5a2ee9e",
   "metadata": {},
   "source": [
    "# Projects Examples\n"
   ]
  },
  {
   "cell_type": "markdown",
   "id": "f24c0cce",
   "metadata": {},
   "source": [
    "**Example generated from:** [/tests/projects/project_lock_rights_test.py](https://github.com/HydrologicEngineeringCenter/cwms-python/tree/main/tests/projects/project_lock_rights_test.py)"
   ]
  },
  {
   "cell_type": "code",
   "execution_count": null,
   "id": "7815f520",
   "metadata": {},
   "outputs": [],
   "source": [
    "from cwms.api import init_session\n",
    "import cwms.projects.project_lock_rights as project_lock_rights"
   ]
  },
  {
   "cell_type": "markdown",
   "id": "320be32c",
   "metadata": {},
   "source": [
    "### Initializing the database and write access\n",
    "cwms-python will connect by default to the USACE public database available through [CWMS Data](https://cwms-data.usace.army.mil/cwms-data/). \n",
    "\n",
    "https://cwms-data.usace.army.mil/cwms-data/\n",
    "\n",
    "The apiRoot can be updated to access data directly from a USACE district database.\n",
    "* Endpoints on the [Swagger Docs page](https://cwms-data.usace.army.mil/cwms-data/swagger-ui.html) with a 🔒 icon require the apiKey be set."
   ]
  },
  {
   "cell_type": "code",
   "execution_count": null,
   "id": "4a816164",
   "metadata": {},
   "outputs": [],
   "source": [
    "api_root = \"https://cwms-data-test.cwbi.us/cwms-data/\"\n",
    "api = init_session(api_root=api_root)"
   ]
  },
  {
   "cell_type": "markdown",
   "id": "2a104f31",
   "metadata": {},
   "source": [
    "# GET Requests"
   ]
  },
  {
   "cell_type": "markdown",
   "id": "2d846352",
   "metadata": {},
   "source": [
    "## get project lock rights"
   ]
  },
  {
   "cell_type": "code",
   "execution_count": null,
   "id": "a97a8992",
   "metadata": {},
   "outputs": [],
   "source": [
    "data = project_lock_rights.get_project_lock_rights(\"SPK\", \"B*\", \"G*\")\n"
   ]
  },
  {
   "cell_type": "code",
   "execution_count": null,
   "id": "3636d736",
   "metadata": {},
   "outputs": [],
   "source": [
    "data.json"
   ]
  },
  {
   "cell_type": "markdown",
   "id": "2d28082c",
   "metadata": {},
   "source": [
    "# Other API Calls"
   ]
  },
  {
   "cell_type": "markdown",
   "id": "f46abcfb",
   "metadata": {},
   "source": [
    "## remove all project lock rights"
   ]
  },
  {
   "cell_type": "code",
   "execution_count": null,
   "id": "905f9c2b",
   "metadata": {},
   "outputs": [],
   "source": [
    "project_lock_rights.remove_all_project_lock_rights(\"SPK\", \"GitHub\", \"Actions\")\n"
   ]
  },
  {
   "cell_type": "markdown",
   "id": "469fb0ed",
   "metadata": {},
   "source": [
    "## update project lock rights"
   ]
  },
  {
   "cell_type": "code",
   "execution_count": null,
   "id": "335de3ad",
   "metadata": {},
   "outputs": [],
   "source": [
    "project_lock_rights.update_project_lock_rights(\"SPK\", \"GitHub\", \"Actions\", True, \"P*\")\n"
   ]
  }
 ],
 "metadata": {},
 "nbformat": 4,
 "nbformat_minor": 5
}
