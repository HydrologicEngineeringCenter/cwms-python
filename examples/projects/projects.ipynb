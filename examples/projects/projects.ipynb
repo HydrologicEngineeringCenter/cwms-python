{
 "cells": [
  {
   "cell_type": "markdown",
   "id": "0c801fd4",
   "metadata": {},
   "source": [
    "# Projects Examples\n"
   ]
  },
  {
   "cell_type": "markdown",
   "id": "120791d9",
   "metadata": {},
   "source": [
    "**Example generated from:** [/tests/projects/projects_test.py](https://github.com/HydrologicEngineeringCenter/cwms-python/tree/main/tests/projects/projects_test.py)"
   ]
  },
  {
   "cell_type": "code",
   "execution_count": null,
   "id": "c81af0d5",
   "metadata": {},
   "outputs": [],
   "source": [
    "from cwms.api import init_session\n",
    "from datetime import datetime\n",
    "import pytz\n",
    "import cwms.projects.projects as projects\n",
    "from cwms.cwms_types import DeleteMethod"
   ]
  },
  {
   "cell_type": "markdown",
   "id": "60102549",
   "metadata": {},
   "source": [
    "### Initializing the database and write access\n",
    "cwms-python will connect by default to the USACE public database available through [CWMS Data](https://cwms-data.usace.army.mil/cwms-data/). \n",
    "\n",
    "https://cwms-data.usace.army.mil/cwms-data/\n",
    "\n",
    "The apiRoot can be updated to access data directly from a USACE district database.\n",
    "* Endpoints on the [Swagger Docs page](https://cwms-data.usace.army.mil/cwms-data/swagger-ui.html) with a 🔒 icon require the apiKey be set."
   ]
  },
  {
   "cell_type": "code",
   "execution_count": null,
   "id": "3361044f",
   "metadata": {},
   "outputs": [],
   "source": [
    "api_root = \"https://cwms-data-test.cwbi.us/cwms-data/\"\n",
    "api = init_session(api_root=api_root)"
   ]
  },
  {
   "cell_type": "markdown",
   "id": "6674d9fc",
   "metadata": {},
   "source": [
    "# GET Requests"
   ]
  },
  {
   "cell_type": "markdown",
   "id": "08bea915",
   "metadata": {},
   "source": [
    "## get project"
   ]
  },
  {
   "cell_type": "code",
   "execution_count": null,
   "id": "bd8a54c8",
   "metadata": {},
   "outputs": [],
   "source": [
    "data = projects.get_project(\"SPK\", \"BIGH\")\n"
   ]
  },
  {
   "cell_type": "code",
   "execution_count": null,
   "id": "8bf8538d",
   "metadata": {},
   "outputs": [],
   "source": [
    "data.json"
   ]
  },
  {
   "cell_type": "markdown",
   "id": "a5613088",
   "metadata": {},
   "source": [
    "## get projects"
   ]
  },
  {
   "cell_type": "code",
   "execution_count": null,
   "id": "99034bd9",
   "metadata": {},
   "outputs": [],
   "source": [
    "data = projects.get_projects(\"SPK\", \"B*\", \"abc\", 50)\n"
   ]
  },
  {
   "cell_type": "code",
   "execution_count": null,
   "id": "24e7633e",
   "metadata": {},
   "outputs": [],
   "source": [
    "data.json"
   ]
  },
  {
   "cell_type": "markdown",
   "id": "2cd5c387",
   "metadata": {},
   "source": [
    "## get project locations"
   ]
  },
  {
   "cell_type": "code",
   "execution_count": null,
   "id": "f2aad3a1",
   "metadata": {},
   "outputs": [],
   "source": [
    "data = projects.get_project_locations(\"SPK\", \"p.*\", \"O.*\")\n"
   ]
  },
  {
   "cell_type": "code",
   "execution_count": null,
   "id": "d50e2b40",
   "metadata": {},
   "outputs": [],
   "source": [
    "data.json"
   ]
  },
  {
   "cell_type": "markdown",
   "id": "10025a89",
   "metadata": {},
   "source": [
    "# STORE Requests"
   ]
  },
  {
   "cell_type": "markdown",
   "id": "fd2b6e0a",
   "metadata": {},
   "source": [
    "## store project"
   ]
  },
  {
   "cell_type": "code",
   "execution_count": null,
   "id": "52b23851",
   "metadata": {},
   "outputs": [],
   "source": [
    "projects.store_project(_PROJECT_JSON, True)\n"
   ]
  },
  {
   "cell_type": "markdown",
   "id": "47cb14e6",
   "metadata": {},
   "source": [
    "# DELETE Requests"
   ]
  },
  {
   "cell_type": "markdown",
   "id": "ff2222c9",
   "metadata": {},
   "source": [
    "## delete project"
   ]
  },
  {
   "cell_type": "code",
   "execution_count": null,
   "id": "1e48d4e5",
   "metadata": {},
   "outputs": [],
   "source": [
    "projects.delete_project(\"SPK\", \"Test\", DeleteMethod.DELETE_ALL)\n"
   ]
  },
  {
   "cell_type": "markdown",
   "id": "16d1f869",
   "metadata": {},
   "source": [
    "# Other API Calls"
   ]
  },
  {
   "cell_type": "markdown",
   "id": "547182b9",
   "metadata": {},
   "source": [
    "## rename project"
   ]
  },
  {
   "cell_type": "code",
   "execution_count": null,
   "id": "fe734b33",
   "metadata": {},
   "outputs": [],
   "source": [
    "projects.rename_project(\"SPK\", \"Test\", \"Test2\")\n"
   ]
  },
  {
   "cell_type": "markdown",
   "id": "ba7386cc",
   "metadata": {},
   "source": [
    "## status update"
   ]
  },
  {
   "cell_type": "code",
   "execution_count": null,
   "id": "78c8e74a",
   "metadata": {},
   "outputs": [],
   "source": [
    "timezone = pytz.timezone(\"US/Pacific\")\n",
    "begin = timezone.localize(datetime(2024, 2, 12, 0, 0, 0))\n",
    "end = timezone.localize(datetime(2020, 2, 12, 2, 0, 0))\n",
    "projects.status_update(\n",
    "    \"SPK\", \"Test\", \"UnitTest\", \"GitHub\", \"ABC.Flow.Ave.1Day.1Day.computed\", begin, end\n",
    ")\n"
   ]
  }
 ],
 "metadata": {},
 "nbformat": 4,
 "nbformat_minor": 5
}
