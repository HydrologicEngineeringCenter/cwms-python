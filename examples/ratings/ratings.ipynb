{
 "cells": [
  {
   "cell_type": "markdown",
   "id": "ffa0a924",
   "metadata": {},
   "source": [
    "# Ratings Examples\n"
   ]
  },
  {
   "cell_type": "markdown",
   "id": "b58bc855",
   "metadata": {},
   "source": [
    "**Example generated from:** [/tests/ratings/ratings_test.py](https://github.com/HydrologicEngineeringCenter/cwms-python/tree/main/tests/ratings/ratings_test.py)"
   ]
  },
  {
   "cell_type": "code",
   "execution_count": null,
   "id": "e40e11d1",
   "metadata": {},
   "outputs": [],
   "source": [
    "from cwms.api import init_session\n",
    "import pandas as pd\n",
    "import pytz\n",
    "import cwms.api\n",
    "import cwms.ratings.ratings as ratings"
   ]
  },
  {
   "cell_type": "markdown",
   "id": "c6f74b09",
   "metadata": {},
   "source": [
    "### Initializing the database and write access\n",
    "cwms-python will connect by default to the USACE public database available through [CWMS Data](https://cwms-data.usace.army.mil/cwms-data/). \n",
    "\n",
    "https://cwms-data.usace.army.mil/cwms-data/\n",
    "\n",
    "The apiRoot can be updated to access data directly from a USACE district database.\n",
    "* Endpoints on the [Swagger Docs page](https://cwms-data.usace.army.mil/cwms-data/swagger-ui.html) with a 🔒 icon require the apiKey be set."
   ]
  },
  {
   "cell_type": "code",
   "execution_count": null,
   "id": "f7654316",
   "metadata": {},
   "outputs": [],
   "source": [
    "api_root = \"https://cwms-data-test.cwbi.us/cwms-data/\"\n",
    "api = init_session(api_root=api_root)"
   ]
  },
  {
   "cell_type": "markdown",
   "id": "a5e93048",
   "metadata": {},
   "source": [
    "# GET Requests"
   ]
  },
  {
   "cell_type": "markdown",
   "id": "6c6951b9",
   "metadata": {},
   "source": [
    "## get ratings default"
   ]
  },
  {
   "cell_type": "code",
   "execution_count": null,
   "id": "60f117ff",
   "metadata": {},
   "outputs": [],
   "source": [
    "office_id = \"MVP\"\n",
    "rating_id = \"TestRating.Stage;Flow.USGS-EXSA-TEST.USGS-NWIS-TEST\"\n",
    "specs = ratings.get_ratings(rating_id=rating_id, office_id=office_id, method=\"EAGER\")\n"
   ]
  },
  {
   "cell_type": "markdown",
   "id": "03951d51",
   "metadata": {},
   "source": [
    "# Other API Calls"
   ]
  },
  {
   "cell_type": "markdown",
   "id": "62445cf1",
   "metadata": {},
   "source": [
    "## ratings df to json default"
   ]
  },
  {
   "cell_type": "code",
   "execution_count": null,
   "id": "2ae4ab04",
   "metadata": {},
   "outputs": [],
   "source": [
    "rating_json = {\n",
    "    \"rating-template\": {\n",
    "        \"office-id\": \"MVP\",\n",
    "        \"parameters-id\": \"Stage;Flow\",\n",
    "        \"version\": \"USGS-EXSA-TEST\",\n",
    "        \"ind-parameter-specs\": {\n",
    "            \"ind-parameter-spec\": {\n",
    "                \"position\": \"1\",\n",
    "                \"parameter\": \"Stage\",\n",
    "                \"in-range-method\": \"LINEAR\",\n",
    "                \"out-range-low-method\": \"LINEAR\",\n",
    "                \"out-range-high-method\": \"LINEAR\",\n",
    "            }\n",
    "        },\n",
    "        \"dep-parameter\": \"Flow\",\n",
    "        \"description\": \"Expanded, Shift-Adjusted Stream Rating\",\n",
    "    },\n",
    "    \"rating-spec\": {\n",
    "        \"office-id\": \"MVP\",\n",
    "        \"rating-spec-id\": \"TestRating.Stage;Flow.USGS-EXSA-TEST.USGS-NWIS-TEST\",\n",
    "        \"template-id\": \"Stage;Flow.USGS-EXSA-TEST\",\n",
    "        \"location-id\": \"TestRating\",\n",
    "        \"version\": \"USGS-NWIS-TEST\",\n",
    "        \"source-agency\": \"USGS\",\n",
    "        \"in-range-method\": \"LINEAR\",\n",
    "        \"out-range-low-method\": \"NEAREST\",\n",
    "        \"out-range-high-method\": \"NEAREST\",\n",
    "        \"active\": \"true\",\n",
    "        \"auto-update\": \"true\",\n",
    "        \"auto-activate\": \"true\",\n",
    "        \"auto-migrate-extension\": \"true\",\n",
    "        \"ind-rounding-specs\": {\n",
    "            \"ind-rounding-spec\": {\"position\": \"1\", \"element-value\": \"2223456782\"}\n",
    "        },\n",
    "        \"dep-rounding-spec\": \"2222233332\",\n",
    "        \"description\": \"TESTing rating spec\",\n",
    "    },\n",
    "    \"simple-rating\": {\n",
    "        \"office-id\": \"MVP\",\n",
    "        \"rating-spec-id\": \"TestRating.Stage;Flow.USGS-EXSA-TEST.USGS-NWIS-TEST\",\n",
    "        \"units-id\": \"ft;cfs\",\n",
    "        \"effective-date\": \"2024-07-03T09:03:01.540655\",\n",
    "        \"transition-start-date\": None,\n",
    "        \"active\": True,\n",
    "        \"description\": \"Testing Rating Curves.  Test Rating\",\n",
    "        \"rating-points\": {\n",
    "            \"point\": [\n",
    "                {\"ind\": 1, \"dep\": 100},\n",
    "                {\"ind\": 2, \"dep\": 200},\n",
    "                {\"ind\": 3, \"dep\": 300},\n",
    "                {\"ind\": 4, \"dep\": 400},\n",
    "                {\"ind\": 5, \"dep\": 500},\n",
    "                {\"ind\": 6, \"dep\": 600},\n",
    "                {\"ind\": 7, \"dep\": 700},\n",
    "                {\"ind\": 8, \"dep\": 800},\n",
    "                {\"ind\": 9, \"dep\": 900},\n",
    "                {\"ind\": 10, \"dep\": 1000},\n",
    "            ]\n",
    "        },\n",
    "    },\n",
    "}\n",
    "rating_table_df = pd.DataFrame(\n",
    "    {\n",
    "        \"ind\": [1, 2, 3, 4, 5, 6, 7, 8, 9, 10],\n",
    "        \"dep\": [100, 200, 300, 400, 500, 600, 700, 800, 900, 1000],\n",
    "    }\n",
    ")\n",
    "rating_table_json = ratings.rating_simple_df_to_json(\n",
    "    data=rating_table_df,\n",
    "    rating_id=\"TestRating.Stage;Flow.USGS-EXSA-TEST.USGS-NWIS-TEST\",\n",
    "    office_id=\"MVP\",\n",
    "    units=\"ft;cfs\",\n",
    "    effective_date=pd.to_datetime(\"2024-07-03T09:03:01.540655\"),\n",
    "    transition_start_date=None,\n",
    "    description=\"Testing Rating Curves.  Test Rating\",\n",
    ")\n"
   ]
  }
 ],
 "metadata": {},
 "nbformat": 4,
 "nbformat_minor": 5
}
