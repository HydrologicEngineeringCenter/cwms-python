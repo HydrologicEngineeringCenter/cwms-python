{
 "cells": [
  {
   "cell_type": "markdown",
   "id": "edd92861",
   "metadata": {},
   "source": [
    "# Ratings Examples\n"
   ]
  },
  {
   "cell_type": "markdown",
   "id": "ba561864",
   "metadata": {},
   "source": [
    "**Example generated from:** [/tests/ratings/rating_template_test.py](https://github.com/HydrologicEngineeringCenter/cwms-python/tree/main/tests/ratings/rating_template_test.py)"
   ]
  },
  {
   "cell_type": "code",
   "execution_count": null,
   "id": "004a5e3f",
   "metadata": {},
   "outputs": [],
   "source": [
    "from cwms.api import init_session\n",
    "import pandas as pd\n",
    "import pytz\n",
    "import cwms.api\n",
    "import cwms.ratings.ratings_template as ratings_template"
   ]
  },
  {
   "cell_type": "markdown",
   "id": "df061ced",
   "metadata": {},
   "source": [
    "### Initializing the database and write access\n",
    "cwms-python will connect by default to the USACE public database available through [CWMS Data](https://cwms-data.usace.army.mil/cwms-data/). \n",
    "\n",
    "https://cwms-data.usace.army.mil/cwms-data/\n",
    "\n",
    "The apiRoot can be updated to access data directly from a USACE district database.\n",
    "* Endpoints on the [Swagger Docs page](https://cwms-data.usace.army.mil/cwms-data/swagger-ui.html) with a 🔒 icon require the apiKey be set."
   ]
  },
  {
   "cell_type": "code",
   "execution_count": null,
   "id": "63e27180",
   "metadata": {},
   "outputs": [],
   "source": [
    "api_root = \"https://cwms-data-test.cwbi.us/cwms-data/\"\n",
    "api = init_session(api_root=api_root)"
   ]
  },
  {
   "cell_type": "markdown",
   "id": "0318711c",
   "metadata": {},
   "source": [
    "# GET Requests"
   ]
  },
  {
   "cell_type": "markdown",
   "id": "6ad41a03",
   "metadata": {},
   "source": [
    "## get rating template default"
   ]
  },
  {
   "cell_type": "code",
   "execution_count": null,
   "id": "680f1259",
   "metadata": {},
   "outputs": [],
   "source": [
    "rating_temp = \"Stage;Flow.USGS-EXSA-TEST\"\n",
    "office_id = \"MVP\"\n",
    "template = ratings_template.get_rating_template(\n",
    "    template_id=rating_temp, office_id=office_id\n",
    ")\n"
   ]
  },
  {
   "cell_type": "markdown",
   "id": "949dc267",
   "metadata": {},
   "source": [
    "## get rating templates default"
   ]
  },
  {
   "cell_type": "code",
   "execution_count": null,
   "id": "acbf92c1",
   "metadata": {},
   "outputs": [],
   "source": [
    "office_id = \"MVP\"\n",
    "templates = ratings_template.get_rating_templates(office_id=office_id)\n"
   ]
  }
 ],
 "metadata": {},
 "nbformat": 4,
 "nbformat_minor": 5
}
