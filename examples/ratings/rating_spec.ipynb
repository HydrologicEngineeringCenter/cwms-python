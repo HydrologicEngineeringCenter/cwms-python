{
 "cells": [
  {
   "cell_type": "markdown",
   "id": "75fb2ed5",
   "metadata": {},
   "source": [
    "# Ratings Examples\n"
   ]
  },
  {
   "cell_type": "markdown",
   "id": "65763b7a",
   "metadata": {},
   "source": [
    "**Example generated from:** [/tests/ratings/rating_spec_test.py](https://github.com/HydrologicEngineeringCenter/cwms-python/tree/main/tests/ratings/rating_spec_test.py)"
   ]
  },
  {
   "cell_type": "code",
   "execution_count": null,
   "id": "aeba7bdc",
   "metadata": {},
   "outputs": [],
   "source": [
    "from cwms.api import init_session\n",
    "import pandas as pd\n",
    "import pytz\n",
    "import cwms.api\n",
    "import cwms.ratings.ratings_spec as ratings_spec"
   ]
  },
  {
   "cell_type": "markdown",
   "id": "12f63fb7",
   "metadata": {},
   "source": [
    "### Initializing the database and write access\n",
    "cwms-python will connect by default to the USACE public database available through [CWMS Data](https://cwms-data.usace.army.mil/cwms-data/). \n",
    "\n",
    "https://cwms-data.usace.army.mil/cwms-data/\n",
    "\n",
    "The apiRoot can be updated to access data directly from a USACE district database.\n",
    "* Endpoints on the [Swagger Docs page](https://cwms-data.usace.army.mil/cwms-data/swagger-ui.html) with a 🔒 icon require the apiKey be set."
   ]
  },
  {
   "cell_type": "code",
   "execution_count": null,
   "id": "42f3d38f",
   "metadata": {},
   "outputs": [],
   "source": [
    "api_root = \"https://cwms-data-test.cwbi.us/cwms-data/\"\n",
    "api = init_session(api_root=api_root)"
   ]
  },
  {
   "cell_type": "markdown",
   "id": "bfed21ca",
   "metadata": {},
   "source": [
    "# GET Requests"
   ]
  },
  {
   "cell_type": "markdown",
   "id": "4b35fdfd",
   "metadata": {},
   "source": [
    "## get rating spec default"
   ]
  },
  {
   "cell_type": "code",
   "execution_count": null,
   "id": "49ba9362",
   "metadata": {},
   "outputs": [],
   "source": [
    "rating_id = \"TestRating.Stage;Flow.USGS-EXSA-TEST.USGS-NWIS-TEST?office=MVP\"\n",
    "office_id = \"MVP\"\n",
    "spec = ratings_spec.get_rating_spec(rating_id=rating_id, office_id=office_id)\n"
   ]
  },
  {
   "cell_type": "markdown",
   "id": "5f74c528",
   "metadata": {},
   "source": [
    "## get rating specs default"
   ]
  },
  {
   "cell_type": "code",
   "execution_count": null,
   "id": "5b9b2be8",
   "metadata": {},
   "outputs": [],
   "source": [
    "office_id = \"MVP\"\n",
    "specs = ratings_spec.get_rating_specs(office_id=office_id)\n"
   ]
  }
 ],
 "metadata": {},
 "nbformat": 4,
 "nbformat_minor": 5
}
