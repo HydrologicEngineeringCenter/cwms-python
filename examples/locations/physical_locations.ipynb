{
 "cells": [
  {
   "cell_type": "markdown",
   "id": "207ca34b",
   "metadata": {},
   "source": [
    "# Locations Examples\n"
   ]
  },
  {
   "cell_type": "markdown",
   "id": "7a930066",
   "metadata": {},
   "source": [
    "**Example generated from:** [/tests/locations/physical_locations_test.py](https://github.com/HydrologicEngineeringCenter/cwms-python/tree/main/tests/locations/physical_locations_test.py)"
   ]
  },
  {
   "cell_type": "code",
   "execution_count": null,
   "id": "dbf27870",
   "metadata": {},
   "outputs": [],
   "source": [
    "from cwms.api import init_session\n",
    "import pandas as pd\n",
    "import cwms.api\n",
    "import cwms.locations.physical_locations as locations"
   ]
  },
  {
   "cell_type": "markdown",
   "id": "051b3605",
   "metadata": {},
   "source": [
    "### Initializing the database and write access\n",
    "cwms-python will connect by default to the USACE public database available through [CWMS Data](https://cwms-data.usace.army.mil/cwms-data/). \n",
    "\n",
    "https://cwms-data.usace.army.mil/cwms-data/\n",
    "\n",
    "The apiRoot can be updated to access data directly from a USACE district database.\n",
    "* Endpoints on the [Swagger Docs page](https://cwms-data.usace.army.mil/cwms-data/swagger-ui.html) with a 🔒 icon require the apiKey be set."
   ]
  },
  {
   "cell_type": "code",
   "execution_count": null,
   "id": "9c6ade83",
   "metadata": {},
   "outputs": [],
   "source": [
    "api_root = \"https://cwms-data-test.cwbi.us/cwms-data/\"\n",
    "api = init_session(api_root=api_root)"
   ]
  },
  {
   "cell_type": "markdown",
   "id": "12782fa4",
   "metadata": {},
   "source": [
    "# GET Requests"
   ]
  },
  {
   "cell_type": "markdown",
   "id": "a6c55409",
   "metadata": {},
   "source": [
    "## get location group"
   ]
  },
  {
   "cell_type": "code",
   "execution_count": null,
   "id": "d17fb27f",
   "metadata": {},
   "outputs": [],
   "source": [
    "group_id = \"test-location-group\"\n",
    "category_id = \"test-location-category\"\n",
    "office_id = \"test-office\"\n",
    "data = locations.get_location_group(group_id, category_id, office_id)\n",
    "values = data.df.to_numpy().tolist()\n"
   ]
  },
  {
   "cell_type": "code",
   "execution_count": null,
   "id": "be36c301",
   "metadata": {},
   "outputs": [],
   "source": [
    "data.json"
   ]
  },
  {
   "cell_type": "code",
   "execution_count": null,
   "id": "7a90ab4a",
   "metadata": {},
   "outputs": [],
   "source": [
    "data.df"
   ]
  },
  {
   "cell_type": "code",
   "execution_count": null,
   "id": "29a4b4af",
   "metadata": {},
   "outputs": [],
   "source": [
    "values"
   ]
  }
 ],
 "metadata": {},
 "nbformat": 4,
 "nbformat_minor": 5
}
