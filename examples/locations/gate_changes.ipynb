{
 "cells": [
  {
   "cell_type": "markdown",
   "id": "583dd40d",
   "metadata": {},
   "source": [
    "# Locations Examples\n"
   ]
  },
  {
   "cell_type": "markdown",
   "id": "7fc665ff",
   "metadata": {},
   "source": [
    "**Example generated from:** [/tests/locations/gate_changes_test.py](https://github.com/HydrologicEngineeringCenter/cwms-python/tree/main/tests/locations/gate_changes_test.py)"
   ]
  },
  {
   "cell_type": "code",
   "execution_count": null,
   "id": "1c5b5755",
   "metadata": {},
   "outputs": [],
   "source": [
    "from cwms.api import init_session\n",
    "import urllib.parse\n",
    "from datetime import datetime\n",
    "import pytz\n",
    "import cwms.api\n",
    "import cwms.locations.gate_changes as gate_changes"
   ]
  },
  {
   "cell_type": "markdown",
   "id": "5d7dbe6c",
   "metadata": {},
   "source": [
    "### Initializing the database and write access\n",
    "cwms-python will connect by default to the USACE public database available through [CWMS Data](https://cwms-data.usace.army.mil/cwms-data/). \n",
    "\n",
    "https://cwms-data.usace.army.mil/cwms-data/\n",
    "\n",
    "The apiRoot can be updated to access data directly from a USACE district database.\n",
    "* Endpoints on the [Swagger Docs page](https://cwms-data.usace.army.mil/cwms-data/swagger-ui.html) with a 🔒 icon require the apiKey be set."
   ]
  },
  {
   "cell_type": "code",
   "execution_count": null,
   "id": "1c4f8dd0",
   "metadata": {},
   "outputs": [],
   "source": [
    "api_root = \"https://cwms-data-test.cwbi.us/cwms-data/\"\n",
    "api = init_session(api_root=api_root)"
   ]
  },
  {
   "cell_type": "markdown",
   "id": "ce09bdb6",
   "metadata": {},
   "source": [
    "# GET Requests"
   ]
  },
  {
   "cell_type": "markdown",
   "id": "9758ac6c",
   "metadata": {},
   "source": [
    "## get all gate changes"
   ]
  },
  {
   "cell_type": "code",
   "execution_count": null,
   "id": "8b0a6f26",
   "metadata": {},
   "outputs": [],
   "source": [
    "office_id = \"SPK\"\n",
    "project_id = \"SPK.BIGH\"\n",
    "start = datetime.fromisoformat(\"2022-01-01T00:00:00\")\n",
    "end = datetime.fromisoformat(\"2025-01-01T00:00:00\")\n",
    "data = gate_changes.get_all_gate_changes(office_id, project_id, start, end)\n"
   ]
  },
  {
   "cell_type": "code",
   "execution_count": null,
   "id": "80ae853a",
   "metadata": {},
   "outputs": [],
   "source": [
    "data.json"
   ]
  },
  {
   "cell_type": "markdown",
   "id": "774edb16",
   "metadata": {},
   "source": [
    "# STORE Requests"
   ]
  },
  {
   "cell_type": "markdown",
   "id": "fa24f50c",
   "metadata": {},
   "source": [
    "## store gate change"
   ]
  },
  {
   "cell_type": "code",
   "execution_count": null,
   "id": "116b41ed",
   "metadata": {},
   "outputs": [],
   "source": [
    "data = _GATE_CHANGE_JSON\n",
    "gate_changes.store_gate_change(data, False)\n"
   ]
  },
  {
   "cell_type": "markdown",
   "id": "f8fa613f",
   "metadata": {},
   "source": [
    "# DELETE Requests"
   ]
  },
  {
   "cell_type": "markdown",
   "id": "e48f061e",
   "metadata": {},
   "source": [
    "## delete gate change"
   ]
  },
  {
   "cell_type": "code",
   "execution_count": null,
   "id": "e5e5046d",
   "metadata": {},
   "outputs": [],
   "source": [
    "office_id = \"SPK\"\n",
    "project_id = \"SPK.BIGH\"\n",
    "start = datetime.fromisoformat(\"2022-01-01T00:00:00\")\n",
    "end = datetime.fromisoformat(\"2025-01-01T00:00:00\")\n",
    "gate_changes.delete_gate_change(office_id, project_id, start, end)\n"
   ]
  }
 ],
 "metadata": {},
 "nbformat": 4,
 "nbformat_minor": 5
}
